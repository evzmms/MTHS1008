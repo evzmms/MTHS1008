{
 "cells": [
  {
   "cell_type": "markdown",
   "id": "exterior-darkness",
   "metadata": {},
   "source": [
    "# Guided Programming 2 - Solving Simultaneous Equations\n",
    "\n",
    "**Mathematical Methods for Chemical Engineers (MTHS1008)**\n",
    "\n",
    "**Dr Matthew Scase**\n",
    "\n",
    "We are going to solve the simultaneous equations\n",
    "\n",
    "\\begin{equation*} \n",
    "\\left\\{\\begin{array}{lcl} 3x + 4y &=& 2 \\\\ \\phantom{3}x + 2y &=& 0 \\end{array}\\right.\n",
    "\\label{eq:system} \\tag{1}\n",
    "\\end{equation*}\n",
    "\n",
    "We will \n",
    "\n",
    "- Input the two equations\n",
    "- Decide if the system has a unique solution or not\n",
    "- Solve the equations **if** there is a unique solution\n",
    "- Plot the solution (time perimitting)\n",
    "\n",
    "## Setting up the system to be solved\n",
    "\n",
    "We will want our code to be able to solve for the general simultaneous equation case\n",
    "\n",
    "\\begin{equation*}\n",
    "\\left\\{\\begin{array}{lcl} ax + by &=& u \\\\ cx + dy &=& v \\end{array}\\right.\n",
    "\\end{equation*}\n",
    "\n",
    "Hence, we will write our code to work for general input coefficients $a$, $b$, $c$, and $d$ and a general right-hand side $u$ and $v$.\n",
    "\n",
    "To get started however we will work with the specific equation given above in \\eqref{eq:system}.  To enter the first equation in \\eqref{eq:system} we therefore require $a = 3$, $b = 4$, and $u = 2$."
   ]
  },
  {
   "cell_type": "code",
   "execution_count": 1,
   "id": "burning-valentine",
   "metadata": {},
   "outputs": [],
   "source": [
    "# INPUT EQUATION 3x + 4y = 2 \n",
    "a = 3\n",
    "b = 4\n",
    "u = 2"
   ]
  },
  {
   "cell_type": "markdown",
   "id": "lasting-building",
   "metadata": {},
   "source": [
    "To enter the second equation in system (1) we need to take $c = 1$, $d = 2$, and $v = 0$."
   ]
  },
  {
   "cell_type": "code",
   "execution_count": 2,
   "id": "executive-survivor",
   "metadata": {},
   "outputs": [],
   "source": [
    "# INPUT EQUATION  x + 2y = 0 \n",
    "c = 1\n",
    "d = 2\n",
    "v = 0"
   ]
  },
  {
   "cell_type": "markdown",
   "id": "available-editing",
   "metadata": {},
   "source": [
    "## Solving our system of equations\n",
    "\n",
    "Next we need to calculate the solution of our simultaneous equations.  We will take particular care not to divide through by any quantity that might be zero to ensure we do not get a `ZeroDivisionError`.\n",
    "\n",
    "Working in the general case again, we can begin by multiplying the first equation through by $d$ and the second equation through by $b$ to get\n",
    "\n",
    "\\begin{equation*}\n",
    "\\left\\{\\begin{array}{lcl} adx + bdy &=& du \\\\ bcx + bdy &=& bv \\end{array}\\right.\n",
    "\\end{equation*}\n",
    "\n",
    "Subtracting the lower equation from the upper equation we find\n",
    "\n",
    "\\begin{equation*}\n",
    "\\left(ad - bc\\right)x = du - bv.\n",
    "\\end{equation*}\n",
    "\n",
    "This is of a form we recognize (see Lecture 1 on $ax = b$). **If** we have that $ad-bc\\ne0$ we have a unique solution for $x$ given by\n",
    "\n",
    "\\begin{equation*}\n",
    "x = \\frac{du - bv}{ad - bc}.\n",
    "\\label{eq:x1sol} \\tag{2}\n",
    "\\end{equation*}\n",
    "\n",
    "Alternatively, we could have multiplied the first equation through by $c$ and the second equation through by $a$ to get\n",
    "\n",
    "\\begin{equation*}\n",
    "\\left\\{\\begin{array}{lcl} acx + bcy &=& cu \\\\ acx + ady &=& av \\end{array}\\right.\n",
    "\\end{equation*}\n",
    "\n",
    "This time we subtract the upper equation from the lower equation to find\n",
    "\n",
    "\\begin{equation*}\n",
    "\\left(ad - bc\\right)y = av - cu.\n",
    "\\end{equation*}\n",
    "\n",
    "Again, this is of a form we recognize and again, **if** we have that $ad-bc\\ne0$ we have a unique solution for $y$ given by\n",
    "\n",
    "\\begin{equation*}\n",
    "y = \\frac{av - cu}{ad - bc}.\n",
    "\\label{eq:x2sol} \\tag{3}\n",
    "\\end{equation*}\n",
    "\n",
    "We observe that **if** $ad - bc \\ne 0$ we have a unique solution for our system and we can evaluate our solution in Python using \\eqref{eq:x1sol} and \\eqref{eq:x2sol}.  \n",
    "\n",
    "**If** we have a unique solution we will store our solution in the variables `x` and `y` and then print out our solution."
   ]
  },
  {
   "cell_type": "code",
   "execution_count": 3,
   "id": "incident-therapist",
   "metadata": {},
   "outputs": [
    {
     "name": "stdout",
     "output_type": "stream",
     "text": [
      "Solution: x = 2.0 , y = -1.0\n"
     ]
    }
   ],
   "source": [
    "# CALCULATE SOLUTION\n",
    "\n",
    "x = (d*u - b*v)/(a*d - b*c)\n",
    "y = (a*v - c*u)/(a*d - b*c)\n",
    "print('Solution: x =', x, ', y =', y)"
   ]
  },
  {
   "cell_type": "code",
   "execution_count": 4,
   "id": "legendary-maria",
   "metadata": {},
   "outputs": [
    {
     "name": "stdout",
     "output_type": "stream",
     "text": [
      "Solution: x = 2.0 , y = -1.0\n"
     ]
    }
   ],
   "source": [
    "# CALCULATE SOLUTION OR TELL USER IF THERE IS NOT A UNIQUE SOLUTION\n",
    "\n",
    "if a*d - b*c == 0: # Check to see if ad - bc = 0\n",
    "    print('No unique solution')\n",
    "else:\n",
    "    x = (d*u - b*v)/(a*d - b*c)\n",
    "    y = (a*v - c*u)/(a*d - b*c)\n",
    "    print('Solution: x =', x, ', y =', y)"
   ]
  },
  {
   "cell_type": "code",
   "execution_count": 5,
   "id": "several-creator",
   "metadata": {},
   "outputs": [
    {
     "name": "stdout",
     "output_type": "stream",
     "text": [
      "Solution: x = 2.0 , y = -1.0\n"
     ]
    }
   ],
   "source": [
    "# CALCULATE SOLUTION OR TELL USER IF THERE ARE INFINITELY MANY OR NO SOLUTIONS\n",
    "\n",
    "if a*d - b*c == 0: # Check to see if ad - bc = 0\n",
    "    print('No unique solution')\n",
    "    if u*d - b*v == 0 and a*v - c*u == 0:\n",
    "        print('Infinitely many solutions')\n",
    "    else:\n",
    "        print('No solutions')\n",
    "else:\n",
    "    x = (d*u - b*v)/(a*d - b*c)\n",
    "    y = (a*v - c*u)/(a*d - b*c)\n",
    "    print('Solution: x =', x, ', y =', y)"
   ]
  },
  {
   "cell_type": "markdown",
   "id": "working-length",
   "metadata": {},
   "source": [
    "## Exercise\n",
    "\n",
    "- Modify the code so that the user can input their equations without having to change the program.  You can do this using the\n",
    "        \n",
    "        variable = float(input('Text Prompt'))\n",
    "        \n",
    "    command.\n",
    "    \n",
    "## Plotting our equations\n",
    "\n",
    "To plot these two equations we choose a horizontal range, say $0 \\leqslant x \\leqslant 4$, and can find the corresponding values of $y$ by rearranging our general equations.  For the first equation\n",
    "\\begin{equation*}\n",
    "ax + by = u \\quad\\Rightarrow\\quad y = \\frac{u - ax}{b}.\n",
    "\\tag{4}\n",
    "\\end{equation*}\n",
    "[We can observe that this is a straight line as it is in the form $y = mx + c$ where the gradient of our straight line is given by $m = -a/b$ and the intercept at $x=0$ is given by $y = u/b$.]\n",
    "\n",
    "For the second equation\n",
    "\\begin{equation*}\n",
    "cx + dy = v \\quad\\Rightarrow\\quad y = \\frac{v - cx}{d}.\n",
    "\\tag{5}\n",
    "\\end{equation*}\n",
    "\n",
    "As we wish to plot some lines we need to import the `matplotlib.pyplot` Python plotting tools.  To save ourselves typing out `matplotlib.pyplot.plot( ... ` each time we will import the module `as plt`."
   ]
  },
  {
   "cell_type": "code",
   "execution_count": 6,
   "id": "stunning-diving",
   "metadata": {},
   "outputs": [],
   "source": [
    "import matplotlib.pyplot as plt"
   ]
  },
  {
   "cell_type": "markdown",
   "id": "explicit-attribute",
   "metadata": {},
   "source": [
    "There are many ways to plot a straight line in Python.  One method is to specify two points in the $(x, y)$ plane and get Python to plot the two points connected by a straight line.  This is what we will do here.\n",
    "\n",
    "We would like the horizontal range to be $0 \\leqslant x \\leqslant 4$.  We are therefore going to draw a straight line between two points, the first point will have $x$-coordinate 0 and the second point will have $x$-coordinate 4.  We can input this into Python as\n",
    "\n",
    "    x_points = [0, 4]\n",
    "    \n",
    "This defines a variable called `x_points` that is a [**list**](https://www.tutorialspoint.com/python/python_lists.htm) that contains two entries.  `x_points[0]` contains the $x$-coordinate of the first point defining our line.  `x_points[1]` contains the $x$-coordinate of the second point defining our line.\n",
    "\n",
    "We now need to calculate the two $y$-coordinates that correspond to these two $x$-coordinates.  One way to do this is using a [**list comprehension**](https://www.pythonforbeginners.com/basics/list-comprehensions-in-python).  For our first equation we know that given an $x$ value we have a corresponding $y$ value given by (4).  So we write\n",
    "\n",
    "    y_points = [(u - a*x)/b for x in x_points]\n",
    "    \n",
    "Here Python works through every value of `x` that it finds in the list `x_points`, calculates the new number $(u - ax)/b$ for that value of `x`, and then adds this new number to the list `y_points`."
   ]
  },
  {
   "cell_type": "code",
   "execution_count": 7,
   "id": "intellectual-marriage",
   "metadata": {},
   "outputs": [
    {
     "name": "stdout",
     "output_type": "stream",
     "text": [
      "cats\n"
     ]
    }
   ],
   "source": [
    "list_variable = ['cats', 'dogs', 'fish']\n",
    "print(list_variable[0])"
   ]
  },
  {
   "cell_type": "code",
   "execution_count": 8,
   "id": "behavioral-story",
   "metadata": {},
   "outputs": [
    {
     "name": "stdout",
     "output_type": "stream",
     "text": [
      "x_points = [0, 4]\n",
      "y_points = [0.5, -2.5]\n"
     ]
    }
   ],
   "source": [
    "x_points = [0, 4]\n",
    "y_points = [(u - a*x)/b for x in x_points]\n",
    "print('x_points =', x_points)\n",
    "print('y_points =', y_points)"
   ]
  },
  {
   "cell_type": "markdown",
   "id": "atmospheric-instrumentation",
   "metadata": {},
   "source": [
    "We see that `y_points` is a list containing the two $y$-coordinate points that correspond to the two $x$-coordinate points in `x_points`.  We can now plot the line representing the first equation using the `plt.plot` command.  The format is\n",
    "\n",
    "    plt.plot(x-coordinates, y-coordinates, plotting format)\n",
    "    \n",
    "If we want Python to join our points together with a straight line we use the plotting format `'-'`.  Other plotting styles are also available, *e.g.*, individual data points `'o'`, a dashed line `'--'`, individual data points connected by straight lines `'o-'`.  \n",
    "\n",
    "To plot our first equation therefore we use\n",
    "\n",
    "    plt.plot(x_points, y_points, '-')"
   ]
  },
  {
   "cell_type": "code",
   "execution_count": 9,
   "id": "offensive-determination",
   "metadata": {},
   "outputs": [
    {
     "data": {
      "image/png": "[encoded data removed]",
      "text/plain": [
       "<Figure size 432x288 with 1 Axes>"
      ]
     },
     "metadata": {
      "needs_background": "light"
     },
     "output_type": "display_data"
    }
   ],
   "source": [
    "plt.plot(x_points, y_points, '-');"
   ]
  },
  {
   "cell_type": "markdown",
   "id": "minor-depression",
   "metadata": {},
   "source": [
    "Python has plotted a straight line connecting the first point $(0, 0.5)$ to the second point $(4, -2.5)$ which corresponds to our equation $3x + 4y = 2$.  Everywhere on this line this equation is true.\n",
    "\n",
    "Let us plot both equations and label our axes using the\n",
    "\n",
    "    plt.xlabel('x label text')\n",
    "    plt.ylabel('y label text')\n",
    "    \n",
    "commands."
   ]
  },
  {
   "cell_type": "code",
   "execution_count": 10,
   "id": "falling-fourth",
   "metadata": {},
   "outputs": [
    {
     "data": {
      "image/png": "[encoded data removed]",
      "text/plain": [
       "<Figure size 432x288 with 1 Axes>"
      ]
     },
     "metadata": {
      "needs_background": "light"
     },
     "output_type": "display_data"
    }
   ],
   "source": [
    "# Set Range for plotting\n",
    "x_points = [0, 4]\n",
    "# ........... Plot First equation (blue)\n",
    "y_points = [(u - a*x)/b for x in x_points]\n",
    "plt.plot(x_points, y_points, '-')\n",
    "# ........ Plot Second equation (orange)\n",
    "y_points = [(v - c*x)/d for x in x_points]\n",
    "plt.plot(x_points, y_points, '-')\n",
    "# ........................... Label axes\n",
    "plt.xlabel('$x$')\n",
    "plt.ylabel('$y$', rotation = 0);"
   ]
  },
  {
   "cell_type": "markdown",
   "id": "prepared-pacific",
   "metadata": {},
   "source": [
    "The blue line connects the two points $(0, 0.5)$ and $(4, -2.5)$ which corresponds to our equation $3x + 4y = 2$.  The orange line connects the two points $(0, 0)$ and $(4, -2)$ which corresponds to our equation $x + 2y = 0$.  \n",
    "\n",
    "At the special point where the two lines cross, the values of $x$ and $y$ make both of our equations true at the same time, i.e., *simultaneously*."
   ]
  },
  {
   "cell_type": "markdown",
   "id": "exclusive-chinese",
   "metadata": {},
   "source": [
    "Finally we plot our solution and observe that it is the unique point that lies on both lines representing our equations in (1), *i.e.*, the solution lies at the intersection of the two lines.\n",
    "\n",
    "To plot the single point $(x, y)$ as a round data point we can use the plotting format `'o'`\n",
    "\n",
    "    plt.plot(x, y, 'o')\n",
    "    \n",
    "The colours that have been chosen for our two equations and the solution are selected automatically.  We can force Python to choose colours of our specification if we wish.\n",
    "\n",
    "Finally we need to provide a key or `legend` for the different elements of our plot.  We can use the `plt.legend` command which requires a list of text strings that correspond to the plotted elements in the order in which we plotted them.  In this case therefore we use\n",
    "\n",
    "    plt.legend(['Equation 1', 'Equation 2', 'Solution'])"
   ]
  },
  {
   "cell_type": "code",
   "execution_count": 11,
   "id": "radio-supply",
   "metadata": {},
   "outputs": [
    {
     "data": {
      "image/png": "[encoded data removed]",
      "text/plain": [
       "<Figure size 432x288 with 1 Axes>"
      ]
     },
     "metadata": {
      "needs_background": "light"
     },
     "output_type": "display_data"
    }
   ],
   "source": [
    "# Set Range for plotting\n",
    "x_points = [0, 4]\n",
    "# ........... Plot First equation (blue)\n",
    "y_points = [(u - a*x)/b for x in x_points]\n",
    "plt.plot(x_points, y_points, '-')\n",
    "# ........ Plot Second equation (orange)\n",
    "y_points = [(v - c*x)/d for x in x_points]\n",
    "plt.plot(x_points, y_points, '-')\n",
    "# ................ Plot Solution (green)\n",
    "plt.plot(x, y, 'o')\n",
    "# ........................... Label axes\n",
    "plt.xlabel('$x$')\n",
    "plt.ylabel('$y$', rotation = 0);\n",
    "plt.legend(['Equation 1', 'Equation 2', 'Solution']);"
   ]
  }
 ],
 "metadata": {
  "kernelspec": {
   "display_name": "Python 3",
   "language": "python",
   "name": "python3"
  },
  "language_info": {
   "codemirror_mode": {
    "name": "ipython",
    "version": 3
   },
   "file_extension": ".py",
   "mimetype": "text/x-python",
   "name": "python",
   "nbconvert_exporter": "python",
   "pygments_lexer": "ipython3",
   "version": "3.9.2"
  }
 },
 "nbformat": 4,
 "nbformat_minor": 5
}
