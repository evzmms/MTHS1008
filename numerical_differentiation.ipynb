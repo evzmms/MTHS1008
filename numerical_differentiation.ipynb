{
 "cells": [
  {
   "cell_type": "markdown",
   "id": "intense-diversity",
   "metadata": {},
   "source": [
    "# Guided Programming 5 - Numerical Differentiation \n",
    "\n",
    "**Mathematical Methods for Chemical Engineers (MTHS1008)**\n",
    "\n",
    "**Dr Matthew Scase**\n",
    "\n",
    "- In this exercise we will write Python code that will evaluate the derivative of a function $f$ without having to mathematically find the derivative itself\n",
    "\n",
    "- We will use the definition of differentiation from the lectures to approximate the derivative of $f$ at a user-specified point $x = x_0$\n",
    "\n",
    "- The derivative will be calculated in a single line of code\n",
    "\n",
    "- The technique we are using is known as \"[Forward Euler](https://en.wikipedia.org/wiki/Euler_method)\"\n",
    "\n",
    "## Independent Checking\n",
    "\n",
    "- Suppose you and a colleague at work, as part of a larger task, are asked to evaluate $f'(2)$ for the function $f$ defined by $f(x) = x^x$ over a domain $0 < x < \\infty$.\n",
    "\n",
    "- You correctly suggest that you begin by sketching the curve and produce the plot shown in Figure 1.  The point at which you wish to find the gradient is at $x=2$ and is denoted $(x_0, y_0)$."
   ]
  },
  {
   "cell_type": "markdown",
   "id": "dirty-dover",
   "metadata": {},
   "source": [
    "<div style=\"text-align:center;\">\n",
    "<img src=\"numerical_diff_1.png\" alt=\"figure\" width = \"460\"/>\n",
    "    <strong><center>Figure 1</center></strong>\n",
    "</div>"
   ]
  },
  {
   "cell_type": "markdown",
   "id": "african-forest",
   "metadata": {},
   "source": [
    "- Your colleague then produces the following line of reasoning: <br/> <br/>\n",
    "\n",
    "    - \"I remember that when we differentiate $f(x) = x^n$ with respect to $x$ we get\n",
    "    $f'(x) = nx^{n-1}$.\" <br/> <br/>\n",
    "      \"True\" you say. [You’re right!] <br/> <br/> Then your colleague says <br/> <br/>\n",
    "    - \"The problem we have is of the same form; we just need to take $n=x$.  We can therefore 'sub in' to the same formula to get $f'(x) = x\\cdot x^{x-1}$.  So for $x=2$ we have $f'(2) = 2\\times2^1 = 4$.\" <br/> <br/>\n",
    "        \"Hmmm\", you say, not convinced.  \"That doesn’t look right to me.  It looks steeper than that on the graph, I think the answer is greater than 4.\" <br/> <br/>[You’re right!  A line of gradient 4 that passes through $(x_0, y_0$) is shown in Figure 2 and you can see that it is not steep enough to be the tangent line.]<br/> <br/> \n",
    "\n",
    "<div style=\"text-align:center;\">\n",
    "<img src=\"numerical_diff_2.png\" alt=\"figure\" width = \"460\"/>\n",
    "    <strong><center>Figure 2</center></strong>\n",
    "</div>\n",
    "\n",
    "- \"Well, I think I’m right, where’s my maths gone wrong?  Show me I’m wrong.\"\n",
    "\n",
    "## Calculating a derivative numerically\n",
    "\n",
    "- We will use the definition of differentiation to calculate the derivative\n",
    "\n",
    "$$f'(x_0) = \\lim_{h\\to0}\\frac{f(x_0 + h) - f(x_0)}{h}$$\n",
    "\n",
    "- We cannot \"take the limit as $h\\to0$\" numerically\n",
    "\n",
    "- We can evaluate the expression above for decreasing values of $h$\n",
    "\n",
    "First of all, let's set up a **list** containing some decreasing values of our \"step size\" $h$.  What we want to see is that as our values of $h$ get smaller and smaller our numerical approximation tends to some fixed value, our approximation to $f'(x_0)$.  \n",
    "\n",
    "If we let an integer, $i$, go from 1 to 7 and define our step sizes to be $10^{-i}$ then we will have a list containing the values $10^{-1}, 10^{-2}, \\ldots, 10^{-7}$.  Let's call the list that contains our decreasing values of $h$ `h_list`."
   ]
  },
  {
   "cell_type": "code",
   "execution_count": null,
   "id": "laughing-connecticut",
   "metadata": {},
   "outputs": [],
   "source": [
    "h_list = [10**(-i) for i in range(1, 8)]"
   ]
  },
  {
   "cell_type": "markdown",
   "id": "unsigned-saint",
   "metadata": {},
   "source": [
    "We can check that we have got a decreasing list of step sizes, $h$, by printing out the elements of our list `h_list`."
   ]
  },
  {
   "cell_type": "code",
   "execution_count": null,
   "id": "perfect-function",
   "metadata": {},
   "outputs": [],
   "source": [
    "print(h_list)"
   ]
  },
  {
   "cell_type": "markdown",
   "id": "peripheral-clarity",
   "metadata": {},
   "source": [
    "Note that Python uses \"exp\" notation to denote powers of 10.  The entry `1e-05` means $10^{-5}$.\n",
    "\n",
    "We need to tell Python the value of $x$ that we wish to determine the gradient of $f(x)$ at."
   ]
  },
  {
   "cell_type": "code",
   "execution_count": null,
   "id": "starting-shelter",
   "metadata": {},
   "outputs": [],
   "source": [
    "x0 = 2"
   ]
  },
  {
   "cell_type": "markdown",
   "id": "conservative-printer",
   "metadata": {},
   "source": [
    "Now we can use the definition of the derivative to approximate the gradient.  For each step size $h$ we have in `h_list`, we wish to calculate the corresponding approximation to the gradient \n",
    "\n",
    "        ( f(x0 + h) - f(x0) )/h\n",
    "    \n",
    "This is the only line of the code in which the definition of our function appears.  This makes it very easy to change the code to evaluate the derivative of ***any* function** you like.\n",
    "\n",
    "For every value of $h$ in `h_list` we need to calculate $f(x_0 + h)$ and $f(x_0)$.  For the function we are interested in we have that $f(x_0 + h) = (x_0 + h)^{x_0 + h}$, or in Python `(x0 + h)**(x0 + h)`.  We also have that $f(x_0) = x_0^{x_0}$ which in Python is `x0**x0`.  Hence our approximation to the derivative for a given value of $h$ in this case is\n",
    "\n",
    "        ( (x0 + h)**(x0 + h) - x0**x0 )/h\n",
    "\n",
    "We can use a list comprehension to calculate the approximation to the derivative for every value of $h$ in `h_list` and store the value in another list, let's call it `f_dash`."
   ]
  },
  {
   "cell_type": "code",
   "execution_count": null,
   "id": "worldwide-filling",
   "metadata": {},
   "outputs": [],
   "source": [
    "f_dash = [((x0 + h)**(x0 + h) - x0**x0)/h for h in h_list]"
   ]
  },
  {
   "cell_type": "markdown",
   "id": "noticed-origin",
   "metadata": {},
   "source": [
    "**That's it!** \n",
    "\n",
    "We now have our numerical approximation to the derivative and we can print our approximations to the screen.  Remember we are hoping to see our approximation **converge** to some fixed value as $h$ decreases."
   ]
  },
  {
   "cell_type": "code",
   "execution_count": null,
   "id": "spiritual-active",
   "metadata": {},
   "outputs": [],
   "source": [
    "for i in range(7):\n",
    "    print('h =', h_list[i], 'f' + chr(39) + '(x0) =', f_dash[i])"
   ]
  },
  {
   "cell_type": "markdown",
   "id": "authentic-shoot",
   "metadata": {},
   "source": [
    "When we tabulate our results we see that as $h$ decreases, the value of our approximation to $f'(x_0)$ tends towards $6.773$, significantly greater than 4!\n",
    "\n",
    "| $\\qquad i \\qquad$ | $\\qquad h \\quad\\qquad$   | $\\qquad f'(x_0) \\qquad$ |\n",
    "|-|-|:-:|\n",
    "| $\\qquad 1 \\qquad$   | $\\qquad 10^{-1} \\qquad$    | $\\qquad 7.496 \\qquad$   |\n",
    "| $\\qquad 2 \\qquad$   | $\\qquad 10^{-2} \\qquad$    | $\\qquad 6.840 \\qquad$   |\n",
    "| $\\qquad 3 \\qquad$   | $\\qquad 10^{-3} \\qquad$    | $\\qquad 6.779 \\qquad$   |\n",
    "| $\\qquad 4 \\qquad$   | $\\qquad 10^{-4} \\qquad$    | $\\qquad 6.773 \\qquad$   |\n",
    "| $\\qquad 5 \\qquad$   | $\\qquad 10^{-5} \\qquad$    | $\\qquad 6.773 \\qquad$   |\n",
    "| $\\qquad 6 \\qquad$   | $\\qquad 10^{-6} \\qquad$    | $\\qquad 6.773 \\qquad$   |\n",
    "| $\\qquad 7 \\qquad$   | $\\qquad 10^{-7} \\qquad$    | $\\qquad 6.773 \\qquad$   |"
   ]
  },
  {
   "cell_type": "markdown",
   "id": "alike-oakland",
   "metadata": {},
   "source": [
    "- You tell your colleague that their calculation of $f'(2) = 4$ looks wrong, your numerical calculation suggests $f'(2) \\approx 6.773$ which is quite different — it is a fair bit larger than 4, as you expected.\n",
    "\n",
    "\n",
    "- You show them your numerical output.\n",
    "\n",
    "\n",
    "- Not convinced your colleague says “I don’t believe your numerics, try it again with negative values of $h$ - it won’t work.  Rubbish in, rubbish out!”"
   ]
  },
  {
   "cell_type": "code",
   "execution_count": null,
   "id": "hazardous-dealer",
   "metadata": {},
   "outputs": [],
   "source": [
    "h_list = [-10**(-i) for i in range(1, 8)]\n",
    "f_dash = [((x0 + h)**(x0 + h) - x0**x0)/h for h in h_list]\n",
    "for i in range(7):\n",
    "    print('h =', h_list[i], 'f' + chr(39) + '(x0) =', f_dash[i])"
   ]
  },
  {
   "cell_type": "markdown",
   "id": "spare-administrator",
   "metadata": {},
   "source": [
    "Tabulating the two sets of results, we see that it doesn't matter whether $h$ is positive or negative, the numerical approximation converges to the same value.\n",
    "\n",
    "| $\\qquad i \\qquad$ | $\\qquad h \\quad\\qquad$   | $\\qquad f'(x_0) \\qquad$ | $\\qquad$ | $\\qquad h \\quad\\qquad$   | $\\qquad f'(x_0) \\qquad$ |\n",
    "|-|-|-|-|-|-|\n",
    "| $\\qquad 1 \\qquad$   | $\\qquad 10^{-1} \\qquad$    | $\\qquad 7.496 \\qquad$   | $\\qquad$   | $\\qquad -10^{-1} \\qquad$    | $\\qquad 6.144 \\qquad$   |\n",
    "| $\\qquad 2 \\qquad$   | $\\qquad 10^{-2} \\qquad$    | $\\qquad 6.840 \\qquad$   | $\\qquad$   | $\\qquad -10^{-2} \\qquad$    | $\\qquad 6.706 \\qquad$   |\n",
    "| $\\qquad 3 \\qquad$   | $\\qquad 10^{-3} \\qquad$    | $\\qquad 6.779 \\qquad$   | $\\qquad$   | $\\qquad -10^{-3} \\qquad$    | $\\qquad 6.766 \\qquad$   |\n",
    "| $\\qquad 4 \\qquad$   | $\\qquad 10^{-4} \\qquad$    | $\\qquad 6.773 \\qquad$   | $\\qquad$   | $\\qquad -10^{-4} \\qquad$    | $\\qquad 6.772 \\qquad$   |\n",
    "| $\\qquad 5 \\qquad$   | $\\qquad 10^{-5} \\qquad$    | $\\qquad 6.773 \\qquad$   | $\\qquad$   | $\\qquad -10^{-5} \\qquad$    | $\\qquad 6.773 \\qquad$   |\n",
    "| $\\qquad 6 \\qquad$   | $\\qquad 10^{-6} \\qquad$    | $\\qquad 6.773 \\qquad$   | $\\qquad$   | $\\qquad -10^{-6} \\qquad$    | $\\qquad 6.773 \\qquad$   |\n",
    "| $\\qquad 7 \\qquad$   | $\\qquad 10^{-7} \\qquad$    | $\\qquad 6.773 \\qquad$   | $\\qquad$   | $\\qquad -10^{-7} \\qquad$    | $\\qquad 6.773 \\qquad$   |\n",
    "\n",
    "- \"The result is the same\", you say, \"the answer is definitely not $f'(2) = 4$, it’s approximately $f'(2)\\approx 6.773$\"."
   ]
  },
  {
   "cell_type": "markdown",
   "id": "rising-workplace",
   "metadata": {},
   "source": [
    "<div style=\"text-align:center;\">\n",
    "<img src=\"numerical_diff_3.png\" alt=\"figure\" width = \"460\"/>\n",
    "    <strong><center>Figure 3</center></strong>\n",
    "</div>"
   ]
  },
  {
   "cell_type": "markdown",
   "id": "whole-opera",
   "metadata": {},
   "source": [
    "## Comparison with the exact answer\n",
    "\n",
    "- Knowing that your colleague’s answer is wrong you re-visit the mathematical argument now knowing what the correct answer should be, and that the derivative of $f(x)$ is certainly not $f'(x) = x\\cdot x^{x-1}$.\n",
    "\n",
    "\n",
    "- By taking logarithms and using the chain rule you are able to show that <br/>\n",
    "\\begin{equation}\n",
    "\\begin{array}{rrcll} \n",
    " & f(x) & = &  x^x \\\\[1ex]\n",
    "\\Rightarrow & \\ln f(x) & = & x\\ln x \\\\[1ex]\n",
    "\\Rightarrow & \\displaystyle \\frac{1}{f(x)}\\frac{\\textrm{d}f}{\\textrm{d}x} & = & \\displaystyle x\\cdot\\frac{1}{x} + 1\\cdot\\ln x \\\\[1ex]\n",
    "\\Rightarrow & \\displaystyle \\frac{\\textrm{d}f}{\\textrm{d}x} & = & f(x)\\left[1 + \\ln x\\right] & = & x^x\\left[1 + \\ln x\\right]\n",
    "\\end{array}\n",
    "\\end{equation}  <br/>\n",
    "    and hence $f'(2)= 4\\times(1 + \\ln ⁡2 ) \\approx 6.773$ matching your numerical approximation exactly. <br/>\n",
    "    \n",
    "    \n",
    "- Your show your colleague the plot in Figure 3.  Utterly defeated, they sulk all afternoon, but you get a double thumbs-up from the boss."
   ]
  }
 ],
 "metadata": {
  "kernelspec": {
   "display_name": "Python 3",
   "language": "python",
   "name": "python3"
  },
  "language_info": {
   "codemirror_mode": {
    "name": "ipython",
    "version": 3
   },
   "file_extension": ".py",
   "mimetype": "text/x-python",
   "name": "python",
   "nbconvert_exporter": "python",
   "pygments_lexer": "ipython3",
   "version": "3.9.2"
  }
 },
 "nbformat": 4,
 "nbformat_minor": 5
}
