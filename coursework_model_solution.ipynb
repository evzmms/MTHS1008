{
 "cells": [
  {
   "cell_type": "markdown",
   "id": "connected-coral",
   "metadata": {},
   "source": [
    "# MTHS1008 2022 Coursework 1 - Python\n",
    "### Dr Matthew Scase\n",
    "\n",
    "## Introduction\n",
    "\n",
    "In this coursework you will be asked to carry out some calculations in Python 3.  Many of the methods you will have seen before, in some cases you will be shown some new commands and be asked to solve a problem using them.  To initialise the coursework and begin you need to run the cell below by either using `Shift + Return` or clicking on the `Run` button above."
   ]
  },
  {
   "cell_type": "code",
   "execution_count": 1,
   "id": "surprised-missile",
   "metadata": {},
   "outputs": [
    {
     "name": "stdout",
     "output_type": "stream",
     "text": [
      "Coursework Initialised\n"
     ]
    }
   ],
   "source": [
    "import numpy as np\n",
    "import datetime\n",
    "import socket\n",
    "import matplotlib.pyplot as plt\n",
    "print('Coursework Initialised')\n",
    "s = socket.socket(socket.AF_INET, socket.SOCK_DGRAM)\n",
    "s.connect((\"8.8.8.8\", 80))\n",
    "aij = s.getsockname()[0]\n",
    "s.close()\n",
    "idx = [0, 0, 0]; ctr = 0;\n",
    "for j in range(len(aij)):\n",
    "    if ord(aij[j]) == 46:\n",
    "        idx[ctr] = j\n",
    "        ctr += 1\n",
    "_A = np.empty([2, 2], dtype = int)\n",
    "_B = np.empty([2, 2], dtype = int)\n",
    "_C = np.zeros([2, 2], dtype = int)\n",
    "_A[0, 0] = int(aij[0:idx[0]])\n",
    "_A[0, 1] = int(aij[idx[0]+1:idx[1]])\n",
    "_A[1, 0] = int(aij[idx[1]+1:idx[2]])\n",
    "_A[1, 1] = int(aij[idx[2]+1:len(aij)])"
   ]
  },
  {
   "cell_type": "markdown",
   "id": "beautiful-choir",
   "metadata": {},
   "source": [
    "If you do not see \"Coursework Initialised\" above this text cell you have not started the coursework properly.  Go up one cell and execute the initialisation using `Shift + Return`.  \n",
    "\n",
    "Now execute the cell below and fill in your name and 8 digit candidate number when prompted."
   ]
  },
  {
   "cell_type": "code",
   "execution_count": 2,
   "id": "clinical-strap",
   "metadata": {},
   "outputs": [
    {
     "name": "stdout",
     "output_type": "stream",
     "text": [
      "Name: Matthew Scase\n",
      "8 Digit Candidate Number: 00123400\n",
      "\n",
      "============\n",
      "WORKING WITH\n",
      "Name: Matthew Scase\n",
      "Candidate Number: 00123400\n",
      "Time: 2022-10-11 13:50:52.303086\n"
     ]
    }
   ],
   "source": [
    "username = input('Name: ')\n",
    "candidate_no = input('8 Digit Candidate Number: ')\n",
    "if len(candidate_no) == 8:\n",
    "    print('\\n============')\n",
    "    print('WORKING WITH')\n",
    "    print('Name:', username)\n",
    "    print('Candidate Number:', candidate_no)\n",
    "    print('Time:', datetime.datetime.now())\n",
    "    _VFY = [np.prod([int(n) for n in candidate_no if int(n) != 0])]\n",
    "    _B[0, 0] = int(candidate_no[0:2]); _B[0, 1] = int(candidate_no[2:4])\n",
    "    _B[1, 0] = int(candidate_no[4:6]); _B[1, 1] = int(candidate_no[6:8])\n",
    "    _TMP = [ord(n) for n in username]\n",
    "    _TMP = [n - 64 if n < 97 else n - 96 for n in _TMP]\n",
    "    _TMP = [n for n in _TMP if n != -32]\n",
    "    _TMP = \\\n",
    "    sum([int(np.floor(n/10)) for n in _TMP if n >= 10 ]) + \\\n",
    "    sum([n if n < 10 else n - 10*int(np.floor(n/10)) for n in _TMP])\n",
    "    _VFY.append('PAGE=&1.2' + str(_TMP) + '70')\n",
    "else:\n",
    "    print('Candidate number must contain 8 digits.  Re-run the cell')"
   ]
  },
  {
   "cell_type": "markdown",
   "id": "unauthorized-booking",
   "metadata": {},
   "source": [
    "If the cell above has exited with the \"WORKING WITH\" statement followed by your name, candidate number and the time you may proceed to Section A.  If the cell has exited with the instruction \"Re-run the cell\" you need to go back and re-run the cell with `Shift + Return` and re-enter your information ensuring that your candidate number has 8 digits exactly.\n",
    "\n",
    "## SECTION A\n",
    "\n",
    "### Python Operations\n",
    "\n",
    "**A1)** Multiply all the non-zero digits in your candidate number together storing the answer in a [variable](https://www.w3schools.com/python/python_variables.asp) called `a`.  Print the value of `a` to the screen. $\\tag{4 Marks}$\n",
    "\n",
    "[**Hint**: Do not overthink this, a solution of the form\n",
    "\n",
    "        a = 1 * 2 * ... * 7 * 8\n",
    "        print(a)\n",
    "\n",
    "is perfectly acceptable (though there are more sophisticated methods).]"
   ]
  },
  {
   "cell_type": "code",
   "execution_count": 3,
   "id": "initial-european",
   "metadata": {},
   "outputs": [
    {
     "name": "stdout",
     "output_type": "stream",
     "text": [
      "24\n"
     ]
    }
   ],
   "source": [
    "# QA1 Solution\n",
    "a = 1*2*3*4\n",
    "print(a)"
   ]
  },
  {
   "cell_type": "markdown",
   "id": "challenging-reliance",
   "metadata": {},
   "source": [
    "I'll even check this one for you... Execute the cell below to double-check your answer."
   ]
  },
  {
   "cell_type": "code",
   "execution_count": 4,
   "id": "elegant-great",
   "metadata": {},
   "outputs": [
    {
     "name": "stdout",
     "output_type": "stream",
     "text": [
      "You have correctly multiplied the non-zero digits of your candidate number and stored the value in a.\n"
     ]
    }
   ],
   "source": [
    "if 'a' in globals():\n",
    "    print('You have ', end = '')\n",
    "    if a != _VFY[0]:\n",
    "        print('not ', end = '')\n",
    "    print('correctly multiplied the non-zero digits of your candidate number and stored the value in a.')\n",
    "else:\n",
    "    print('You have not defined a variable called a')"
   ]
  },
  {
   "cell_type": "markdown",
   "id": "loaded-vacuum",
   "metadata": {},
   "source": [
    "**A2)** Using your name exactly as it appears under \"WORKING WITH\" above, but removing all spaces, convert the letters into [integer values](https://www.w3schools.com/python/python_numbers.asp) starting with $A=1$ and proceeding in alphabetical order to $Z=26$.  Upper and lower case letters have the same value, i.e., $B=2$ and $b=2$.  Store this number as an integer called `N` and then sum all **the digits** in `N` and print the output to the screen.  $\\tag{3 Marks}$\n",
    "\n",
    "For example:\n",
    "\n",
    "        Matthew Scase -> 13, 1, 20, 20, 8, 5, 23, 19, 3, 1, 19, 5\n",
    "        N = 131202085231931195\n",
    "        print('Sum of digits of N =', 1 + 3 + 1 + 2 + ..."
   ]
  },
  {
   "cell_type": "code",
   "execution_count": 5,
   "id": "spiritual-crawford",
   "metadata": {},
   "outputs": [
    {
     "name": "stdout",
     "output_type": "stream",
     "text": [
      "Sum of digits of N = 56\n",
      "Sum of digits of N = 56\n"
     ]
    }
   ],
   "source": [
    "# QA2 Solution\n",
    "N = 131202085231931195\n",
    "\n",
    "# METHOD 1\n",
    "print('Sum of digits of N =', 1 + 3 + 1 + 2 + 0 + 2 + 0 + 8 + 5 + 2 + 3 + 1 + 9 + 3 + 1 + 1 + 9 + 5)\n",
    "\n",
    "# METHOD 2\n",
    "print('Sum of digits of N =', sum([int(i) for i in str(N)]))"
   ]
  },
  {
   "cell_type": "markdown",
   "id": "magnetic-eligibility",
   "metadata": {},
   "source": [
    "### Matrices\n",
    "\n",
    "By executing the following cell you will generate two [matrices](https://en.wikipedia.org/wiki/Matrix_(mathematics)), **A** and **B** that should be unique to you and a matrix **C** that is the zero matrix.  Execute the cell below using `Shift + Return` to generated and see the matrices."
   ]
  },
  {
   "cell_type": "code",
   "execution_count": 6,
   "id": "green-paraguay",
   "metadata": {},
   "outputs": [
    {
     "name": "stdout",
     "output_type": "stream",
     "text": [
      "PAGE=&1.25670\n",
      "\n",
      "Generating Matrices ...\n",
      "=======================\n",
      "\n",
      "A = [192 168]    B = [ 0 12]    C = [0 0]\n",
      "    [ 1 86]          [34  0]        [0 0]\n"
     ]
    }
   ],
   "source": [
    "A = _A; B = _B; C = _C;\n",
    "print(_VFY[1]); \n",
    "print('\\nGenerating Matrices ...'); \n",
    "print('=======================\\n')\n",
    "print('A =', A[0, :], '   B =', B[0, :], '   C =', C[0, :])\n",
    "print('   ', A[1, :], '        ', B[1, :], '      ', C[1, :])"
   ]
  },
  {
   "cell_type": "markdown",
   "id": "suburban-brook",
   "metadata": {},
   "source": [
    "Recall the formula for [matrix multiplication](https://en.wikipedia.org/wiki/Matrix_multiplication#:~:text=In%20mathematics%2C%20particularly%20in%20linear,rows%20in%20the%20second%20matrix.) $\\mathbf{C} = \\mathbf{A}\\times\\mathbf{B}$ is\n",
    "\n",
    "$$ c_{ij} = \\sum_{k=1}^2 a_{ik}b_{kj}, \\quad\\textrm{where}\\quad \\mathbf{A} = \\left(\\begin{array}{ll} a_{11} & a_{12} \\\\ a_{21} & a_{22} \\end{array}\\right), \\quad\n",
    "\\mathbf{B} = \\left(\\begin{array}{ll} b_{11} & b_{12} \\\\ b_{21} & b_{22} \\end{array}\\right), \\quad\n",
    "\\mathbf{C} = \\left(\\begin{array}{ll} c_{11} & c_{12} \\\\ c_{21} & c_{22} \\end{array}\\right).$$\n",
    "\n",
    "**A3)** Use three `for` loops to calculate the matrix product \n",
    "\n",
    "$$\\mathbf{C} = \\mathbf{A}\\times\\mathbf{B}$$\n",
    "\n",
    "storing your answer in the array `C` that has been initialized for you as a $2\\times2$ array containing zeros.  Print the matrix `C` to the screen and confirm that the elements agree with the output of `print(np.matmul(A, B))`.  **Remember** that Python indexes from 0, so the value $c_{11}$ needs to be stored in `C[0, 0]`. $\\tag{4 Marks}$"
   ]
  },
  {
   "cell_type": "code",
   "execution_count": 7,
   "id": "opponent-closing",
   "metadata": {},
   "outputs": [
    {
     "name": "stdout",
     "output_type": "stream",
     "text": [
      "[[5712 2304]\n",
      " [2924   12]] \n",
      "\n",
      "[[5712 2304]\n",
      " [2924   12]] \n",
      "\n",
      "[[5712 2304]\n",
      " [2924   12]]\n"
     ]
    }
   ],
   "source": [
    "# QA3 Solution\n",
    "\n",
    "# METHOD 1\n",
    "for i in range(2):\n",
    "    for j in range(2):\n",
    "        for k in range(2):\n",
    "            C[i, j] += A[i, k]*B[k, j]\n",
    "print(C, '\\n')\n",
    "\n",
    "# METHOD 2\n",
    "for i in range(2):\n",
    "    C[i, :] = [sum([A[i, k]*B[k, j] for k in range(2)]) for j in range(2)]\n",
    "print(C, '\\n')\n",
    "\n",
    "# VERIFY SOLUTION\n",
    "print(np.matmul(A, B))"
   ]
  },
  {
   "cell_type": "markdown",
   "id": "listed-chambers",
   "metadata": {},
   "source": [
    "## SECTION B\n",
    "\n",
    "In order to use mathematical functions like [sine](https://en.wikipedia.org/wiki/Sine_and_cosine) and cosine or to evaluate special numbers like $\\pi$ and $\\textrm{e}$, remember that we need to use the [numpy library](https://www.w3schools.com/python/numpy/numpy_intro.asp) which has been imported for you as `np`.  For example, to evaluate $\\cos\\pi$ we would write\n",
    "\n",
    "        np.cos(np.pi)\n",
    "        \n",
    "and to calculate $\\textrm{e}^2$ we would write\n",
    "\n",
    "        np.exp(2)\n",
    "\n",
    "Execute the cell below to verify the calcuations"
   ]
  },
  {
   "cell_type": "code",
   "execution_count": 8,
   "id": "stunning-chamber",
   "metadata": {},
   "outputs": [
    {
     "name": "stdout",
     "output_type": "stream",
     "text": [
      "cos(pi) = -1.0\n",
      "e^2 = 7.38905609893065\n"
     ]
    }
   ],
   "source": [
    "print('cos(pi) =', np.cos(np.pi))\n",
    "print('e^2 =', np.exp(2))"
   ]
  },
  {
   "cell_type": "markdown",
   "id": "wrong-proof",
   "metadata": {},
   "source": [
    "**B1)** Calculate the value of the following four constants listed below and store their values in a [list](https://www.w3schools.com/python/python_lists.asp) named `c`.\n",
    "\n",
    "$\\qquad \\bullet~ c_0 = \\cos(3/5)$\n",
    "\n",
    "$\\qquad \\bullet~ c_1 = \\textrm{e}^{3/5} - 1$\n",
    "\n",
    "$\\qquad \\bullet~ c_2 = \\frac{\\pi^2}{12}$\n",
    "\n",
    "$\\qquad \\bullet~ c_3 = \\textrm{e}^{2/5} - \\textrm{e}^{-2/5}$\n",
    "\n",
    "Print the value of the four constants to the screen using a `for` loop and the `print()` function. $\\tag{3 Marks}$"
   ]
  },
  {
   "cell_type": "code",
   "execution_count": 9,
   "id": "radical-nylon",
   "metadata": {},
   "outputs": [
    {
     "name": "stdout",
     "output_type": "stream",
     "text": [
      "c[0] = 0.8253356149096783\n",
      "c[1] = 0.8221188003905089\n",
      "c[2] = 0.8224670334241132\n",
      "c[3] = 0.821504651605631\n"
     ]
    }
   ],
   "source": [
    "# QB1 Solution\n",
    "c = [np.cos(3/5), np.exp(3/5) - 1, np.pi**2/12, np.exp(2/5) - np.exp(-2/5)]\n",
    "for n in range(4):\n",
    "    print('c[' +str(n) + '] =', c[n])"
   ]
  },
  {
   "cell_type": "markdown",
   "id": "greek-fight",
   "metadata": {},
   "source": [
    "**B2)** The sum $s_N$ is defined by\n",
    "$$s_N = \\sum_{n=1}^N \\frac{(-1)^{n+1}}{n^2} = 1 - \\frac{1}{4} + \\frac{1}{9} - \\frac{1}{16} + \\ldots + \\frac{(-1)^{N+1}}{N^2}.$$\n",
    "**i**. For values of $N=5$, $10$, $50$, $100$, $500$, $1000$ and $5000$,  calculate the error $\\epsilon_N = |s_N - c_0|$ for each value of $N$ and the value of $c_0$ you calculated in (B1).  Print the error for each $N$ to the screen. $\\tag{2 Marks}$\n",
    "\n",
    "[**Hint**: You can use `np.abs()` to calculate the [absolute value](https://en.wikipedia.org/wiki/Absolute_value) of a number]"
   ]
  },
  {
   "cell_type": "code",
   "execution_count": 10,
   "id": "moved-violation",
   "metadata": {},
   "outputs": [
    {
     "name": "stdout",
     "output_type": "stream",
     "text": [
      "N = 5 , Error to c[ 0 ] = 0.013275496201432868\n",
      "N = 10 , Error to c[ 0 ] = 0.007373439298693163\n",
      "N = 50 , Error to c[ 0 ] = 0.0030645830836488752\n",
      "N = 100 , Error to c[ 0 ] = 0.0029180815355497325\n",
      "N = 500 , Error to c[ 0 ] = 0.00287057748558206\n",
      "N = 1000 , Error to c[ 0 ] = 0.0028690809855669297\n",
      "N = 5000 , Error to c[ 0 ] = 0.002868601481570532\n",
      "N = 5 , Error to c[ 0 ] = 0.013275496201432868\n",
      "N = 10 , Error to c[ 0 ] = 0.007373439298693163\n",
      "N = 50 , Error to c[ 0 ] = 0.0030645830836488752\n",
      "N = 100 , Error to c[ 0 ] = 0.0029180815355497325\n",
      "N = 500 , Error to c[ 0 ] = 0.00287057748558206\n",
      "N = 1000 , Error to c[ 0 ] = 0.0028690809855669297\n",
      "N = 5000 , Error to c[ 0 ] = 0.002868601481570532\n"
     ]
    }
   ],
   "source": [
    "# QB2i Solution\n",
    "\n",
    "# METHOD 1\n",
    "N_values = [5, 10, 50, 100, 500, 1000, 5000]\n",
    "for N in N_values:\n",
    "    sN = sum([(-1)**(n+1)/n**2 for n in range(1, N + 1)])\n",
    "    err = np.abs(sN - c[0])\n",
    "    print('N =', N, ', Error to c[ 0 ] =', err)\n",
    "\n",
    "# METHOD 2\n",
    "N = [5, 10, 50, 100, 500, 1000, 5000]\n",
    "for j in range(len(N)):\n",
    "    sN = sum([(-1)**(n+1)/n**2 for n in range(1, N[j] + 1)])\n",
    "    err = np.abs(sN - c[0])\n",
    "    print('N =', N[j], ', Error to c[ 0 ] =', err)"
   ]
  },
  {
   "cell_type": "markdown",
   "id": "quarterly-simulation",
   "metadata": {},
   "source": [
    "**ii**. For the same values of $N$ as part (B2i) repeat your error calculations for $c_1$, $c_2$ and $c_3$ and print the errors to the screen. Remember that, for example, `1.2e-03` is [exponential notation](https://www.allbusiness.com/barrons_dictionary/dictionary-exponential-notation-4956315-1.html) and means $0.0012$ or $1.2\\times10^{-3}$. $\\tag{3 Marks}$"
   ]
  },
  {
   "cell_type": "code",
   "execution_count": 11,
   "id": "blank-battlefield",
   "metadata": {},
   "outputs": [
    {
     "name": "stdout",
     "output_type": "stream",
     "text": [
      "N = 5 , Error to c[ 1 ] = 0.01649231072060231\n",
      "N = 5 , Error to c[ 2 ] = 0.016144077686997993\n",
      "N = 5 , Error to c[ 3 ] = 0.017106459505480176\n",
      "\n",
      "N = 10 , Error to c[ 1 ] = 0.004156624779523721\n",
      "N = 10 , Error to c[ 2 ] = 0.004504857813128038\n",
      "N = 10 , Error to c[ 3 ] = 0.003542475994645855\n",
      "\n",
      "N = 50 , Error to c[ 1 ] = 0.00015223143552056673\n",
      "N = 50 , Error to c[ 2 ] = 0.0001960015980837504\n",
      "N = 50 , Error to c[ 3 ] = 0.0007663802203984327\n",
      "\n",
      "N = 100 , Error to c[ 1 ] = 0.00029873298361970946\n",
      "N = 100 , Error to c[ 2 ] = 4.9500049984607664e-05\n",
      "N = 100 , Error to c[ 3 ] = 0.0009128817684975754\n",
      "\n",
      "N = 500 , Error to c[ 1 ] = 0.0003462370335873821\n",
      "N = 500 , Error to c[ 2 ] = 1.9960000169350067e-06\n",
      "N = 500 , Error to c[ 3 ] = 0.0009603858184652481\n",
      "\n",
      "N = 1000 , Error to c[ 1 ] = 0.00034773353360251225\n",
      "N = 1000 , Error to c[ 2 ] = 4.995000018048756e-07\n",
      "N = 1000 , Error to c[ 3 ] = 0.0009618823184803782\n",
      "\n",
      "N = 5000 , Error to c[ 1 ] = 0.0003482130375989101\n",
      "N = 5000 , Error to c[ 2 ] = 1.9996005407030282e-08\n",
      "N = 5000 , Error to c[ 3 ] = 0.000962361822476776\n",
      "\n"
     ]
    }
   ],
   "source": [
    "# QB2ii Solution\n",
    "for N in N_values:\n",
    "    sN = sum([(-1)**(n+1)/n**2 for n in range(1, N + 1)])\n",
    "    for j in range(1, 4):\n",
    "        err = np.abs(sN - c[j])\n",
    "        print('N =', N, ', Error to c[', j, '] =', err)\n",
    "    print('')  "
   ]
  },
  {
   "cell_type": "markdown",
   "id": "diagnostic-kinase",
   "metadata": {},
   "source": [
    "**iii**. Based on your solution to (B2i) and (B2ii) which of the four constants $c_0,\\ldots,c_3$ does the sum $s_N$ tend to as the value of $N$ tends to infinity? $\\tag{1 Mark}$"
   ]
  },
  {
   "cell_type": "code",
   "execution_count": 12,
   "id": "dynamic-diary",
   "metadata": {},
   "outputs": [
    {
     "name": "stdout",
     "output_type": "stream",
     "text": [
      "As N gets larger the error to c0, c1, and c3 approaches a fixed non-zero value,\n",
      "but the error to c2 gets smaller as N increases.  The sum tends to c2 as N tends to infinity.\n"
     ]
    }
   ],
   "source": [
    "# QB2iii Solution\n",
    "print('As N gets larger the error to c0, c1, and c3 approaches a fixed non-zero value,')\n",
    "print('but the error to c2 gets smaller as N increases.  The sum tends to c2 as N tends to infinity.')"
   ]
  },
  {
   "cell_type": "markdown",
   "id": "behavioral-walnut",
   "metadata": {},
   "source": [
    "**iv** [Optional]. Plot the logarithm of the value of $N$ against the logarithm of the errors. Put $\\ln N$ on the $x-$axis and $\\ln\\left\\{\\left|s_N - c_i\\right|\\right\\}$ on the $y-$axis for $i=0, \\ldots, 3$. Plot all of these points **on the same axes, and use the same colour for each $c_i$**. (`matplotlib.pyplot` has been imported for you as `plt`.)"
   ]
  },
  {
   "cell_type": "code",
   "execution_count": 13,
   "id": "perceived-capacity",
   "metadata": {},
   "outputs": [
    {
     "data": {
      "image/png": "[encoded data removed]",
      "text/plain": [
       "<Figure size 432x288 with 1 Axes>"
      ]
     },
     "metadata": {
      "needs_background": "light"
     },
     "output_type": "display_data"
    }
   ],
   "source": [
    "# QB2iv Solution\n",
    "# Initialise variables\n",
    "line_colour = ['C0', 'C1', 'C2', 'C3']\n",
    "\n",
    "# Calculate partial sums for each ci\n",
    "for i in range(4):\n",
    "    err = np.abs([np.sum([(-1)**(n+1)/n**2 for n in range(1, N + 1)]) - c[i] for N in N_values])\n",
    "    plt.plot(np.log(N_values), np.log(err), '-o', color = line_colour[i])\n",
    "\n",
    "# Label Axes and Create Legend\n",
    "plt.xlabel('$\\ln N$');  plt.ylabel('$\\ln|s_N - c_i|$')\n",
    "plt.legend(['$c_0$', '$c_1$', '$c_2$', '$c_3$'])\n",
    "plt.title('Error Convergence');"
   ]
  }
 ],
 "metadata": {
  "kernelspec": {
   "display_name": "Python 3",
   "language": "python",
   "name": "python3"
  },
  "language_info": {
   "codemirror_mode": {
    "name": "ipython",
    "version": 3
   },
   "file_extension": ".py",
   "mimetype": "text/x-python",
   "name": "python",
   "nbconvert_exporter": "python",
   "pygments_lexer": "ipython3",
   "version": "3.9.2"
  }
 },
 "nbformat": 4,
 "nbformat_minor": 5
}
