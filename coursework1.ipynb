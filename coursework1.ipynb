{
 "cells": [
  {
   "cell_type": "code",
   "execution_count": null,
   "id": "finite-sucking",
   "metadata": {},
   "outputs": [],
   "source": [
    "# PREAMBLE - YOU NEED TO EXECUTE THIS CELL USING [SHIFT+RETURN]\n",
    "# BUT YOU DO NOT NEED TO READ OR UNDERSTAND ANYTHING WITHIN IT\n",
    "# THE COURSEWORK BEGINS IN THE CELL BELOW\n",
    "\n",
    "import datetime\n",
    "import numpy as np\n",
    "\n",
    "arg = ([-9.88, -12.24, 12.52, 12.38, 12.42, -11.75, 12.61, 12.24, -12.38, 12.04, 7.36, 11.95, 12.19, 11.95, -12.47, 11.95, 11.55, -12.09, 11.95, 12.75, 11.75, 11.7])\n",
    "cne = ([-11.13, 12.24, 12.52, 12.38,  7.36, 11.65, 11.55, 12.19, 11.70, 11.95, 11.70, 11.55, 12.47, 11.75,  7.36, 12.19, 12.52, -12.14, 11.60, 11.75, 12.38,  7.36, 11.95, -12.42,  7.36, 12.19, 12.24, 12.47,  7.36, 11.75, 12.19, 12.47, 11.75,  12.38, 11.75, 11.70,  7.36, 11.65, 12.24, -12.38, 12.38, 11.75, 11.65, 12.47, 12.09, 12.70])\n",
    "cdn = ([11.13, 12.24, 12.52,  7.36, -11.90, 11.55, 12.56, 11.75, 7.36, 12.19, 12.24,  -12.47,  7.36, 11.75, 12.19, 12.47, 11.75, -12.38, 11.75, 11.70,  7.36, 12.47, 12.24, 11.70, 11.55, -12.70,  7.94, 12.42,  7.36, 11.70, 11.55, 12.47, 11.75,   7.36, 11.95, 12.19,  7.36, 12.47, 11.90, 11.75,  7.36, 11.65, 12.24, 12.38, 12.38,  11.75, 11.65, 12.47,  7.36, 11.80, 12.24, 12.38, 12.14, 11.55, 12.47])\n",
    "cdt = ([-11.13, -12.24, 12.52, -7.36, 11.90, 11.55, -12.56, 11.75, 7.36, 12.19, 12.24,  12.47,  7.36, 11.75, 12.19, 12.47, 11.75, 12.38, 11.75, 11.70,  7.36, 12.47, 12.24, 11.70, 11.55, -12.70,  7.94, 12.42,  7.36, 11.70, 11.55, 12.47, 11.75,   7.36, 11.65, 12.24, 12.38, 12.38, 11.75, 11.65, 12.47, 12.09, 12.70])\n",
    "rmn = ([10.13, 12.24, 7.36, 11.60, 11.55, 11.65, 12.04, -7.36, -12.47, 12.24,  7.36,   9.89, -11.55, 12.19, 11.70, 11.95, -11.70, 11.55, 12.47, 11.75,  7.36, 10.24, 12.19,  11.80, 12.24, 12.38, 12.14, 11.55, 12.47, 11.95, 12.24, 12.19,  7.36, 12.47,  12.24,  7.36, 11.65, 12.24, -12.38, 12.38, 11.75, 11.65, 12.47,  7.36, 11.95,  12.19, -12.28, 12.52, 12.47,  7.36, 11.70, 11.55, 12.47, 11.55,  8.48])\n",
    "scc = ([10.87, 11.90, -11.75,  7.36, 11.65, 12.24, -12.52, 12.38, 12.42, 11.75, 12.61, 12.24, 12.38, 12.04,  7.36, 11.95, 12.42,  7.36, 12.28, 12.38, 12.24, 11.65, 11.75, 11.75, 11.70, 11.95, 12.19, 11.85,  7.36, 12.52, 12.42, 11.95, 12.19, 11.85])\n",
    "hdl = ([10.53, 11.55, 12.14, 11.75,  -9.32,  7.36])\n",
    "nbr = ([-9.89, 11.55, 12.19, 11.70, -11.95, 11.70, 11.55, 12.47, 11.75,  7.36, 10.53,  12.52, 12.14, 11.60, 11.75, 12.38,  9.32,  7.36])\n",
    "fnl = ([10.87, 12.24, -11.70, 11.55, 12.70, -7.94, 12.42,  7.36, 11.70, 11.55, 12.47, 11.75,  9.32,  7.36])\n",
    "\n",
    "def verify(w, x, y):\n",
    "    cnFlag = False; tdFlag = False; dtFlag = False;\n",
    "   #dy = y[0:2]; mn = y[3:5]; yr = y[6:10]\n",
    "    print('')\n",
    "    v = str(datetime.datetime.now())\n",
    "    offset = 1.7\n",
    "    if len(x) == 8:\n",
    "        cnFlag = True\n",
    "    else:\n",
    "        chain([(chr(round((abs(cne[i]) - offset)**int(v[0])))) for i in range(46)], True)   \n",
    "    if len(y) == 10:\n",
    "        tdFlag = True\n",
    "    else:\n",
    "        chain([(chr(round((abs(cdn[i]) - offset)**int(v[0])))) for i in range(55)], True)\n",
    "    if v[0:4] == y[6:10] and v[5:7] == y[3:5] and v[8:10] == y[0:2]:\n",
    "        dtFlag = True\n",
    "    else:\n",
    "        chain([(chr(round((abs(cdt[i]) - offset)**int(v[0])))) for i in range(43)], True)\n",
    "    if cnFlag == True and tdFlag == True and dtFlag == True:\n",
    "        chain([(chr(round((abs(scc[i]) - offset)**int(v[0])))) for i in range(34)], True)\n",
    "        chain([(chr(round((abs(hdl[i]) - offset)**int(v[0])))) for i in range(6)], False)\n",
    "        print(w)\n",
    "        chain([(chr(round((abs(nbr[i]) - offset)**int(v[0])))) for i in range(18)], False)\n",
    "        print(x)\n",
    "        chain([(chr(round((abs(fnl[i]) - offset)**int(v[0])))) for i in range(14)], False)\n",
    "        print(y[0:2] + chr(47) + y[3:5] + chr(47) + y[6:10])\n",
    "    else:\n",
    "        chain([(chr(round((abs(rmn[i]) - offset)**int(v[0])))) for i in range(55)], True);\n",
    "    return v\n",
    "\n",
    "def f(z, q):\n",
    "    # [a, d, b, c]\n",
    "    # z = [int(p) for p in [dy, dto[2:4], mn, dto[0:2]]]\n",
    "    # q = 0.02127659574/43\n",
    "    cfs = np.zeros((6,1)); A = np.zeros((2, 2)); I = np.zeros((2,2))\n",
    "    cfs[0] = np.sqrt(z[0]**2 - 2*z[0]*z[1] + z[1]**2 + 4*z[2]*z[3])\n",
    "    cfs[1] = 0.5*(z[0] + z[1] - cfs[0])\n",
    "    if cfs[1] > 0:\n",
    "        cfs[1] = cfs[1]**q\n",
    "    else:\n",
    "        cfs[1] = -(-cfs[1])**q \n",
    "    cfs[2] = (0.5*(z[0] + z[1] + cfs[0]))**q; cfs[3] = z[0] - z[1]; \n",
    "    cfs[4] = -cfs[0] + cfs[3]; cfs[5] = cfs[3] + cfs[0]\n",
    "    A[0,0] = -(cfs[4]*cfs[1] - cfs[5]*cfs[2])/(2*cfs[0]); A[0,1] = z[2]*(cfs[2] - cfs[1])/cfs[0]\n",
    "    A[1,0] = -cfs[4]*cfs[5]*(cfs[2] - cfs[1])/(4*z[2]*cfs[0]); A[1,1] = (cfs[5]*cfs[1] - cfs[4]*cfs[2])/(2*cfs[0])\n",
    "    I[0,0] = 1; I[1, 1] = 1\n",
    "    return A\n",
    "\n",
    "def chain(inp, bl):\n",
    "    for i in range(len(inp)): \n",
    "        print(inp[i], end = '')\n",
    "    if bl:\n",
    "        print('')\n",
    "        \n",
    "chain([chr(round((abs(arg[i]) - 1.7)**2)) for i in range(22)], False)"
   ]
  },
  {
   "cell_type": "markdown",
   "id": "familiar-criticism",
   "metadata": {},
   "source": [
    "# Coursework 1 - Basics of Python\n",
    "\n",
    "Before you begin ensure that you have executed the preamble cell above.  If this has worked correctly you should see the\n",
    "\n",
    "    Coursework initialized\n",
    "\n",
    "output at the end of the cell.  If you do not see this statement go back and run the preamble cell using [Shift+Return].  \n",
    "\n",
    "## Candidate Information\n",
    "\n",
    "Run the cell below using [Shift + Return] and enter your information at the prompts.  Ensure that your candidate number has 8 digits and that you enter the year in the required format, putting a '/' between the day, month and year."
   ]
  },
  {
   "cell_type": "code",
   "execution_count": null,
   "id": "gentle-summit",
   "metadata": {},
   "outputs": [],
   "source": [
    "candidateName = input('Name: ')\n",
    "candidateNo = input('Candidate Number: ')\n",
    "today = input('Enter today' + chr(39) + 's date [dd/mm/yyyy]: ')\n",
    "v = verify(candidateName, candidateNo, today)"
   ]
  },
  {
   "cell_type": "markdown",
   "id": "helpful-prospect",
   "metadata": {},
   "source": [
    "If you have entered your information correctly you will see your name, candidate number and today's date output.  If you have entered your information incorrectly you need to go back and re-run the cell above."
   ]
  },
  {
   "cell_type": "markdown",
   "id": "prescription-parts",
   "metadata": {},
   "source": [
    "## Section A\n",
    "\n",
    "1) Determine whether your candidate number that is stored in the variable `candidateNo` is an integer, a floating point decimal or a text string by using the `type(variable)` command. $\\tag{1 Mark}$"
   ]
  },
  {
   "cell_type": "code",
   "execution_count": null,
   "id": "generous-warning",
   "metadata": {},
   "outputs": [],
   "source": [
    "#type(candidateNo)"
   ]
  },
  {
   "cell_type": "markdown",
   "id": "smart-sequence",
   "metadata": {},
   "source": [
    "2) If it is not already an integer, convert your candidate number to an integer using `int()` and evaluate your candidate number squared.  Print out your answer to the screen using `print()`. $\\tag{1 Mark}$"
   ]
  },
  {
   "cell_type": "code",
   "execution_count": null,
   "id": "foster-excuse",
   "metadata": {},
   "outputs": [],
   "source": [
    "#candidateNo = int(candidateNo)\n",
    "#print(candidateNo**2)"
   ]
  },
  {
   "cell_type": "markdown",
   "id": "miniature-cheat",
   "metadata": {},
   "source": [
    "## Section B\n",
    "\n",
    "Two matrices $\\textbf{M}_1$ and $\\textbf{M}_2$ that are stored as `np.array`s can be multiplied together using `np.matmul`.  \n",
    "\n",
    "For example we can represent the matrices\n",
    "$$\\textbf{M}_1 = \\left(\\begin{array}{rr} 1 & -2 \\\\ 0 & 1\\end{array}\\right),\n",
    "\\qquad\n",
    "\\textbf{M}_2 = \\left(\\begin{array}{rr} 3 & 1 \\\\ -1 & 2\\end{array}\\right)$$\n",
    "in Python as\n",
    "\n",
    "    M1 = np.array([[1, -2], [0, 1]])\n",
    "    M2 = np.array([[3, 1], [-1, 2]])\n",
    "    \n",
    "We can calculate their product using\n",
    "\n",
    "    np.matmul(M1, M2)\n",
    "    \n",
    "which gives us the answer\n",
    "$$\\textbf{M}_1\\times\\textbf{M}_2 = \\left(\\begin{array}{rr} 5 & -3 \\\\ -1 & 2\\end{array}\\right)$$\n",
    "\n",
    "An example of how to implement this is given in the next cell."
   ]
  },
  {
   "cell_type": "code",
   "execution_count": null,
   "id": "universal-soviet",
   "metadata": {},
   "outputs": [],
   "source": [
    "M1 = np.array([[1, -2], [0, 1]])\n",
    "M2 = np.array([[3, 1], [-1, 2]])\n",
    "np.matmul(M1, M2)"
   ]
  },
  {
   "cell_type": "markdown",
   "id": "massive-appearance",
   "metadata": {},
   "source": [
    "Run the cell below using [Shift + Return] to generate the arrays that you will be working with in this question."
   ]
  },
  {
   "cell_type": "code",
   "execution_count": null,
   "id": "signed-device",
   "metadata": {},
   "outputs": [],
   "source": [
    "I = np.identity(2); print('I =\\n', I)\n",
    "A = f([int(p) for p in [v[8:10], v[2:4], v[5:7], v[0:2]]], 0.02127659574/43); print('A =\\n', A)"
   ]
  },
  {
   "cell_type": "markdown",
   "id": "ready-bradford",
   "metadata": {},
   "source": [
    "You can output the entries of an array rounded to the nearest integer using `print(np.round(array_name).astype(int))`.\n",
    "\n",
    "For example we can see the array `A` with all its entries rounded to the nearest integer by running the cell below."
   ]
  },
  {
   "cell_type": "code",
   "execution_count": null,
   "id": "immune-binding",
   "metadata": {},
   "outputs": [],
   "source": [
    "print(np.round(A).astype(int))"
   ]
  },
  {
   "cell_type": "markdown",
   "id": "cooperative-mortality",
   "metadata": {},
   "source": [
    "1) Using `np.matmul` and a `for` loop, evaluate $\\textbf{A}^{2021}$ and output the answer to the notebook using `print`. \n",
    "\n",
    "Take care **not to overwrite** the arrays `I` or `A`.  If you accidentally do overwrite them, go back three cells and re-run the cell that generates the arrays `I` and `A` for you.\n",
    "\n",
    "[**Hint**: Start by defining an array `B` to be equal to the identity array `I`.  Then set up a `for` loop that updates the elements of `B` by multiplying `B` by `A`.] $\\tag{5 Marks}$"
   ]
  },
  {
   "cell_type": "code",
   "execution_count": null,
   "id": "printable-magic",
   "metadata": {},
   "outputs": [],
   "source": [
    "#B = I\n",
    "#for i in range(2021):\n",
    "#    B = np.matmul(A, B)\n",
    "#print(B)"
   ]
  },
  {
   "cell_type": "markdown",
   "id": "faced-charles",
   "metadata": {},
   "source": [
    "2) What do you notice about your solution when you round each entry to the nearest integer? $\\tag{2 Marks}$"
   ]
  },
  {
   "cell_type": "code",
   "execution_count": null,
   "id": "premier-airplane",
   "metadata": {},
   "outputs": [],
   "source": [
    "#print(np.round(B).astype(int))"
   ]
  }
 ],
 "metadata": {
  "kernelspec": {
   "display_name": "Python 3",
   "language": "python",
   "name": "python3"
  },
  "language_info": {
   "codemirror_mode": {
    "name": "ipython",
    "version": 3
   },
   "file_extension": ".py",
   "mimetype": "text/x-python",
   "name": "python",
   "nbconvert_exporter": "python",
   "pygments_lexer": "ipython3",
   "version": "3.9.2"
  }
 },
 "nbformat": 4,
 "nbformat_minor": 5
}
