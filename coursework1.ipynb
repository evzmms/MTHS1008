{
 "cells": [
  {
   "cell_type": "code",
   "execution_count": 20,
   "id": "finite-sucking",
   "metadata": {},
   "outputs": [],
   "source": [
    "# PREAMBLE - YOU NEED TO EXECUTE THIS CELL USING [SHIFT+RETURN]\n",
    "# BUT YOU DO NOT NEED TO READ OR UNDERSTAND ANYTHING WITHIN IT\n",
    "# THE COURSEWORK BEGINS IN THE CELL BELOW\n",
    "\n",
    "import datetime\n",
    "import numpy as np\n",
    "\n",
    "def verify(w, x, y):\n",
    "    cnFlag = False; tdFlag = False; dtFlag = False;\n",
    "    dy = y[0:2]; mn = y[3:5]; yr = y[6:10]\n",
    "    dto = str(datetime.datetime.now())\n",
    "    if len(x) == 8:\n",
    "        cnFlag = True\n",
    "    else:\n",
    "        st = 'Your candidate number is not entered correctly'\n",
    "    if len(y) == 10:\n",
    "        tdFlag = True\n",
    "    else:\n",
    "        st = 'You have not entered today' + chr(39) + 's date in the correct format'\n",
    "    if dto[0:4] == yr and dto[5:7] == mn and dto[8:10] == dy:\n",
    "        dtFlag = True\n",
    "    else:\n",
    "        st = 'You have not entered today' + chr(39) + 's date correctly'\n",
    "\n",
    "    if cnFlag == True and tdFlag == True and dtFlag == True:\n",
    "        st = ('The coursework is proceeding using\\nName: ' + candidateName +\n",
    "             '\\nCandidate Number: ' + candidateNo +\n",
    "             '\\nToday' + chr(39) + 's date: ' + today[0:2] + '/' + today[3:5] + '/' + today[6:10])\n",
    "    else:\n",
    "        st = 'Go back to Candidate Information to correct input data.'\n",
    "    print(st)\n",
    "\n",
    "def f(z, q):\n",
    "    # [a, d, b, c]\n",
    "    # z = [int(p) for p in [dy, dto[2:4], mn, dto[0:2]]]\n",
    "    # q = 0.02127659574/43\n",
    "    cfs = np.zeros((6,1)); A = np.zeros((2, 2)); I = np.zeros((2,2))\n",
    "    cfs[0] = np.sqrt(z[0]**2 - 2*z[0]*z[1] + z[1]**2 + 4*z[2]*z[3])\n",
    "    cfs[1] = 0.5*(z[0] + z[1] - cfs[0])\n",
    "    if cfs[1] > 0:\n",
    "        cfs[1] = cfs[1]**q\n",
    "    else:\n",
    "        cfs[1] = -(-cfs[1])**q \n",
    "    cfs[2] = (0.5*(z[0] + z[1] + cfs[0]))**q; cfs[3] = z[0] - z[1]; \n",
    "    cfs[4] = -cfs[0] + cfs[3]; cfs[5] = cfs[3] + cfs[0]\n",
    "    A[0,0] = -(cfs[4]*cfs[1] - cfs[5]*cfs[2])/(2*cfs[0]); A[0,1] = z[2]*(cfs[2] - cfs[1])/cfs[0]\n",
    "    A[1,0] = -cfs[4]*cfs[5]*(cfs[2] - cfs[1])/(4*z[2]*cfs[0]); A[1,1] = (cfs[5]*cfs[1] - cfs[4]*cfs[2])/(2*cfs[0])\n",
    "    I[0,0] = 1; I[1, 1] = 1\n",
    "    return A"
   ]
  },
  {
   "cell_type": "markdown",
   "id": "familiar-criticism",
   "metadata": {},
   "source": [
    "# Coursework 1 - Basics of Python\n",
    "\n",
    "## Candidate Information\n",
    "\n",
    "Run the cell below using [Shift + Return] and enter your information at the prompts.  Ensure that your candidate number has 8 digits and that you enter the year in the required format, putting a '/' between the day, month and year."
   ]
  },
  {
   "cell_type": "code",
   "execution_count": 22,
   "id": "gentle-summit",
   "metadata": {},
   "outputs": [
    {
     "name": "stdout",
     "output_type": "stream",
     "text": [
      "Name: Matthew Scase\n",
      "Candidate Number: 20122012\n",
      "Enter today's date [dd/mm/yyyy]: 03/09/2021\n"
     ]
    }
   ],
   "source": [
    "candidateName = input('Name: ')\n",
    "candidateNo = input('Candidate Number: ')\n",
    "today = input('Enter today' + chr(39) + 's date [dd/mm/yyyy]: ')"
   ]
  },
  {
   "cell_type": "markdown",
   "id": "helpful-prospect",
   "metadata": {},
   "source": [
    "Run the cell below using [Shift + Return] to check your inputs are valid.  If you have entered your information correctly you will see your name, candidate number and today's date output.  If you have entered your information incorrectly you need to go back and re-run the cell above."
   ]
  },
  {
   "cell_type": "code",
   "execution_count": 23,
   "id": "affected-shark",
   "metadata": {},
   "outputs": [
    {
     "name": "stdout",
     "output_type": "stream",
     "text": [
      "The coursework is proceeding using\n",
      "Name: Matthew Scase\n",
      "Candidate Number: 20122012\n",
      "Today's date: 03/09/2021\n"
     ]
    }
   ],
   "source": [
    "verify(candidateName, candidateNo, today)"
   ]
  },
  {
   "cell_type": "markdown",
   "id": "prescription-parts",
   "metadata": {},
   "source": [
    "## Section A\n",
    "\n",
    "1) Determine whether your candidate number that is stored in the variable `candidateNo` is an integer, a floating point decimal or a text string by using the `type` command. $\\tag{1 Mark}$"
   ]
  },
  {
   "cell_type": "code",
   "execution_count": null,
   "id": "generous-warning",
   "metadata": {},
   "outputs": [],
   "source": [
    "type"
   ]
  },
  {
   "cell_type": "markdown",
   "id": "smart-sequence",
   "metadata": {},
   "source": [
    "2) Convert your candidate number to an integer and evaluate your candidate number squared.  Print out your answer to the screen using `print`. $\\tag{1 Mark}$"
   ]
  },
  {
   "cell_type": "code",
   "execution_count": null,
   "id": "foster-excuse",
   "metadata": {},
   "outputs": [],
   "source": [
    "print()"
   ]
  },
  {
   "cell_type": "markdown",
   "id": "miniature-cheat",
   "metadata": {},
   "source": [
    "## Section B\n",
    "\n",
    "Two matrices $\\textbf{M}_1$ and $\\textbf{M}_2$ that are stored as `np.array`s can be multiplied together using `np.matmul`.  \n",
    "\n",
    "For example we can represent the matrices\n",
    "$$\\textbf{M}_1 = \\left(\\begin{array}{rr} 1 & -2 \\\\ 0 & 1\\end{array}\\right),\n",
    "\\qquad\n",
    "\\textbf{M}_2 = \\left(\\begin{array}{rr} 3 & 1 \\\\ -1 & 2\\end{array}\\right)$$\n",
    "in Python as\n",
    "\n",
    "    M1 = np.array([[1, -2], [0, 1]])\n",
    "    M2 = np.array([[3, 1], [-1, 2]])\n",
    "    \n",
    "We can calculate their product using\n",
    "\n",
    "    np.matmul(M1, M2)\n",
    "    \n",
    "which gives us the answer\n",
    "$$\\textbf{M}_1\\times\\textbf{M}_2 = \\left(\\begin{array}{rr} 5 & -3 \\\\ -1 & 2\\end{array}\\right)$$"
   ]
  },
  {
   "cell_type": "code",
   "execution_count": 24,
   "id": "universal-soviet",
   "metadata": {},
   "outputs": [
    {
     "data": {
      "text/plain": [
       "array([[ 5, -3],\n",
       "       [-1,  2]])"
      ]
     },
     "execution_count": 24,
     "metadata": {},
     "output_type": "execute_result"
    }
   ],
   "source": [
    "M1 = np.array([[1, -2], [0, 1]])\n",
    "M2 = np.array([[3, 1], [-1, 2]])\n",
    "np.matmul(M1, M2)"
   ]
  },
  {
   "cell_type": "markdown",
   "id": "massive-appearance",
   "metadata": {},
   "source": [
    "Run the cell below using [Shift + Return] to generate the arrays that you will be working with in this coursework."
   ]
  },
  {
   "cell_type": "code",
   "execution_count": 25,
   "id": "signed-device",
   "metadata": {},
   "outputs": [
    {
     "name": "stdout",
     "output_type": "stream",
     "text": [
      "I =\n",
      " [[1. 0.]\n",
      " [0. 1.]]\n",
      "A =\n",
      " [[-0.55726889  0.55774281]\n",
      " [ 1.23942846  0.55821672]]\n"
     ]
    }
   ],
   "source": [
    "I = np.identity(2); print('I =\\n', I)\n",
    "A = f([int(p) for p in [dy, dto[2:4], mn, dto[0:2]]], 0.02127659574/43); print('A =\\n', A)"
   ]
  },
  {
   "cell_type": "markdown",
   "id": "ready-bradford",
   "metadata": {},
   "source": [
    "You can output the entries of an array rounded to the nearest integer using `print(np.round(array_name).astype(int))`.  So for example we can see the array `A` with all its entries rounded to the nearest integer by running the cell below."
   ]
  },
  {
   "cell_type": "code",
   "execution_count": 26,
   "id": "immune-binding",
   "metadata": {},
   "outputs": [
    {
     "name": "stdout",
     "output_type": "stream",
     "text": [
      "[[-1  1]\n",
      " [ 1  1]]\n"
     ]
    }
   ],
   "source": [
    "print(np.round(A).astype(int))"
   ]
  },
  {
   "cell_type": "markdown",
   "id": "cooperative-mortality",
   "metadata": {},
   "source": [
    "1) Using `np.matmul` and a `for` loop, evaluate $\\textbf{A}^{2021}$ and output the answer to the notebook using `print`. \n",
    "\n",
    "[**Hint**: Start by defining an array `B` to be equal to the identity array `I`.  Then set up a `for` loop that updates the elements of `B` by multiplying the array on the left by `A`.]"
   ]
  },
  {
   "cell_type": "code",
   "execution_count": 27,
   "id": "printable-magic",
   "metadata": {},
   "outputs": [
    {
     "name": "stdout",
     "output_type": "stream",
     "text": [
      "[[ 3.          8.99999999]\n",
      " [19.99999999 20.99999998]]\n"
     ]
    }
   ],
   "source": [
    "B = I\n",
    "for i in range(2021):\n",
    "    B = np.matmul(A, B)\n",
    "print(B)"
   ]
  },
  {
   "cell_type": "markdown",
   "id": "faced-charles",
   "metadata": {},
   "source": [
    "2) What do you notice about your solution when you round each entry to the nearest integer?"
   ]
  },
  {
   "cell_type": "code",
   "execution_count": 28,
   "id": "premier-airplane",
   "metadata": {},
   "outputs": [
    {
     "name": "stdout",
     "output_type": "stream",
     "text": [
      "[[ 3  9]\n",
      " [20 21]]\n"
     ]
    }
   ],
   "source": [
    "print(np.round(B).astype(int))"
   ]
  }
 ],
 "metadata": {
  "kernelspec": {
   "display_name": "Python 3",
   "language": "python",
   "name": "python3"
  },
  "language_info": {
   "codemirror_mode": {
    "name": "ipython",
    "version": 3
   },
   "file_extension": ".py",
   "mimetype": "text/x-python",
   "name": "python",
   "nbconvert_exporter": "python",
   "pygments_lexer": "ipython3",
   "version": "3.9.2"
  }
 },
 "nbformat": 4,
 "nbformat_minor": 5
}
