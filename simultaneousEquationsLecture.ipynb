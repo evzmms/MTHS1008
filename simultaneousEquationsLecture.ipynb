{
 "cells": [
  {
   "cell_type": "markdown",
   "id": "exterior-darkness",
   "metadata": {},
   "source": [
    "# Solve a Simultaneous Equation\n",
    "\n",
    "We are going to solve the simultaneous equations\n",
    "\n",
    "$$ \\left\\{\\begin{array}{lcl} 3x_1 + 4x_2 &=& 2 \\\\ \\phantom{3}x_1 + 2x_2 &=& 0 \\end{array}\\right. $$\n",
    "\n",
    "We will \n",
    "\n",
    "$\\qquad \\bullet$ Input the two equations\n",
    "\n",
    "$\\qquad \\bullet$ Plot the lines that the two equations represent\n",
    "\n",
    "$\\qquad \\bullet$ Solve the equations\n",
    "\n",
    "$\\qquad \\bullet$ Plot the solution\n",
    "\n",
    "As we will be using arrays and plotting lines we need to begin by importing `numpy` and the `matplotlib` plotting tools.\n"
   ]
  },
  {
   "cell_type": "code",
   "execution_count": null,
   "id": "brilliant-raising",
   "metadata": {},
   "outputs": [],
   "source": [
    "import numpy as np\n",
    "import matplotlib.pyplot as plt"
   ]
  },
  {
   "cell_type": "markdown",
   "id": "faced-conviction",
   "metadata": {},
   "source": [
    "We can consider the general case\n",
    "\n",
    "$$ \\left\\{\\begin{array}{lcl} ax_1 + bx_2 &=& u \\\\ cx_1 + dx_2 &=& v \\end{array}\\right. $$\n",
    "\n",
    "For the first equation we want $a = 3$, $b = 4$, and $u = 2$."
   ]
  },
  {
   "cell_type": "code",
   "execution_count": null,
   "id": "burning-valentine",
   "metadata": {},
   "outputs": [],
   "source": [
    "# INPUT EQUATION 3 x_1 + 4 x_2 = 2 \n",
    "a = 3\n",
    "b = 4\n",
    "u = 2"
   ]
  },
  {
   "cell_type": "markdown",
   "id": "lasting-building",
   "metadata": {},
   "source": [
    "For the second equation we want $c = 1$, $d = 2$, and $v = 0$."
   ]
  },
  {
   "cell_type": "code",
   "execution_count": null,
   "id": "executive-survivor",
   "metadata": {},
   "outputs": [],
   "source": [
    "# INPUT EQUATION   x_1 + 2 x_2 = 0 \n",
    "c = 1\n",
    "d = 2\n",
    "v = 0"
   ]
  },
  {
   "cell_type": "markdown",
   "id": "working-length",
   "metadata": {},
   "source": [
    "To plot these two equations we choose a horizontal range, say $x_1\\in\\left[0, 4.5\\right]$ and can find the corresponding values of $x_2$ by rearranging our general equations.  For the first equation\n",
    "\n",
    "$ax_1 + bx_2 = u \\quad\\Rightarrow\\quad x_2 = \\displaystyle\\frac{u - ax_1}{b}$\n",
    "\n",
    "For the second equation\n",
    "\n",
    "$cx_1 + dx_2 = v \\quad\\Rightarrow\\quad x_2 = \\displaystyle\\frac{u - cx_1}{d}$"
   ]
  },
  {
   "cell_type": "code",
   "execution_count": null,
   "id": "falling-fourth",
   "metadata": {},
   "outputs": [],
   "source": [
    "# PLOT EQUATIONS\n",
    "x1Range = np.array([0, 4.5])\n",
    "plt.plot(x1Range, (u - a*x1Range)/b, '-')\n",
    "plt.plot(x1Range, (v - c*x1Range)/d, '-')\n",
    "plt.xlabel('x1');\n",
    "plt.ylabel('x2');"
   ]
  },
  {
   "cell_type": "markdown",
   "id": "prepared-pacific",
   "metadata": {},
   "source": [
    "Next, we calculate the solution of our simultaneous equations, using the general formula, and print out our solution."
   ]
  },
  {
   "cell_type": "code",
   "execution_count": null,
   "id": "measured-champion",
   "metadata": {},
   "outputs": [],
   "source": [
    "# CALCULATE SOLUTION\n",
    "x1 = (d*u - b*v)/(a*d - b*c)\n",
    "x2 = (a*v - c*u)/(a*d - b*c)\n",
    "print('Solution: x1 = ' + str(x1) + ', x2 = ' + str(x2))"
   ]
  },
  {
   "cell_type": "markdown",
   "id": "exclusive-chinese",
   "metadata": {},
   "source": [
    "Finally we plot our solution and observe that it is the unique point that lies on both lines representing equations 1 and 2, i.e., the solution lies at the intersection of the two lines."
   ]
  },
  {
   "cell_type": "code",
   "execution_count": null,
   "id": "radio-supply",
   "metadata": {},
   "outputs": [],
   "source": [
    "# PLOT SOLUTION\n",
    "x1Range = np.array([0, 4.5])\n",
    "plt.plot(x1Range, (u - a*x1Range)/b, '-')\n",
    "plt.plot(x1Range, (v - c*x1Range)/d, '-')\n",
    "plt.plot(x1, x2, 'o')\n",
    "plt.xlabel('x1');\n",
    "plt.ylabel('x2');\n",
    "plt.legend(['Equation 1', 'Equation 2', 'Solution']);"
   ]
  }
 ],
 "metadata": {
  "kernelspec": {
   "display_name": "Python 3",
   "language": "python",
   "name": "python3"
  },
  "language_info": {
   "codemirror_mode": {
    "name": "ipython",
    "version": 3
   },
   "file_extension": ".py",
   "mimetype": "text/x-python",
   "name": "python",
   "nbconvert_exporter": "python",
   "pygments_lexer": "ipython3",
   "version": "3.9.2"
  }
 },
 "nbformat": 4,
 "nbformat_minor": 5
}
