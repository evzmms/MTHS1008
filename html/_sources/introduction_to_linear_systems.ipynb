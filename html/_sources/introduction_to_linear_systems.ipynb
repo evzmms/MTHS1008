{
 "cells": [
  {
   "cell_type": "markdown",
   "metadata": {},
   "source": [
    "# Introduction to Linear Systems\n",
    "\n",
    "## One equation for one unknown\n",
    "\n",
    "The simplest example of a linear system is of only one equation and one unknown.  An important step in solving systems of equations will be solving a single equation.  For example, suppose we are asked to solve\n",
    "\n",
    "$$2x = 6.$$\n",
    "\n",
    "Clearly the solution is $x = 3$. \n",
    "\n",
    "In general if $a$ and $b$ are two given numbers, we might be asked to find the values of $x$ for which  \n",
    "    \n",
    "\\begin{equation*}\n",
    "ax = b \\tag{1.1}\n",
    "\\end{equation*}\n",
    "\n",
    "is satisfied. There are three cases. \n",
    "   \n",
    "The three possible outcomes when solving $ax = b$ (equation (2.1)) are:\n",
    "\n",
    "* If $a \\ne 0$ then we can divide (1.1) by $a$ to give $x = b/a$.  This is the **only** value of $x$ that satisfies (1.1) and there is a **unique solution**.\n",
    "\n",
    "* If $a = 0$ and $b \\ne 0$, (1.1) is not satisfied for any value of $x$ — no numbers $x$ satisfy $0\\cdot x = b \\ne 0$.  Hence there is **no solution** to (1.1). \n",
    "    \n",
    "* If $a = 0$ and $b = 0$, then **any** value of $x$ satisfies (1.1) because $0 \\cdot x = 0$ for any number $x$. Hence there are **infinitely many solutions** to (1.1). \n",
    "\n",
    "We will return to this situation time and time again.  "
   ]
  },
  {
   "cell_type": "markdown",
   "metadata": {},
   "source": [
    "## A 2 x 2 system (2 equations in 2 unknowns)\n",
    "\n",
    ":::{prf:example} System of two equations  \n",
    "\n",
    "\\begin{align*}\n",
    "3x_1 + 4x_2 & = 2 \\tag{1.2} \\\\\n",
    " x_1 + 2x_2 & = 0 \\tag{1.3}\n",
    "\\end{align*}  \n",
    "  \n",
    "for the unknowns $x_1$ and $x_2$.\n",
    "\n",
    ":::\n",
    "\n",
    "There are many ways to solve this simple system of equations — we describe one that is easily generalised to much larger systems of linear equations. \n",
    "\n",
    "* **Step 1**  \n",
    "Eliminate  $x_1$ from (1.3) by replacing  \n",
    "\n",
    "$$(1.3) \\rightarrow 3\\times(1.3) − (1.2)$$\n",
    "\n",
    "&emsp;&emsp;&nbsp;to give  \n",
    "\n",
    "\\begin{align*}\n",
    "3x_1 + 4x_2 &= 2 \\tag{1.4} \\\\\n",
    "       2x_2 &= −2 \\tag{1.5}\n",
    "\\end{align*}\n",
    "\n",
    "* **Step 2**  \n",
    "Solve (1.5) (this is straightforward, divide both sides by 2).  This gives\n",
    "\n",
    "$$x_2 = -1. \\tag{1.6}$$\n",
    "\n",
    ":::{admonition} Note\n",
    "(1.5) is a \"$1\\times1$ system\", as in (1.1).\n",
    ":::\n",
    "\n",
    "* **Step 3**  \n",
    "Subsistute the result from **Step 2** back into (1.4).  This gives\n",
    "\n",
    "$$3x_1 - 4 = 2\\quad\\Rightarrow\\quad 3x_1 = 6 \\quad\\Rightarrow\\quad x_1 = 2. \\tag{1.7}$$\n",
    "\n",
    "* The solution to equations (1.2) and (1.3) is therefore\n",
    "\n",
    "$$x_1 = 2, \\quad x_2 = -1.$$\n",
    "\n",
    ":::{prf:Example}\n",
    "Solve the $2\\times2$ linear system\n",
    "\n",
    "\\begin{equation*}\n",
    "\\left\\{\\begin{array}{rcl}\n",
    "3x_1 + 4x_2 &=& 2 \\\\\n",
    "x_1 + 2x_2 &=& 0\n",
    "\\end{array} \\right.\n",
    "\\end{equation*}\n",
    "\n",
    ":::{admonition} Solution\n",
    ":class: dropdown\n",
    "\n",
    "$x_1 = 2$, $x_2 = -1$.  Check\n",
    "\n",
    "\\begin{equation*}\n",
    "3\\times2 + 4\\times(-1) = 6 - 4 = 2,\n",
    "\\end{equation*}\n",
    "\\begin{equation*}\n",
    "2 + 2\\times(-1) = 2 - 2 = 0.\n",
    "\\end{equation*}\n",
    ":::"
   ]
  },
  {
   "cell_type": "markdown",
   "metadata": {},
   "source": [
    "### Numerical solution in Python\n",
    "\n",
    "Looking ahead, we will see how to solve linear systems using the Python programming language."
   ]
  },
  {
   "cell_type": "code",
   "execution_count": 3,
   "metadata": {},
   "outputs": [
    {
     "name": "stdout",
     "output_type": "stream",
     "text": [
      "Solution: x = 2.0 , y = -1.0\n"
     ]
    },
    {
     "data": {
      "image/png": "[encoded data removed]",
      "text/plain": [
       "<Figure size 432x288 with 1 Axes>"
      ]
     },
     "metadata": {
      "needs_background": "light"
     },
     "output_type": "display_data"
    }
   ],
   "source": [
    "import matplotlib.pyplot as plt\n",
    "\n",
    "# INPUT EQUATION 3x + 4y = 2 \n",
    "a = 3\n",
    "b = 4\n",
    "u = 2\n",
    "\n",
    "# INPUT EQUATION  x + 2y = 0 \n",
    "c = 1\n",
    "d = 2\n",
    "v = 0\n",
    "\n",
    "# CALCULATE SOLUTION\n",
    "x = (d*u - b*v)/(a*d - b*c)\n",
    "y = (a*v - c*u)/(a*d - b*c)\n",
    "print('Solution: x =', x, ', y =', y)\n",
    "\n",
    "# Set Range for plotting\n",
    "x_points = [0, 4]\n",
    "# ............. Plot First equation (blue)\n",
    "y_points = [(u - a*x)/b for x in x_points]\n",
    "plt.plot(x_points, y_points, '-')\n",
    "# .......... Plot Second equation (orange)\n",
    "y_points = [(v - c*x)/d for x in x_points]\n",
    "plt.plot(x_points, y_points, '-')\n",
    "# .................. Plot Solution (green)\n",
    "plt.plot(x, y, 'o')\n",
    "# ............................. Label axes\n",
    "plt.xlabel('$x$')\n",
    "plt.ylabel('$y$', rotation = 0);\n",
    "plt.legend(['Equation 1', 'Equation 2', 'Solution']);"
   ]
  },
  {
   "cell_type": "markdown",
   "metadata": {},
   "source": [
    ":::{prf:Example}\n",
    "            \n",
    "An industrial batch process is manufacturing Iron Sulphide (FeS) in 75 kg batches.  A mixture of sulphur powder and iron filings is heated to manufacture the target product.  A fault has developed in the plant which has led to an incomplete reaction.\n",
    "       \n",
    "![A molecule](images/molecule.png \"A molecule\")\n",
    "\n",
    "* The specification of the target mixture is that it is a total of 75 kg with 36.4% sulphur powder and 63.6% iron filings\n",
    "* As a result of some of the sulphur vapourising we have a waste mixture that is 32.7% sulphur and 67.3% iron filings\n",
    "* We have available a sulphur-rich mixture that is 83.4% sulphur powder and 16.6% iron filings\n",
    "\n",
    ":::{admonition} Question\n",
    "How much of the waste mixture and of the sulphur-rich mixture do we need in order to make 75 kg at the specified target ratio?\n",
    "\n",
    ":::{admonition} Solution\n",
    ":class: dropdown\n",
    "We require 69.5 kg of the waste mixture and 5.5\\,kg of the sulphur-rich mixture.\n",
    ":::"
   ]
  },
  {
   "cell_type": "code",
   "execution_count": null,
   "metadata": {},
   "outputs": [],
   "source": []
  }
 ],
 "metadata": {
  "kernelspec": {
   "display_name": "Python 3",
   "language": "python",
   "name": "python3"
  },
  "language_info": {
   "codemirror_mode": {
    "name": "ipython",
    "version": 3
   },
   "file_extension": ".py",
   "mimetype": "text/x-python",
   "name": "python",
   "nbconvert_exporter": "python",
   "pygments_lexer": "ipython3",
   "version": "3.9.2"
  }
 },
 "nbformat": 4,
 "nbformat_minor": 2
}
