{
 "cells": [
  {
   "cell_type": "markdown",
   "metadata": {},
   "source": [
    "(sec_matrix_algebra)=\n",
    "\n",
    "# Matrix Algebra\n",
    "\n",
    "## The Order of a Matrix\n",
    "\n",
    ":::{prf:definition} The **order** of a matrix\n",
    "The order of a matrix is its size.  The order of the matrix ${\\bf{A}}$ given by\n",
    "\n",
    "\\begin{equation*}\n",
    "{\\bf{A}} = \\left(\\begin{array}{cccc} \n",
    "a_{11} & a_{12} & \\cdots & a_{1n} \\\\\n",
    "a_{21} & a_{22} & \\cdots & a_{2n} \\\\\n",
    "\\vdots & \\vdots & & \\vdots \\\\\n",
    "a_{m1} & a_{m2} & \\cdots & a_{mn}\n",
    "\\end{array}\\right),\n",
    "\\end{equation*}\n",
    "\n",
    "is $m\\times n$ as the matrix has $m$ rows and $n$ columns.\n",
    ":::"
   ]
  },
  {
   "cell_type": "markdown",
   "metadata": {},
   "source": [
    "## Equality\n",
    "\n",
    ":::{prf:definition} **Equality**\n",
    "Two matrices are **equal** if they have the same order *and* if their corresponding elements are equal."
   ]
  },
  {
   "cell_type": "markdown",
   "metadata": {},
   "source": [
    "## Addition\n",
    "\n",
    "If matrices ${\\bf{A}}$ and ${\\bf{B}}$ are of the same order then we may add corresponding elements to obtain\n",
    "\n",
    "\\begin{equation*}\n",
    "{\\bf{A}} + {\\bf{B}} = \\left(\\begin{array}{cccc} \n",
    "a_{11} + b_{11} & a_{12} + b_{12} & \\cdots & a_{1n} + b_{1n} \\\\\n",
    "a_{21} + b_{21} & a_{22} + b_{22} & \\cdots & a_{2n} + b_{2n} \\\\\n",
    "\\vdots & \\vdots & & \\vdots \\\\\n",
    "a_{m1} + b_{m1} & a_{m2} + b_{m2} & \\cdots & a_{mn} + b_{mn}\n",
    "\\end{array}\\right).\n",
    "\\end{equation*}"
   ]
  },
  {
   "cell_type": "markdown",
   "metadata": {},
   "source": [
    "## Subtraction\n",
    "\n",
    "If matrices ${\\bf{A}}$ and ${\\bf{B}}$ are of the same order then we may subtract corresponding elements to obtain\n",
    "\n",
    "\\begin{equation*}\n",
    "{\\bf{A}} - {\\bf{B}} = \\left(\\begin{array}{cccc} \n",
    "a_{11} - b_{11} & a_{12} - b_{12} & \\cdots & a_{1n} - b_{1n} \\\\\n",
    "a_{21} - b_{21} & a_{22} - b_{22} & \\cdots & a_{2n} - b_{2n} \\\\\n",
    "\\vdots & \\vdots & & \\vdots \\\\\n",
    "a_{m1} - b_{m1} & a_{m2} - b_{m2} & \\cdots & a_{mn} - b_{mn}\n",
    "\\end{array}\\right).\n",
    "\\end{equation*}"
   ]
  },
  {
   "cell_type": "markdown",
   "metadata": {},
   "source": [
    ":::{prf:Example}\n",
    "If\n",
    "\n",
    "\\begin{equation*}\n",
    "{\\bf{A}} = \\left(\\begin{array}{cc} 1 & \\color{red} 2 \\\\ \\color{green} 0 & \\color{blue} 4\\end{array}\\right), \n",
    "\\quad\n",
    "{\\bf{B}} = \\left(\\begin{array}{cc} 0 & \\color{red} 3 \\\\ \\color{green} 1 & \\color{blue} 4\\end{array}\\right), \n",
    "\\end{equation*}\n",
    "\n",
    "then we may add the matrices together as ${\\bf{A}}$ has order $2\\times2$ and ${\\bf{B}}$ has the same order, $2\\times2$.\n",
    "\n",
    "\\begin{equation*}\n",
    "{\\bf{A}} + {\\bf{B}} = \\left(\\begin{array}{cc} 1 + 0 & \\color{red} 2 \\color{black} + \\color{red} 3 \\\\ \\color{green} 0 \\color{black} + \\color{green} 1 & \\color{blue} 4 \\color{black} + \\color{blue} 4 \\end{array}\\right), \n",
    "\\quad\n",
    " = \\left(\\begin{array}{cc} 1 & \\color{red} 5 \\\\ \\color{green} 1 & \\color{blue} 8\\end{array}\\right), \n",
    "\\end{equation*}\n",
    "\n",
    "The matrix sum ${\\bf{A}} + {\\bf{B}}$ has the same order as both ${\\bf{A}}$ and ${\\bf{B}}$.  The order of ${\\bf{A}}+{\\bf{B}}$ is $2\\times2$.\n",
    "\n",
    ":::{admonition} Question\n",
    "Calculate ${\\bf{A}} - {\\bf{B}}$\n",
    "\n",
    ":::{admonition} Solution\n",
    ":class: dropdown\n",
    "\\begin{equation*}\n",
    "{\\bf{A}} - {\\bf{B}} = \\left(\\begin{array}{cc} 1 - 0 & \\color{red} 2 \\color{black} - \\color{red} 3 \\\\ \\color{green} 0 \\color{black} - \\color{green} 1 & \\color{blue} 4 \\color{black} - \\color{blue} 4 \\end{array}\\right), \n",
    "\\quad\n",
    " = \\left(\\begin{array}{rr} 1 & \\color{red}-\\color{red}1 \\\\ \\color{green}-\\color{green}1 & \\color{blue} 0\\end{array}\\right), \n",
    "\\end{equation*}\n",
    ":::"
   ]
  },
  {
   "cell_type": "markdown",
   "metadata": {},
   "source": [
    ":::{prf:Example}\n",
    "If\n",
    "\n",
    "\\begin{equation*}\n",
    "{\\bf{A}} = \\left(\\begin{array}{cc} 1 & 2 \\\\ 0 & 4\\end{array}\\right), \n",
    "\\quad\n",
    "{\\bf{B}} = \\left(\\begin{array}{ccc} 0 & 3 & 2 \\\\ 1 & 4 & 1\\end{array}\\right), \n",
    "\\end{equation*}\n",
    "\n",
    "then ${\\bf{A}} + {\\bf{B}}$ and ${\\bf{A}} - {\\bf{B}}$ do not make sense because ${\\bf{A}}$ and ${\\bf{B}}$ have different orders;  ${\\bf{A}}$ is $2\\times2$ but ${\\bf{B}}$ is $2\\times3$."
   ]
  }
 ],
 "metadata": {
  "kernelspec": {
   "display_name": "Python 3",
   "language": "python",
   "name": "python3"
  },
  "language_info": {
   "codemirror_mode": {
    "name": "ipython",
    "version": 3
   },
   "file_extension": ".py",
   "mimetype": "text/x-python",
   "name": "python",
   "nbconvert_exporter": "python",
   "pygments_lexer": "ipython3",
   "version": "3.9.2"
  }
 },
 "nbformat": 4,
 "nbformat_minor": 2
}
