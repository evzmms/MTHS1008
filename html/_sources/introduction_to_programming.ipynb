{
 "cells": [
  {
   "cell_type": "markdown",
   "id": "appointed-point",
   "metadata": {},
   "source": [
    "# Guided Programming\n",
    "\n",
    "\n",
    "* Basic computer programming competence required for all jobs\n",
    "\n",
    "* Solve problems that do not have simple mathematical solutions\n",
    "\n",
    ":::{prf:definition} Computer Programming\n",
    "A *computer program* is a series of *statements*, lines of code, that a computer follows.\n",
    "\n",
    "An *algorithm* is a series of statements designed to solve a particular problem, *e.g.*, find the solution of a quadratic, or find a square root etc.\n",
    ":::\n",
    "\n",
    "* There are different \"languages\" that can be used to write a program in (*e.g.*, C++, Perl, Java, Julia, Fortran etc.).  We will be using Python 3.\n",
    "\n",
    "* Each computer system (*e.g.*, Windows, Mac, UNIX) \"interprets\" the language for its own CPU, we will not need to worry (largely)\n",
    "\n",
    ":::{admonition} What is in a program?\n",
    "\n",
    "* A computer can carry out basic mathematical operations (+, -, ×, ÷)\n",
    "\n",
    "* A computer can store numbers and words in named areas of its memory\n",
    "\n",
    "* A computer can test a logical statement to see if it is true (slow)\n",
    "\n",
    "* A computer can loop (recursively execute) statements\n",
    ":::"
   ]
  },
  {
   "cell_type": "code",
   "execution_count": null,
   "id": "distinct-convertible",
   "metadata": {},
   "outputs": [],
   "source": []
  }
 ],
 "metadata": {
  "kernelspec": {
   "display_name": "Python 3",
   "language": "python",
   "name": "python3"
  },
  "language_info": {
   "codemirror_mode": {
    "name": "ipython",
    "version": 3
   },
   "file_extension": ".py",
   "mimetype": "text/x-python",
   "name": "python",
   "nbconvert_exporter": "python",
   "pygments_lexer": "ipython3",
   "version": "3.9.2"
  }
 },
 "nbformat": 4,
 "nbformat_minor": 5
}
