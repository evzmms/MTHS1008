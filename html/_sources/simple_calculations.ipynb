{
 "cells": [
  {
   "cell_type": "markdown",
   "id": "appreciated-spain",
   "metadata": {},
   "source": [
    "## Simple Calculations\n",
    "\n",
    "We can perform basic calculations in Python just as on a basic calculator.  Addition, subtraction, multiplication and division behave (largely) as you would expect."
   ]
  },
  {
   "cell_type": "code",
   "execution_count": 1,
   "id": "concerned-healthcare",
   "metadata": {},
   "outputs": [
    {
     "data": {
      "text/plain": [
       "3"
      ]
     },
     "execution_count": 1,
     "metadata": {},
     "output_type": "execute_result"
    }
   ],
   "source": [
    "7 - 4"
   ]
  },
  {
   "cell_type": "code",
   "execution_count": 2,
   "id": "canadian-product",
   "metadata": {},
   "outputs": [
    {
     "data": {
      "text/plain": [
       "2.2"
      ]
     },
     "execution_count": 2,
     "metadata": {},
     "output_type": "execute_result"
    }
   ],
   "source": [
    "4.7 - 2.5"
   ]
  },
  {
   "cell_type": "code",
   "execution_count": 3,
   "id": "future-graph",
   "metadata": {},
   "outputs": [
    {
     "data": {
      "text/plain": [
       "72.24"
      ]
     },
     "execution_count": 3,
     "metadata": {},
     "output_type": "execute_result"
    }
   ],
   "source": [
    "3.01 * 24"
   ]
  },
  {
   "cell_type": "code",
   "execution_count": 4,
   "id": "trained-robertson",
   "metadata": {},
   "outputs": [
    {
     "data": {
      "text/plain": [
       "0.6666666666666666"
      ]
     },
     "execution_count": 4,
     "metadata": {},
     "output_type": "execute_result"
    }
   ],
   "source": [
    "2 / 3"
   ]
  },
  {
   "cell_type": "markdown",
   "id": "laughing-division",
   "metadata": {},
   "source": [
    "#### Powers\n",
    "\n",
    "If we wish to raise a number \"to the power\" of another number, for example if I want to square or cube a particular number, then we use a double star."
   ]
  },
  {
   "cell_type": "code",
   "execution_count": 5,
   "id": "incorporate-artist",
   "metadata": {},
   "outputs": [
    {
     "data": {
      "text/plain": [
       "64"
      ]
     },
     "execution_count": 5,
     "metadata": {},
     "output_type": "execute_result"
    }
   ],
   "source": [
    "4**3"
   ]
  },
  {
   "cell_type": "markdown",
   "id": "meaning-things",
   "metadata": {},
   "source": [
    "We can use this operation to calculate square roots (though there are faster methods that we will meet later in the course)."
   ]
  },
  {
   "cell_type": "code",
   "execution_count": 6,
   "id": "descending-cutting",
   "metadata": {},
   "outputs": [
    {
     "data": {
      "text/plain": [
       "5.0"
      ]
     },
     "execution_count": 6,
     "metadata": {},
     "output_type": "execute_result"
    }
   ],
   "source": [
    "25**0.5"
   ]
  }
 ],
 "metadata": {
  "kernelspec": {
   "display_name": "Python 3",
   "language": "python",
   "name": "python3"
  },
  "language_info": {
   "codemirror_mode": {
    "name": "ipython",
    "version": 3
   },
   "file_extension": ".py",
   "mimetype": "text/x-python",
   "name": "python",
   "nbconvert_exporter": "python",
   "pygments_lexer": "ipython3",
   "version": "3.9.2"
  }
 },
 "nbformat": 4,
 "nbformat_minor": 5
}
