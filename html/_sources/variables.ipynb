{
 "cells": [
  {
   "cell_type": "markdown",
   "id": "competent-brighton",
   "metadata": {},
   "source": [
    "## Variables\n",
    "\n",
    ":::{prf:definition} Variables\n",
    "\n",
    "Areas of “named memory” within the computer where our numbers are stored are called **variables** and they may be thought of like mathematical variables in an equation.\n",
    "\n",
    ":::\n",
    "\n",
    "For example, we may wish to define a variable $N$ to store the number of samples we have taken during an experiment.  In this example we are defining a **variable** $N$, and it stores an integer, a whole number.\n",
    "\n",
    "We may also wish to use a variable $W$ to store the weight of some sample from an experiment.  Here $W$ is a **variable** that stores a real number (or “floating point” decimal), not necessarily a whole number.\n",
    "\n",
    "We allocate values to variables using the \"=\" (equals) sign.  The name of our variable goes on the left, the value of our variable goes on the right.  **This is important**  \n",
    "\n",
    "For example, suppose I wish to store the number of samples I have in a variable called `N`.  Let us suppose I have 53 samples.  I set my variable `N` equal to 53 by writing"
   ]
  },
  {
   "cell_type": "code",
   "execution_count": 1,
   "id": "formed-deployment",
   "metadata": {},
   "outputs": [],
   "source": [
    "N = 53"
   ]
  },
  {
   "cell_type": "markdown",
   "id": "reserved-mountain",
   "metadata": {},
   "source": [
    "Although mathematically there is no difference between writing $N = 53$, and writing $53 = N$, there is a world of difference in coding!  Consider what the line of code\n",
    "\n",
    "`53 = N`\n",
    "\n",
    "is trying to do.  It is trying to assign an unknown quantity called `N` to a variable called `53`.  This has predictable consequences - Python does not like it!"
   ]
  },
  {
   "cell_type": "code",
   "execution_count": 2,
   "id": "adjusted-butler",
   "metadata": {},
   "outputs": [
    {
     "ename": "SyntaxError",
     "evalue": "cannot assign to literal (<ipython-input-2-7c14b9af5d78>, line 1)",
     "output_type": "error",
     "traceback": [
      "\u001b[0;36m  File \u001b[0;32m\"<ipython-input-2-7c14b9af5d78>\"\u001b[0;36m, line \u001b[0;32m1\u001b[0m\n\u001b[0;31m    53 = N\u001b[0m\n\u001b[0m    ^\u001b[0m\n\u001b[0;31mSyntaxError\u001b[0m\u001b[0;31m:\u001b[0m cannot assign to literal\n"
     ]
    }
   ],
   "source": [
    "53 = N"
   ]
  },
  {
   "cell_type": "markdown",
   "id": "exempt-typing",
   "metadata": {},
   "source": [
    ":::{prf:definition} The two types of numerical variable\n",
    "**Integer** - a variable that stores a whole number, *e.g.*, if we write `N = 53`, then the variable `N` is an integer\n",
    "\n",
    "**Float** - a variable that stores a number that may not be whole, *e.g.*, if we write `x = 0.5`, then the variable `x` is a float (short for \"floating point decimal\").\n",
    ":::"
   ]
  }
 ],
 "metadata": {
  "kernelspec": {
   "display_name": "Python 3",
   "language": "python",
   "name": "python3"
  },
  "language_info": {
   "codemirror_mode": {
    "name": "ipython",
    "version": 3
   },
   "file_extension": ".py",
   "mimetype": "text/x-python",
   "name": "python",
   "nbconvert_exporter": "python",
   "pygments_lexer": "ipython3",
   "version": "3.9.2"
  }
 },
 "nbformat": 4,
 "nbformat_minor": 5
}
