{
 "cells": [
  {
   "attachments": {},
   "cell_type": "markdown",
   "metadata": {},
   "source": [
    "(sec_linear_systems)=\n",
    "\n",
    "# Linear Systems\n",
    "\n",
    "\n",
    "* Many engineering problems result in a system of equations for unknown quantities $x_1$, $x_2$, $x_3$, $x_4$, say.\n",
    "* Variables $x_i$ for $i=1$, $2$, $3$, $4$ represent, for example, production totals, electrical currents, stresses, etc.\n",
    "* Often these equations will be **linear**, i.e., no variable is either raised to a power (other than one) or multiplied by one of the other variables.\n",
    "* We will be interested in techniques which can be efficiently extended to problems with many unknowns, as engineering applications often demand (although in lectures, problems etc., we will rarely go beyond three variables).\n",
    "\n",
    ":::{admonition} Definition\n",
    "A **linear system** is a set of mathematical equations where the unknown quantites are raised to the power 1 only, and are not multiplied by any of the other unknown quantites.  Simultaneous equations studied at school are a familiar example.\n",
    ":::"
   ]
  },
  {
   "cell_type": "code",
   "execution_count": null,
   "metadata": {},
   "outputs": [],
   "source": []
  }
 ],
 "metadata": {
  "kernelspec": {
   "display_name": "Python 3",
   "language": "python",
   "name": "python3"
  },
  "language_info": {
   "codemirror_mode": {
    "name": "ipython",
    "version": 3
   },
   "file_extension": ".py",
   "mimetype": "text/x-python",
   "name": "python",
   "nbconvert_exporter": "python",
   "pygments_lexer": "ipython3",
   "version": "3.9.2"
  }
 },
 "nbformat": 4,
 "nbformat_minor": 2
}
