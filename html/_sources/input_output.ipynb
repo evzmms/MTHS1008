{
 "cells": [
  {
   "cell_type": "markdown",
   "id": "complicated-holder",
   "metadata": {},
   "source": [
    "## Input/Output \n",
    "\n",
    "- We often want the user to be able to input a number for our code to use; the number of samples, say.\n",
    "\n",
    "- Let us assign a user-input number to a variable `N`.  We need to tell Python to ask for an `input` and to make it an integer using `int`."
   ]
  },
  {
   "cell_type": "code",
   "execution_count": 1,
   "id": "determined-assessment",
   "metadata": {},
   "outputs": [
    {
     "name": "stdout",
     "output_type": "stream",
     "text": [
      "Number of successful experiments: 23\n"
     ]
    }
   ],
   "source": [
    "N = int(input('Number of successful experiments: '))"
   ]
  },
  {
   "cell_type": "code",
   "execution_count": 2,
   "id": "significant-adoption",
   "metadata": {},
   "outputs": [
    {
     "data": {
      "text/plain": [
       "int"
      ]
     },
     "execution_count": 2,
     "metadata": {},
     "output_type": "execute_result"
    }
   ],
   "source": [
    "type(N)"
   ]
  },
  {
   "cell_type": "code",
   "execution_count": 3,
   "id": "charming-machinery",
   "metadata": {},
   "outputs": [
    {
     "name": "stdout",
     "output_type": "stream",
     "text": [
      "N = 7\n"
     ]
    }
   ],
   "source": [
    "N = int(input('N = '))"
   ]
  },
  {
   "cell_type": "markdown",
   "id": "elementary-karen",
   "metadata": {},
   "source": [
    "What does the following do?"
   ]
  },
  {
   "cell_type": "code",
   "execution_count": 4,
   "id": "removed-holder",
   "metadata": {},
   "outputs": [
    {
     "name": "stdout",
     "output_type": "stream",
     "text": [
      "User-input variable: N = 7\n"
     ]
    }
   ],
   "source": [
    "print('User-input variable: N =', N)"
   ]
  },
  {
   "cell_type": "markdown",
   "id": "missing-glossary",
   "metadata": {},
   "source": [
    "A variable that contains text is known as a “string”.  We can achieve the same output with"
   ]
  },
  {
   "cell_type": "code",
   "execution_count": 5,
   "id": "colored-johns",
   "metadata": {},
   "outputs": [
    {
     "name": "stdout",
     "output_type": "stream",
     "text": [
      "User-input variable: N = 7\n"
     ]
    }
   ],
   "source": [
    "TXT = 'User-input variable: N ='\n",
    "print(TXT, N)"
   ]
  },
  {
   "cell_type": "markdown",
   "id": "protected-plane",
   "metadata": {},
   "source": [
    ":::{prf:definition} A non-numerical variable\n",
    "\n",
    "**String** - a variable that stores characters, typically words, *e.g.*, if we write `species = \"cat\"`, then the variable `species` is a string and it stores the word \"cat\".\n",
    ":::"
   ]
  }
 ],
 "metadata": {
  "kernelspec": {
   "display_name": "Python 3",
   "language": "python",
   "name": "python3"
  },
  "language_info": {
   "codemirror_mode": {
    "name": "ipython",
    "version": 3
   },
   "file_extension": ".py",
   "mimetype": "text/x-python",
   "name": "python",
   "nbconvert_exporter": "python",
   "pygments_lexer": "ipython3",
   "version": "3.9.2"
  }
 },
 "nbformat": 4,
 "nbformat_minor": 5
}
