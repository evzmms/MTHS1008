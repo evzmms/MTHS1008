{
 "cells": [
  {
   "cell_type": "markdown",
   "id": "appointed-point",
   "metadata": {},
   "source": [
    "# INTRODUCTION TO PROGRAMMING\n",
    "\n",
    "**Mathematical Methods for Chemical Engineers (MTHS1008)**\n",
    "\n",
    "**Dr Matthew Scase**\n",
    "\n",
    "**Motivation**\n",
    "\n",
    "- Basic computer programming competence required for all jobs\n",
    "\n",
    "- Solve problems that do not have simple mathematical solutions\n",
    "\n",
    "## Introduction \n",
    "- A computer program is a set of “statements” that a computer blindly follows\n",
    "\n",
    "- An “algorithm” is a set of statements designed to solve a particular problem, e.g., find the solution of a quadratic, or find a square root etc.\n",
    "\n",
    "- There are different “languages” that can be used to write a program in (e.g., C++, Perl, Java, Julia, Fortran etc.).  We will be using Python 3.\n",
    "\n",
    "- Each computer system (e.g., Windows, Mac, UNIX) “interprets” the language for its own CPU, we will not need to worry (largely)\n",
    "\n",
    "#### What is in a program?\n",
    "\n",
    "- A computer can carry out basic mathematical operations (+, -, ×, ÷)\n",
    "\n",
    "- A computer can store numbers in named areas of its memory\n",
    "\n",
    "- A computer can test a logical statement to see if it is true (slow)\n",
    "\n",
    "- A computer can loop (recursively execute) statements\n",
    "\n",
    "- Test everything\n",
    "\n",
    "## Simple Calculations\n",
    "We can perform basic calculations in Python just as on a basic calculator.  Addition, subtraction, multiplication and division behave (largely) as you would expect"
   ]
  },
  {
   "cell_type": "code",
   "execution_count": 1,
   "id": "encouraging-borough",
   "metadata": {},
   "outputs": [
    {
     "data": {
      "text/plain": [
       "11"
      ]
     },
     "execution_count": 1,
     "metadata": {},
     "output_type": "execute_result"
    }
   ],
   "source": [
    "7 + 4"
   ]
  },
  {
   "cell_type": "code",
   "execution_count": 2,
   "id": "english-staff",
   "metadata": {},
   "outputs": [
    {
     "data": {
      "text/plain": [
       "2.2"
      ]
     },
     "execution_count": 2,
     "metadata": {},
     "output_type": "execute_result"
    }
   ],
   "source": [
    "4.7 - 2.5"
   ]
  },
  {
   "cell_type": "code",
   "execution_count": 3,
   "id": "renewable-bumper",
   "metadata": {},
   "outputs": [
    {
     "data": {
      "text/plain": [
       "72.24"
      ]
     },
     "execution_count": 3,
     "metadata": {},
     "output_type": "execute_result"
    }
   ],
   "source": [
    "3.01 * 24"
   ]
  },
  {
   "cell_type": "code",
   "execution_count": 4,
   "id": "basic-gothic",
   "metadata": {},
   "outputs": [
    {
     "data": {
      "text/plain": [
       "0.6666666666666666"
      ]
     },
     "execution_count": 4,
     "metadata": {},
     "output_type": "execute_result"
    }
   ],
   "source": [
    "2 / 3"
   ]
  },
  {
   "cell_type": "markdown",
   "id": "excessive-holocaust",
   "metadata": {},
   "source": [
    "**Be careful**! Division in older versions of Python (legacy Python 2 code) behaves differently to division in Python 3.\n",
    "\n",
    "### Powers\n",
    "If we wish to raise a number \"to the power\" of another number, for example if I want to square or cube a particular number, then we use a double star."
   ]
  },
  {
   "cell_type": "code",
   "execution_count": 5,
   "id": "documentary-heritage",
   "metadata": {},
   "outputs": [
    {
     "data": {
      "text/plain": [
       "64"
      ]
     },
     "execution_count": 5,
     "metadata": {},
     "output_type": "execute_result"
    }
   ],
   "source": [
    "4**3"
   ]
  },
  {
   "cell_type": "markdown",
   "id": "running-orleans",
   "metadata": {},
   "source": [
    "We can use this operation to calculate square roots (though there are faster methods that we will meet later in the course)."
   ]
  },
  {
   "cell_type": "code",
   "execution_count": 6,
   "id": "interstate-saturday",
   "metadata": {},
   "outputs": [
    {
     "data": {
      "text/plain": [
       "4.0"
      ]
     },
     "execution_count": 6,
     "metadata": {},
     "output_type": "execute_result"
    }
   ],
   "source": [
    "16**0.5"
   ]
  },
  {
   "cell_type": "markdown",
   "id": "statistical-juvenile",
   "metadata": {},
   "source": [
    "## Variables\n",
    "\n",
    "- The “named memory” locations where our numbers are stored are called variables and they may be thought of like mathematical variables in an equation\n",
    "\n",
    "- For example we might want to use a scalar $W$ for the weight of some sample.  Here $W$ is a real number (or “floating point” decimal)\n",
    "\n",
    "- We may also want to use $N$ to represent the number of samples we have taken.  In this example $N$ is an integer\n",
    "\n",
    "- We allocate values to variables using the \"=\" (equals) sign.  The name of our variable goes on the left, the value of our variable goes on the right.  **This is important**!  For example, suppose I wish to store the number of samples I have in a variable called `N`.  Let us suppose I have 53 samples.  I set my variable `N` equal to 53 by writing\n"
   ]
  },
  {
   "cell_type": "code",
   "execution_count": 7,
   "id": "compressed-filter",
   "metadata": {},
   "outputs": [],
   "source": [
    "N = 53"
   ]
  },
  {
   "cell_type": "markdown",
   "id": "single-medicare",
   "metadata": {},
   "source": [
    "We can test to see what value a particular variable has by either just writing the name of the variable $\\ldots$"
   ]
  },
  {
   "cell_type": "code",
   "execution_count": 8,
   "id": "bibliographic-bandwidth",
   "metadata": {},
   "outputs": [
    {
     "data": {
      "text/plain": [
       "53"
      ]
     },
     "execution_count": 8,
     "metadata": {},
     "output_type": "execute_result"
    }
   ],
   "source": [
    "N"
   ]
  },
  {
   "cell_type": "markdown",
   "id": "adapted-duration",
   "metadata": {},
   "source": [
    "$\\ldots$ or getting Python to `print` the value of the variable to the screen"
   ]
  },
  {
   "cell_type": "code",
   "execution_count": 9,
   "id": "finnish-lyric",
   "metadata": {},
   "outputs": [
    {
     "name": "stdout",
     "output_type": "stream",
     "text": [
      "53\n"
     ]
    }
   ],
   "source": [
    "print(N)"
   ]
  },
  {
   "cell_type": "markdown",
   "id": "unusual-laugh",
   "metadata": {},
   "source": [
    "Can you spot the difference in the output?\n",
    "\n",
    "Although mathematically there is no difference between writing $N = 53$, and writing $53 = N$, there is a world of difference in coding!  Consider what the line of code\n",
    "\n",
    "`53 = N`\n",
    "\n",
    "is trying to do.  It is trying to assign an unknown quantity called `N` to a variable called `53`.  This has predictable consequences - Python does not like it!"
   ]
  },
  {
   "cell_type": "code",
   "execution_count": 10,
   "id": "removable-festival",
   "metadata": {},
   "outputs": [
    {
     "ename": "SyntaxError",
     "evalue": "cannot assign to literal (<ipython-input-10-7c14b9af5d78>, line 1)",
     "output_type": "error",
     "traceback": [
      "\u001b[0;36m  File \u001b[0;32m\"<ipython-input-10-7c14b9af5d78>\"\u001b[0;36m, line \u001b[0;32m1\u001b[0m\n\u001b[0;31m    53 = N\u001b[0m\n\u001b[0m    ^\u001b[0m\n\u001b[0;31mSyntaxError\u001b[0m\u001b[0;31m:\u001b[0m cannot assign to literal\n"
     ]
    }
   ],
   "source": [
    "53 = N"
   ]
  },
  {
   "cell_type": "markdown",
   "id": "committed-mexican",
   "metadata": {},
   "source": [
    "## Input/Output \n",
    "\n",
    "- We often want the user to be able to input a number for our code to use; the number of samples, say.\n",
    "\n",
    "- Let us assign a user-input number to a variable `N`.  We need to tell Python to ask for an `input` and to make it an integer using `int`"
   ]
  },
  {
   "cell_type": "code",
   "execution_count": 11,
   "id": "synthetic-selling",
   "metadata": {},
   "outputs": [
    {
     "name": "stdout",
     "output_type": "stream",
     "text": [
      "N = 12\n"
     ]
    }
   ],
   "source": [
    "N = int(input('N = '))"
   ]
  },
  {
   "cell_type": "markdown",
   "id": "complimentary-kernel",
   "metadata": {},
   "source": [
    "What does the following do?"
   ]
  },
  {
   "cell_type": "code",
   "execution_count": 12,
   "id": "smooth-referral",
   "metadata": {},
   "outputs": [
    {
     "name": "stdout",
     "output_type": "stream",
     "text": [
      "User-input variable: N = 12\n"
     ]
    }
   ],
   "source": [
    "print('User-input variable: N =', N)"
   ]
  },
  {
   "cell_type": "markdown",
   "id": "convenient-neighborhood",
   "metadata": {},
   "source": [
    "A variable that contains text is known as a “string” so we could achieve the same output with"
   ]
  },
  {
   "cell_type": "code",
   "execution_count": 13,
   "id": "essential-advertising",
   "metadata": {},
   "outputs": [
    {
     "name": "stdout",
     "output_type": "stream",
     "text": [
      "User-input variable: N = 12\n"
     ]
    }
   ],
   "source": [
    "TXT = 'User-input variable: N ='\n",
    "print(TXT, N)"
   ]
  },
  {
   "cell_type": "markdown",
   "id": "suspected-latino",
   "metadata": {},
   "source": [
    "## Conditional Statements\n",
    "- We can test to see if a condition is true or false and make our code carry out different tasks based on the outcome.\n",
    "\n",
    "- For example, I may want to calculate a ratio of two numbers but I need to be careful that I am not dividing by zero.  If at any point I try and make Python divide by zero I will get an error"
   ]
  },
  {
   "cell_type": "code",
   "execution_count": 14,
   "id": "wound-blanket",
   "metadata": {},
   "outputs": [
    {
     "ename": "ZeroDivisionError",
     "evalue": "division by zero",
     "output_type": "error",
     "traceback": [
      "\u001b[0;31m---------------------------------------------------------------------------\u001b[0m",
      "\u001b[0;31mZeroDivisionError\u001b[0m                         Traceback (most recent call last)",
      "\u001b[0;32m<ipython-input-14-adafc2937013>\u001b[0m in \u001b[0;36m<module>\u001b[0;34m\u001b[0m\n\u001b[0;32m----> 1\u001b[0;31m \u001b[0;36m5\u001b[0m \u001b[0;34m/\u001b[0m \u001b[0;36m0\u001b[0m\u001b[0;34m\u001b[0m\u001b[0;34m\u001b[0m\u001b[0m\n\u001b[0m",
      "\u001b[0;31mZeroDivisionError\u001b[0m: division by zero"
     ]
    }
   ],
   "source": [
    "5 / 0"
   ]
  },
  {
   "cell_type": "markdown",
   "id": "usual-parent",
   "metadata": {},
   "source": [
    "(Observe that the error message tells us what we have done wrong.)\n",
    "\n",
    "### if-else Statements\n",
    "If I want to divide two numbers and I am not sure whether the divisor is zero or not we can use a conditional `if` statement to check.  The format of an `if` statement is\n",
    "\n",
    "`if` `condition` `true`:\n",
    "\n",
    "      Carry out this task\n",
    "      \n",
    "`else`:\n",
    "\n",
    "      Carry out a different task\n",
    "\n",
    "Let's get the user two input two numbers that we will store in variables `a` and `b`.  We will calculate the ratio $a \\div b$, but only if $b$ is not zero, i.e., we will only output $a \\div b$ if we are certain we are not dividing by zero."
   ]
  },
  {
   "cell_type": "code",
   "execution_count": 15,
   "id": "certain-clarity",
   "metadata": {},
   "outputs": [
    {
     "name": "stdout",
     "output_type": "stream",
     "text": [
      "a = 3\n",
      "b = 0\n",
      "Attempting to divide by zero\n"
     ]
    }
   ],
   "source": [
    "a = float(input('a = '))\n",
    "b = float(input('b = '))\n",
    "if b == 0:\n",
    "    print('Attempting to divide by zero')\n",
    "else:\n",
    "    print('a/b = ', a/b)"
   ]
  },
  {
   "cell_type": "markdown",
   "id": "every-stewart",
   "metadata": {},
   "source": [
    "## Loops\n",
    "A loop is used for executing a block of statements repeatedly until a particular condition is satisfied.\n",
    "\n",
    "We will meet two types of loop, a `for` loop and a `while` loop.  In both cases the indented block of code following the loop statement is executed over and over again.\n",
    "\n",
    "### for loops\n",
    "A `for` loop requires an associated variable and a range over which the variable changes.  The loop will execute our indented block of code iteratively.  Each time around the loop the associated variable will be updated to the next member of the range.  The format of a `for` loop is\n",
    "\n",
    "    for variable in range:\n",
    "      \n",
    "        statements\n",
    "\n",
    "**The indentation is very important**!\n",
    "\n",
    "Suppose we wish to output the numbers 1 to 5, we could (though we never, ever, ever should!) implement this by writing"
   ]
  },
  {
   "cell_type": "code",
   "execution_count": 16,
   "id": "connected-harvest",
   "metadata": {},
   "outputs": [
    {
     "name": "stdout",
     "output_type": "stream",
     "text": [
      "1\n",
      "2\n",
      "3\n",
      "4\n",
      "5\n"
     ]
    }
   ],
   "source": [
    "print(1)\n",
    "print(2)\n",
    "print(3)\n",
    "print(4)\n",
    "print(5)"
   ]
  },
  {
   "cell_type": "markdown",
   "id": "located-northern",
   "metadata": {},
   "source": [
    "See how each line of the code is essentially the same - but with one number changing each time?  The number is an integer that increases by one on each subsequent line.  We are essentially executing exactly the same task each time, but with a number that increases by one as we move from one line to the next.\n",
    "\n",
    "Imagine how much typing, and how many lines of code would be involved if we wanted to output the numbers 1 to 1024, or more.  There must be a better way.  There is.\n",
    "\n",
    "What we really want to do is have an integer, let's call it $i$, start at a value of 1 then $\\ldots$\n",
    "\n",
    "- print out the value of $i$\n",
    "\n",
    "- increase the value of $i$ by 1\n",
    "\n",
    "- go back to the the first bullet point if $i$ is less than or equal to 5.\n",
    "\n",
    "This is a `for` loop with associated variable `i` that is in the range of integers from 1 to 5.  We can implement this in several ways.  For example $\\ldots$"
   ]
  },
  {
   "cell_type": "code",
   "execution_count": 17,
   "id": "primary-philippines",
   "metadata": {},
   "outputs": [
    {
     "name": "stdout",
     "output_type": "stream",
     "text": [
      "1\n",
      "2\n",
      "3\n",
      "4\n",
      "5\n"
     ]
    }
   ],
   "source": [
    "for i in [1, 2, 3, 4, 5]:\n",
    "    print(i)"
   ]
  },
  {
   "cell_type": "markdown",
   "id": "hybrid-platform",
   "metadata": {},
   "source": [
    "$\\ldots$ or $\\ldots$"
   ]
  },
  {
   "cell_type": "code",
   "execution_count": 18,
   "id": "excess-mercury",
   "metadata": {},
   "outputs": [
    {
     "name": "stdout",
     "output_type": "stream",
     "text": [
      "1\n",
      "2\n",
      "3\n",
      "4\n",
      "5\n"
     ]
    }
   ],
   "source": [
    "for i in range(5):\n",
    "    print(i + 1)"
   ]
  },
  {
   "cell_type": "markdown",
   "id": "handled-daisy",
   "metadata": {},
   "source": [
    "Which of these methods would generalise most easily to print out the numbers from 1 to 1024?\n",
    "\n",
    "What does the following code do?"
   ]
  },
  {
   "cell_type": "code",
   "execution_count": 19,
   "id": "korean-bankruptcy",
   "metadata": {},
   "outputs": [
    {
     "name": "stdout",
     "output_type": "stream",
     "text": [
      "0\n",
      "1\n",
      "2\n",
      "3\n",
      "4\n",
      "5\n",
      "6\n",
      "7\n",
      "8\n",
      "9\n",
      "10\n",
      "11\n",
      "12\n",
      "13\n",
      "14\n",
      "15\n",
      "16\n",
      "17\n",
      "18\n",
      "19\n",
      "20\n",
      "21\n",
      "22\n",
      "23\n",
      "24\n"
     ]
    }
   ],
   "source": [
    "N = 25\n",
    "for i in range(N):\n",
    "    print(i)"
   ]
  },
  {
   "cell_type": "markdown",
   "id": "danish-rugby",
   "metadata": {},
   "source": [
    "In the following code block the line\n",
    "\n",
    "`N = N + 1`\n",
    "\n",
    "looks foolish to the untrained eye! What does the code do?"
   ]
  },
  {
   "cell_type": "code",
   "execution_count": 20,
   "id": "russian-seating",
   "metadata": {},
   "outputs": [
    {
     "name": "stdout",
     "output_type": "stream",
     "text": [
      "25\n",
      "26\n",
      "27\n",
      "28\n",
      "29\n",
      "30\n",
      "31\n",
      "32\n",
      "33\n",
      "34\n"
     ]
    }
   ],
   "source": [
    "N = 25\n",
    "for i in range(10):\n",
    "    print(N)\n",
    "    N = N + 1"
   ]
  },
  {
   "cell_type": "markdown",
   "id": "working-offering",
   "metadata": {},
   "source": [
    "### while loops\n",
    "The second sort of loop that is very useful is a `while` loop. \n",
    "\n",
    "A `while` loop recursively executes an indented code block \"while\" a given condition is satisfied.\n",
    "\n",
    "Let's suppose I want to run an arithmetic quiz where you are not allowed on to the next question until you get the current question correct.  I want to keep asking the same question over and over again, *while* the answer I am being given by the user is wrong.\n",
    "\n",
    "I can set this up using a `while` loop in the following way:\n",
    "\n",
    "Define a variable called `answer` that is initially wrong then\n",
    "\n",
    "- Ask the quiz question\n",
    "\n",
    "- Read the user-input into the variable answer\n",
    "\n",
    "- While the variable answer is not equal to the answer of my question go back to the first bullet point\n",
    "\n",
    "One way to implement this is"
   ]
  },
  {
   "cell_type": "code",
   "execution_count": 21,
   "id": "fitted-demographic",
   "metadata": {},
   "outputs": [
    {
     "name": "stdout",
     "output_type": "stream",
     "text": [
      "What is 3*4 ? 11\n",
      "What is 3*4 ? 14\n",
      "What is 3*4 ? 12\n",
      "Correct!\n"
     ]
    }
   ],
   "source": [
    "ANSWER = 0\n",
    "while ANSWER != 12:\n",
    "    ANSWER = int(input('What is 3*4 ? '))\n",
    "print('Correct!')"
   ]
  },
  {
   "cell_type": "markdown",
   "id": "afraid-bangkok",
   "metadata": {},
   "source": [
    "What does the `!=` in the code above mean?\n",
    "\n",
    "What does the following code do?"
   ]
  },
  {
   "cell_type": "code",
   "execution_count": 22,
   "id": "bronze-doctor",
   "metadata": {},
   "outputs": [
    {
     "name": "stdout",
     "output_type": "stream",
     "text": [
      "3628800\n"
     ]
    }
   ],
   "source": [
    "M = 10\n",
    "F = M\n",
    "while M > 1:\n",
    "    F = F*(M - 1)\n",
    "    M = M - 1\n",
    "print(F)"
   ]
  },
  {
   "cell_type": "markdown",
   "id": "patient-indonesian",
   "metadata": {},
   "source": [
    "Be **exceptionally careful** with `while` loops to ensure that the `condition` for terminating the loop is always met.  \n",
    "\n",
    "If the condition is never met your code will just \"hang\".  For example, a simple typo in the above code will lead to a while loop that never terminates $\\ldots$.\n",
    "\n",
    "[I recommend not running this next cell as it will crash your kernel!]"
   ]
  },
  {
   "cell_type": "code",
   "execution_count": 23,
   "id": "operational-skirt",
   "metadata": {},
   "outputs": [],
   "source": [
    "M = 10\n",
    "F = M\n",
    "#while M > 1:\n",
    "#    F = F*(M - 1)\n",
    "#    M = M + 1\n",
    "#print(F)"
   ]
  },
  {
   "cell_type": "markdown",
   "id": "acknowledged-swedish",
   "metadata": {},
   "source": [
    "What disastrous mistake have I made?"
   ]
  }
 ],
 "metadata": {
  "kernelspec": {
   "display_name": "Python 3",
   "language": "python",
   "name": "python3"
  },
  "language_info": {
   "codemirror_mode": {
    "name": "ipython",
    "version": 3
   },
   "file_extension": ".py",
   "mimetype": "text/x-python",
   "name": "python",
   "nbconvert_exporter": "python",
   "pygments_lexer": "ipython3",
   "version": "3.9.2"
  }
 },
 "nbformat": 4,
 "nbformat_minor": 5
}
