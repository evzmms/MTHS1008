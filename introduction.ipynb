{
 "cells": [
  {
   "cell_type": "markdown",
   "id": "appointed-point",
   "metadata": {},
   "source": [
    "# INTRODUCTION TO PROGRAMMING\n",
    "\n",
    "### Mathematical Methods for Chemical Engineers (MTHS1008) \n",
    "### Dr Matthew Scase \n",
    "\n",
    "### Motivation \n",
    "•\tBasic computer programming competence required for all jobs\n",
    "\n",
    "•\tSolve problems that do not have simple mathematical solutions\n",
    "\n",
    "## Introduction \n",
    "•\tA computer program is a set of “statements” that a computer blindly follows\n",
    "\n",
    "•\tAn “algorithm” is a set of statements designed to solve a particular problem, e.g., find the solution of a quadratic, or find a square root etc.\n",
    "\n",
    "•\tThere are different “languages” that can be used to write a program in (e.g., C++, Perl, Java, Julia, Fortran etc.).  We will be using Python 3.\n",
    "\n",
    "•\tEach computer system (e.g., Windows, Mac, UNIX) “interprets” the language for its own CPU, we will not need to worry (largely)\n",
    "\n",
    "#### What is in a program\n",
    "\n",
    "•\tA computer can carry out basic mathematical operations (+, -, ×, ÷)\n",
    "\n",
    "•\tA computer can store numbers in named areas of its memory\n",
    "\n",
    "•\tA computer can test a logical statement to see if it is true (slow)\n",
    "\n",
    "•\tA computer can loop (recursively execute) statements\n",
    "\n",
    "•\tTest everything\n",
    "\n",
    "## Simple Calculations\n",
    "We can perform basic calculations in Python just as on a basic calculator.  Addition, subtraction, multiplication and division behave (largely) as you would expect"
   ]
  },
  {
   "cell_type": "code",
   "execution_count": null,
   "id": "encouraging-borough",
   "metadata": {},
   "outputs": [],
   "source": [
    "7 + 4"
   ]
  },
  {
   "cell_type": "code",
   "execution_count": null,
   "id": "english-staff",
   "metadata": {},
   "outputs": [],
   "source": [
    "4.7 - 2.5"
   ]
  },
  {
   "cell_type": "code",
   "execution_count": null,
   "id": "renewable-bumper",
   "metadata": {},
   "outputs": [],
   "source": [
    "3.01 * 24"
   ]
  },
  {
   "cell_type": "code",
   "execution_count": null,
   "id": "basic-gothic",
   "metadata": {},
   "outputs": [],
   "source": [
    "2 / 3"
   ]
  },
  {
   "cell_type": "markdown",
   "id": "excessive-holocaust",
   "metadata": {},
   "source": [
    "**Be careful**! Division in older versions of Python (legacy Python 2 code) behaves differently to division in Python 3."
   ]
  },
  {
   "cell_type": "markdown",
   "id": "instructional-retail",
   "metadata": {},
   "source": [
    "### Powers\n",
    "If we wish to raise a number \"to the power\" of another number, for example if I want to square or cube a particular number, then we use a double star."
   ]
  },
  {
   "cell_type": "code",
   "execution_count": null,
   "id": "documentary-heritage",
   "metadata": {},
   "outputs": [],
   "source": [
    "4**3"
   ]
  },
  {
   "cell_type": "markdown",
   "id": "running-orleans",
   "metadata": {},
   "source": [
    "We can use this operation to calculate square roots (though there are faster methods that we will meet later in the course)."
   ]
  },
  {
   "cell_type": "code",
   "execution_count": null,
   "id": "interstate-saturday",
   "metadata": {},
   "outputs": [],
   "source": [
    "16**0.5"
   ]
  },
  {
   "cell_type": "markdown",
   "id": "statistical-juvenile",
   "metadata": {},
   "source": [
    "## Variables\n",
    "\n",
    "•\tThe “named memory” locations where our numbers are stored are called variables and they may be thought of like mathematical variables in an equation\n",
    "\n",
    "•\tFor example we might want to use a scalar $W$ for the weight of some sample.  Here $W$ is a real number (or “floating point” decimal)\n",
    "\n",
    "•\tWe may also want to use $N$ to represent the number of samples we have taken.  In this example $N$ is an integer\n",
    "\n",
    "•\tWe allocate values to variables using the \"=\" (equals) sign.  The name of our variable goes on the left, the value of our variable goes on the right.  **This is important**!  For example, suppose I wish to store the number of samples I have in a variable called `N`.  Let us suppose I have 53 samples.  I set my variable `N` equal to 53 by writing\n"
   ]
  },
  {
   "cell_type": "code",
   "execution_count": null,
   "id": "compressed-filter",
   "metadata": {},
   "outputs": [],
   "source": [
    "N = 53"
   ]
  },
  {
   "cell_type": "markdown",
   "id": "single-medicare",
   "metadata": {},
   "source": [
    "We can test to see what value a particular variable has by either just writing the name of the variable $\\ldots$"
   ]
  },
  {
   "cell_type": "code",
   "execution_count": null,
   "id": "bibliographic-bandwidth",
   "metadata": {},
   "outputs": [],
   "source": [
    "N"
   ]
  },
  {
   "cell_type": "markdown",
   "id": "adapted-duration",
   "metadata": {},
   "source": [
    "$\\ldots$ or getting Python to `print` the value of the variable to the screen"
   ]
  },
  {
   "cell_type": "code",
   "execution_count": null,
   "id": "finnish-lyric",
   "metadata": {},
   "outputs": [],
   "source": [
    "print(N)"
   ]
  },
  {
   "cell_type": "markdown",
   "id": "unusual-laugh",
   "metadata": {},
   "source": [
    "Can you spot the difference in the output?\n",
    "\n",
    "Although mathematically there is no difference between writing $N = 53$, and writing $53 = N$, there is a world of difference in coding!  Consider what the line of code\n",
    "\n",
    "`53 = N`\n",
    "\n",
    "is trying to do.  It is trying to assign an unknown quantity called `N` to a variable called `53`.  This has predictable consequences - Python does not like it!"
   ]
  },
  {
   "cell_type": "code",
   "execution_count": null,
   "id": "removable-festival",
   "metadata": {},
   "outputs": [],
   "source": [
    "53 = N"
   ]
  },
  {
   "cell_type": "markdown",
   "id": "committed-mexican",
   "metadata": {},
   "source": [
    "### Input/Output \n",
    "•\tWe often want the user to be able to input a number for our code to use; the number of samples, say.\n",
    "\n",
    "•\tLet us assign a user-input number to a variable `N`.  We need to tell Python to ask for an `input` and to make it an integer using `int`"
   ]
  },
  {
   "cell_type": "code",
   "execution_count": null,
   "id": "synthetic-selling",
   "metadata": {},
   "outputs": [],
   "source": [
    "N = int(input('N = '))"
   ]
  },
  {
   "cell_type": "markdown",
   "id": "complimentary-kernel",
   "metadata": {},
   "source": [
    "What does the following do?"
   ]
  },
  {
   "cell_type": "code",
   "execution_count": null,
   "id": "smooth-referral",
   "metadata": {},
   "outputs": [],
   "source": [
    "print('User-input variable: N =', N)"
   ]
  },
  {
   "cell_type": "markdown",
   "id": "convenient-neighborhood",
   "metadata": {},
   "source": [
    "A variable that contains text is known as a “string” so we could achieve the same output with"
   ]
  },
  {
   "cell_type": "code",
   "execution_count": null,
   "id": "essential-advertising",
   "metadata": {},
   "outputs": [],
   "source": [
    "txt = 'User-input variable: N ='\n",
    "print(txt, N)"
   ]
  },
  {
   "cell_type": "markdown",
   "id": "suspected-latino",
   "metadata": {},
   "source": [
    "## Conditional Statements\n",
    "•\tWe can test to see if a condition is true or false and make our code carry out different tasks based on the outcome.\n",
    "\n",
    "•\tFor example, I may want to calculate a ratio of two numbers but I need to be careful that I am not dividing by zero.  If at any point I try and make Python divide by zero I will get an error"
   ]
  },
  {
   "cell_type": "code",
   "execution_count": null,
   "id": "wound-blanket",
   "metadata": {},
   "outputs": [],
   "source": [
    "5 / 0"
   ]
  },
  {
   "cell_type": "markdown",
   "id": "usual-parent",
   "metadata": {},
   "source": [
    "(Observe that the error message tells us what we have done wrong.)\n",
    "\n",
    "### if-else Statements\n",
    "If I want to divide two numbers and I am not sure whether the divisor is zero or not we can use a conditional `if` statement to check.  The format of an `if` statement is\n",
    "\n",
    "`if` `condition` `true`:\n",
    "\n",
    "      Carry out this task\n",
    "      \n",
    "`else`:\n",
    "\n",
    "      Carry out a different task\n",
    "\n",
    "Let's get the user two input two numbers that we will store in variables `a` and `b`.  We will calculate the ratio $a \\div b$, but only if $b$ is not zero, i.e., we will only output $a \\div b$ if we are certain we are not dividing by zero."
   ]
  },
  {
   "cell_type": "code",
   "execution_count": null,
   "id": "certain-clarity",
   "metadata": {},
   "outputs": [],
   "source": [
    "a = float(input('a = '))\n",
    "b = float(input('b = '))\n",
    "if b == 0:\n",
    "    print('Attempting to divide by zero')\n",
    "else:\n",
    "    print('a/b = ', a/b)"
   ]
  },
  {
   "cell_type": "markdown",
   "id": "every-stewart",
   "metadata": {},
   "source": [
    "## Loops\n",
    "A loop is used for executing a block of statements repeatedly until a particular condition is satisfied.\n",
    "\n",
    "We will meet two types of loop, a `for` loop and a `while` loop.  In both cases the indented block of code following the loop statement is executed over and over again.\n",
    "\n",
    "### for loops\n",
    "A `for` loop requires an associated variable and a range over which the variable changes.  The loop will execute our indented block of code iteratively.  Each time around the loop the associated variable will be updated to the next member of the range.  The format of a `for` loop is\n",
    "\n",
    "`for` variable `in` range:\n",
    "      \n",
    "    statements\n",
    "\n",
    "**The indentation is very important**!\n",
    "\n",
    "Suppose we wish to output the numbers 1 to 5, we could (though we never, ever, ever should!) implement this by writing"
   ]
  },
  {
   "cell_type": "code",
   "execution_count": null,
   "id": "connected-harvest",
   "metadata": {},
   "outputs": [],
   "source": [
    "print(1)\n",
    "print(2)\n",
    "print(3)\n",
    "print(4)\n",
    "print(5)"
   ]
  },
  {
   "cell_type": "markdown",
   "id": "located-northern",
   "metadata": {},
   "source": [
    "See how each line of the code is essentially the same - but with one number changing each time?  The number is an integer that increases by one on each subsequent line.  We are essentially executing exactly the same task each time, but with a number that increases by one as we move from one line to the next.\n",
    "\n",
    "Imagine how much typing, and how many lines of code would be involved if we wanted to output the numbers 1 to 1024, or more.  There must be a better way.  There is.\n",
    "\n",
    "What we really want to do is have an integer, let's call it $i$, start at a value of 1 then $\\ldots$\n",
    "\n",
    "•\tprint out the value of $i$\n",
    "\n",
    "•\tincrease the value of $i$ by 1\n",
    "\n",
    "•\tgo back to the the first bullet point if $i$ is less than or equal to 5.\n",
    "\n",
    "This is a `for` loop with associated variable `i` that is in the range of integers from 1 to 5.  We can implement this in several ways.  For example $\\ldots$"
   ]
  },
  {
   "cell_type": "code",
   "execution_count": null,
   "id": "primary-philippines",
   "metadata": {},
   "outputs": [],
   "source": [
    "for i in [1, 2, 3, 4, 5]:\n",
    "    print(i)"
   ]
  },
  {
   "cell_type": "markdown",
   "id": "hybrid-platform",
   "metadata": {},
   "source": [
    "$\\ldots$ or $\\ldots$"
   ]
  },
  {
   "cell_type": "code",
   "execution_count": null,
   "id": "excess-mercury",
   "metadata": {},
   "outputs": [],
   "source": [
    "for i in range(5):\n",
    "    print(i + 1)"
   ]
  },
  {
   "cell_type": "markdown",
   "id": "handled-daisy",
   "metadata": {},
   "source": [
    "Which of these methods would generalise most easily to print out the numbers from 1 to 1024?\n",
    "\n",
    "What does the following code do?"
   ]
  },
  {
   "cell_type": "code",
   "execution_count": null,
   "id": "korean-bankruptcy",
   "metadata": {},
   "outputs": [],
   "source": [
    "N = 25\n",
    "for i in range(N):\n",
    "    print(i)"
   ]
  },
  {
   "cell_type": "markdown",
   "id": "danish-rugby",
   "metadata": {},
   "source": [
    "In the following code block the line\n",
    "\n",
    "`N = N + 1`\n",
    "\n",
    "looks foolish to the untrained eye! What does the code do?"
   ]
  },
  {
   "cell_type": "code",
   "execution_count": null,
   "id": "russian-seating",
   "metadata": {},
   "outputs": [],
   "source": [
    "N = 25\n",
    "for i in range(10):\n",
    "    print(N)\n",
    "    N = N + 1"
   ]
  },
  {
   "cell_type": "markdown",
   "id": "working-offering",
   "metadata": {},
   "source": [
    "### while loops\n",
    "The second sort of loop that is very useful is a `while` loop. \n",
    "\n",
    "A `while` loop recursively executes an indented code block \"while\" a given condition is satisfied.\n",
    "\n",
    "Let's suppose I want to run an arithmetic quiz where you are not allowed on to the next question until you get the current question correct.  I want to keep asking the same question over and over again, *while* the answer I am being given by the user is wrong.\n",
    "\n",
    "I can set this up using a `while` loop in the following way:\n",
    "\n",
    "Define a variable called answer that is initially wrong then\n",
    "\n",
    "•\tAsk the quiz question\n",
    "\n",
    "•\tRead the user-input into the variable answer\n",
    "\n",
    "•\tWhile the variable answer is not equal to the answer of my question go back to the first bullet point\n",
    "\n",
    "One way to implement this is"
   ]
  },
  {
   "cell_type": "code",
   "execution_count": null,
   "id": "fitted-demographic",
   "metadata": {},
   "outputs": [],
   "source": [
    "answer = 0\n",
    "while answer != 12:\n",
    "    answer = int(input('What is 3*4 ? '))\n",
    "print('Correct!')"
   ]
  },
  {
   "cell_type": "markdown",
   "id": "afraid-bangkok",
   "metadata": {},
   "source": [
    "What does the `!=` in the code above mean?\n",
    "\n",
    "What does the following code do?"
   ]
  },
  {
   "cell_type": "code",
   "execution_count": null,
   "id": "bronze-doctor",
   "metadata": {},
   "outputs": [],
   "source": [
    "m = 10\n",
    "f = m\n",
    "while m > 1:\n",
    "    f = f*(m - 1)\n",
    "    m = m - 1\n",
    "print(f)"
   ]
  },
  {
   "cell_type": "markdown",
   "id": "patient-indonesian",
   "metadata": {},
   "source": [
    "Be **exceptionally careful** with `while` loops to ensure that the `condition` for terminating the loop is always met.  \n",
    "\n",
    "If the condition is never met your code will just \"hang\".  For example, a simple typo in the above code will lead to a while loop that never terminates $\\ldots$.\n",
    "\n",
    "[I recommend not running this next cell as it will crash your kernel!]"
   ]
  },
  {
   "cell_type": "code",
   "execution_count": null,
   "id": "operational-skirt",
   "metadata": {},
   "outputs": [],
   "source": [
    "m = 10\n",
    "f = m\n",
    "# while m > 1:\n",
    "#    f = f*(m - 1)\n",
    "#    m = m + 1\n",
    "# print(f)"
   ]
  },
  {
   "cell_type": "markdown",
   "id": "acknowledged-swedish",
   "metadata": {},
   "source": [
    "What disastrous mistake have I made?"
   ]
  }
 ],
 "metadata": {
  "kernelspec": {
   "display_name": "Python 3",
   "language": "python",
   "name": "python3"
  },
  "language_info": {
   "codemirror_mode": {
    "name": "ipython",
    "version": 3
   },
   "file_extension": ".py",
   "mimetype": "text/x-python",
   "name": "python",
   "nbconvert_exporter": "python",
   "pygments_lexer": "ipython3",
   "version": "3.9.2"
  }
 },
 "nbformat": 4,
 "nbformat_minor": 5
}
