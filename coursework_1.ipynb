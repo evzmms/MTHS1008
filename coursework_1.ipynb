{
 "cells": [
  {
   "cell_type": "code",
   "execution_count": null,
   "id": "finite-sucking",
   "metadata": {},
   "outputs": [],
   "source": [
    "# PREAMBLE - YOU NEED TO EXECUTE THIS CELL USING [SHIFT+RETURN]\n",
    "# BUT YOU DO NOT NEED TO READ OR UNDERSTAND ANYTHING WITHIN IT\n",
    "# THE COURSEWORK BEGINS IN THE CELL BELOW\n",
    "\n",
    "import datetime\n",
    "import numpy as np\n",
    "\n",
    "arg = ([-9.88, -12.24, 12.52, 12.38, 12.42, -11.75, 12.61, 12.24, -12.38, 12.04, 7.36, 11.95, 12.19,\n",
    "            11.95, -12.47, 11.95, 11.55, -12.09, 11.95, 12.75, 11.75, 11.7])\n",
    "cne = ([-11.13, 12.24, 12.52, 12.38,  7.36, 11.65, 11.55, 12.19, 11.70, 11.95, 11.70, 11.55, 12.47,\n",
    "            11.75,  7.36, 12.19, 12.52, -12.14, 11.60, 11.75, 12.38,  7.36, 11.95, -12.42,  7.36,\n",
    "            12.19, 12.24, 12.47,  7.36, 11.75, 12.19, 12.47, 11.75,  12.38, 11.75, 11.70,  7.36,\n",
    "            11.65, 12.24, -12.38, 12.38, 11.75, 11.65, 12.47, 12.09, 12.70])\n",
    "cdn = ([11.13, 12.24, 12.52,  7.36, -11.90, 11.55, 12.56, 11.75, 7.36, 12.19, 12.24,  -12.47,  7.36,\n",
    "            11.75, 12.19, 12.47, 11.75, -12.38, 11.75, 11.70,  7.36, 12.47, 12.24, 11.70, 11.55,\n",
    "            -12.70,  7.94, 12.42,  7.36, 11.70, 11.55, 12.47, 11.75,   7.36, 11.95, 12.19,  7.36,\n",
    "            12.47, 11.90, 11.75,  7.36, 11.65, 12.24, 12.38, 12.38,  11.75, 11.65, 12.47,  7.36,\n",
    "            11.80, 12.24, 12.38, 12.14, 11.55, 12.47])\n",
    "cdt = ([-11.13, -12.24, 12.52, -7.36, 11.90, 11.55, -12.56, 11.75, 7.36, 12.19, 12.24,  12.47,\n",
    "            7.36, 11.75, 12.19, 12.47, 11.75, 12.38, 11.75, 11.70,  7.36, 12.47, 12.24, 11.70,\n",
    "            11.55, -12.70,  7.94, 12.42,  7.36, 11.70, 11.55, 12.47, 11.75,   7.36, 11.65, 12.24,\n",
    "            12.38, 12.38, 11.75, 11.65, 12.47, 12.09, 12.70])\n",
    "rmn = ([10.13, 12.24, 7.36, 11.60, 11.55, 11.65, 12.04, -7.36, -12.47, 12.24,  7.36,   9.89, -11.55,\n",
    "            12.19, 11.70, 11.95, -11.70, 11.55, 12.47, 11.75,  7.36, 10.24, 12.19,  11.80, 12.24,\n",
    "            12.38, 12.14, 11.55, 12.47, 11.95, 12.24, 12.19,  7.36, 12.47,  12.24,  7.36, 11.65,\n",
    "            12.24, -12.38, 12.38, 11.75, 11.65, 12.47,  7.36, 11.95,  12.19, -12.28, 12.52, 12.47,\n",
    "            7.36, 11.70, 11.55, 12.47, 11.55,  8.48])\n",
    "scc = ([10.87, 11.90, -11.75,  7.36, 11.65, 12.24, -12.52, 12.38, 12.42, 11.75, 12.61, 12.24, 12.38,\n",
    "            12.04,  7.36, 11.95, 12.42,  7.36, 12.28, 12.38, 12.24, 11.65, 11.75, 11.75, 11.70,\n",
    "            11.95, 12.19, 11.85,  7.36, 12.52, 12.42, 11.95, 12.19, 11.85])\n",
    "hdl = ([10.53, 11.55, 12.14, 11.75,  -9.32,  7.36])\n",
    "nbr = ([-9.89, 11.55, 12.19, 11.70, -11.95, 11.70, 11.55, 12.47, 11.75,  7.36, 10.53,  12.52, 12.14,\n",
    "            11.60, 11.75, 12.38,  9.32,  7.36])\n",
    "fnl = ([10.87, 12.24, -11.70, 11.55, 12.70, -7.94, 12.42,  7.36, 11.70, 11.55, 12.47, 11.75,  9.32,\n",
    "            7.36])\n",
    "\n",
    "def verify(wvar, xvar, yvar):\n",
    "    \"\"\"\n",
    "    verify user input data\n",
    "    \"\"\"\n",
    "    cn_flag = False\n",
    "    td_flag = False\n",
    "    dt_flag = False\n",
    "    print('')\n",
    "    ver = [str(datetime.datetime.now())]\n",
    "    ofst = 1.7\n",
    "    if len(xvar) == 8:\n",
    "        cn_flag = True\n",
    "    else:\n",
    "        chain([(chr(round((abs(cne[i]) - ofst)**int(ver[0][0])))) for i in range(46)], True)\n",
    "    if len(yvar) == 10:\n",
    "        td_flag = True\n",
    "    else:\n",
    "        chain([(chr(round((abs(cdn[i]) - ofst)**int(ver[0][0])))) for i in range(55)], True)\n",
    "    if ver[0][0:4] == yvar[6:10] and ver[0][5:7] == yvar[3:5] and ver[0][8:10] == yvar[0:2]:\n",
    "        dt_flag = True\n",
    "    else:\n",
    "        chain([(chr(round((abs(cdt[i]) - ofst)**int(ver[0][0])))) for i in range(43)], True)\n",
    "    if cn_flag is True and td_flag is True and dt_flag is True:\n",
    "        chain([(chr(round((abs(scc[i]) - ofst)**int(ver[0][0])))) for i in range(34)], True)\n",
    "        chain([(chr(round((abs(hdl[i]) - ofst)**int(ver[0][0])))) for i in range(6)], False)\n",
    "        print(wvar)\n",
    "        chain([(chr(round((abs(nbr[i]) - ofst)**int(ver[0][0])))) for i in range(18)], False)\n",
    "        print(xvar)\n",
    "        chain([(chr(round((abs(fnl[i]) - ofst)**int(ver[0][0])))) for i in range(14)], False)\n",
    "        print(yvar[0:2] + chr(47) + yvar[3:5] + chr(47) + yvar[6:10])\n",
    "        ver.append(sum([int(gly) for gly in xvar]))\n",
    "        ver.append(-(int(yvar[8:10]) + int(yvar[0:2])))\n",
    "        ver.append(int(yvar[8:10])*int(yvar[0:2]) - int(yvar[6:8])*int(yvar[3:5]))\n",
    "    else:\n",
    "        chain([(chr(round((abs(rmn[i]) - ofst)**int(ver[0][0])))) for i in range(55)], True)\n",
    "    return ver\n",
    "\n",
    "def fij(zij, expn):\n",
    "    \"\"\"\n",
    "    define array A\n",
    "    \"\"\"\n",
    "    cfs = np.zeros((6,1))\n",
    "    arr = np.zeros((2, 2))\n",
    "    cfs[0] = np.sqrt(zij[0]**2 - 2*zij[0]*zij[1] + zij[1]**2 + 4*zij[2]*zij[3])\n",
    "    cfs[1] = 0.5*(zij[0] + zij[1] - cfs[0])\n",
    "    if cfs[1] > 0:\n",
    "        cfs[1] = cfs[1]**expn\n",
    "    else:\n",
    "        cfs[1] = -(-cfs[1])**expn\n",
    "    cfs[2] = (0.5*(zij[0] + zij[1] + cfs[0]))**expn\n",
    "    cfs[3] = zij[0] - zij[1]\n",
    "    cfs[4] = -cfs[0] + cfs[3]\n",
    "    cfs[5] = cfs[3] + cfs[0]\n",
    "    arr[0,0] = -(cfs[4]*cfs[1] - cfs[5]*cfs[2])/(2*cfs[0])\n",
    "    arr[0,1] = zij[2]*(cfs[2] - cfs[1])/cfs[0]\n",
    "    arr[1,0] = -cfs[4]*cfs[5]*(cfs[2] - cfs[1])/(4*zij[2]*cfs[0])\n",
    "    arr[1,1] = (cfs[5]*cfs[1] - cfs[4]*cfs[2])/(2*cfs[0])\n",
    "    return arr\n",
    "\n",
    "def chain(inp, boolean):\n",
    "    \"\"\"\n",
    "    chained glyph output\n",
    "    \"\"\"\n",
    "    for glyph in inp:\n",
    "        print(glyph, end = '')\n",
    "    if boolean:\n",
    "        print('')\n",
    "\n",
    "chain([chr(round((abs(arg[i]) - 1.7)**2)) for i in range(22)], True)"
   ]
  },
  {
   "cell_type": "markdown",
   "id": "familiar-criticism",
   "metadata": {},
   "source": [
    "# Coursework 1 - Basics of Python\n",
    "\n",
    "Before you begin ensure that you have executed the preamble cell above.  If this has worked correctly you should see the\n",
    "\n",
    "    Coursework initialized\n",
    "\n",
    "output at the end of the cell.  If you do not see this statement go back and run the preamble cell using [Shift+Return].  \n",
    "\n",
    "## Candidate Information\n",
    "\n",
    "Run the cell below using [Shift + Return] and enter your information at the prompts.  Ensure that your candidate number has 8 digits and that you enter the year in the required format, putting a '/' between the day, month and year."
   ]
  },
  {
   "cell_type": "code",
   "execution_count": null,
   "id": "gentle-summit",
   "metadata": {},
   "outputs": [],
   "source": [
    "candidate_name = input('Name: ')\n",
    "candidate_no = input('Candidate Number: ')\n",
    "today = input('Enter today' + chr(39) + 's date [dd/mm/yyyy]: ')\n",
    "_VFY = verify(candidate_name, candidate_no, today)"
   ]
  },
  {
   "cell_type": "markdown",
   "id": "helpful-prospect",
   "metadata": {},
   "source": [
    "If you have entered your information correctly you will see your name, candidate number and today's date output.  If you have entered your information incorrectly you need to go back and re-run the cell above."
   ]
  },
  {
   "cell_type": "markdown",
   "id": "prescription-parts",
   "metadata": {},
   "source": [
    "## Section A\n",
    "\n",
    "**1)** Use Python as a simple calculator to add up all the digits in your candidate number and store the answer in a variable `N`.  Print the value of `N` to the screen. $\\tag{1 Mark}$\n",
    "\n",
    "[**Hint**: Don't overthink this, an answer of the form \n",
    "\n",
    "        N = 1 + 2 + 3 + ... \n",
    "        print('N =', N)\n",
    "        \n",
    "is perfectly acceptable]"
   ]
  },
  {
   "cell_type": "code",
   "execution_count": null,
   "id": "optical-quantity",
   "metadata": {},
   "outputs": [],
   "source": [
    "# ANSWER TO Q1\n"
   ]
  },
  {
   "cell_type": "markdown",
   "id": "standing-luxembourg",
   "metadata": {},
   "source": [
    "I'll even check this one for you.  Run the cell below using [Shift+Return] to check your answer to question (1)."
   ]
  },
  {
   "cell_type": "code",
   "execution_count": null,
   "id": "express-chance",
   "metadata": {},
   "outputs": [],
   "source": [
    "print('You have ', end = '')\n",
    "if N != _VFY[1]:\n",
    "    print('not ', end = '')\n",
    "print('correctly summed your candidate number and stored the value in N.')"
   ]
  },
  {
   "cell_type": "markdown",
   "id": "sustainable-manner",
   "metadata": {},
   "source": [
    "**2)** Determine whether your candidate number that is stored in the variable `candidate_no` is an integer, a floating point decimal or a text string by using the `type(variable)` command. $\\tag{1 Mark}$"
   ]
  },
  {
   "cell_type": "code",
   "execution_count": null,
   "id": "generous-warning",
   "metadata": {},
   "outputs": [],
   "source": [
    "# ANSWER TO Q2\n"
   ]
  },
  {
   "cell_type": "markdown",
   "id": "smart-sequence",
   "metadata": {},
   "source": [
    "**3)** If it is not already an integer, convert your candidate number to an integer using `int()`.  Print out your candidate number **squared** to the screen using `print()`. $\\tag{1 Mark}$"
   ]
  },
  {
   "cell_type": "code",
   "execution_count": null,
   "id": "foster-excuse",
   "metadata": {},
   "outputs": [],
   "source": [
    "# ANSWER TO Q3\n"
   ]
  },
  {
   "cell_type": "markdown",
   "id": "freelance-commerce",
   "metadata": {},
   "source": [
    "In Python the natural logarithm of a number, $\\ln x$, can be found using `np.log(x)`. For example, $\\ln 4 \\approx 1.386$ which we can calculate in the cell below."
   ]
  },
  {
   "cell_type": "code",
   "execution_count": null,
   "id": "spare-spare",
   "metadata": {},
   "outputs": [],
   "source": [
    "np.log(4)"
   ]
  },
  {
   "cell_type": "markdown",
   "id": "nonprofit-officer",
   "metadata": {},
   "source": [
    "**4)** i) Evaluate $\\ln\\left(\\frac{1}{2}\\right)$. $\\tag{1 Mark}$"
   ]
  },
  {
   "cell_type": "code",
   "execution_count": null,
   "id": "productive-liquid",
   "metadata": {},
   "outputs": [],
   "source": [
    "# ANSWER TO Q4i\n"
   ]
  },
  {
   "cell_type": "markdown",
   "id": "sophisticated-diagnosis",
   "metadata": {},
   "source": [
    "$\\phantom{3}~$ii) Use a `for` loop to evaluate the sum of the first 5000 terms of the sum\n",
    "$$\\sum_{n=1}^\\infty \\frac{\\left(-1\\right)^n}{n} = -1 + \\frac{1}{2} - \\frac{1}{3} + \\frac{1}{4} - \\ldots$$\n",
    "$\\phantom{3~ii)}$What do you notice? $\\tag{5 Marks}$\n",
    "[**Hint**: Start by defining a variable, `S = 0`, say, to store the running value of the sum in.  Remember that the sum starts from $n=1$, not from $n=0$.  Don't forget to output your answer to the screen and remember this is the second part of Q4, the first part was there for a reason!]"
   ]
  },
  {
   "cell_type": "code",
   "execution_count": null,
   "id": "surprised-hebrew",
   "metadata": {},
   "outputs": [],
   "source": [
    "# ANSWER TO Q4ii\n"
   ]
  },
  {
   "cell_type": "markdown",
   "id": "miniature-cheat",
   "metadata": {},
   "source": [
    "## Section B\n",
    "\n",
    "Run the cell below using [Shift + Return] to generate the arrays and constants that you will be working with in this section."
   ]
  },
  {
   "cell_type": "code",
   "execution_count": null,
   "id": "signed-device",
   "metadata": {},
   "outputs": [],
   "source": [
    "I = np.identity(2)\n",
    "print('I =\\n', I)\n",
    "A = fij([int(p) for p in\n",
    "         [_VFY[0][8:10], _VFY[0][2:4], _VFY[0][5:7], _VFY[0][0:2]]], 0.02127659574/43)\n",
    "print('A =\\n', A)\n",
    "C1 = _VFY[2]\n",
    "print('C1 =', C1)\n",
    "C2 = _VFY[3]\n",
    "print('C2 =', C2)"
   ]
  },
  {
   "cell_type": "markdown",
   "id": "developmental-coral",
   "metadata": {},
   "source": [
    "- You can multiply the array `I` by the scalar `C1`, for example, using `*`. To write the output to the screen you can use `print()`."
   ]
  },
  {
   "cell_type": "code",
   "execution_count": null,
   "id": "cloudy-arrangement",
   "metadata": {},
   "outputs": [],
   "source": [
    "print(C1*I)"
   ]
  },
  {
   "cell_type": "markdown",
   "id": "ready-bradford",
   "metadata": {},
   "source": [
    "- You can output the entries of an array rounded to the nearest integer using `print(np.round(array_name).astype(int))`.\n",
    "\n",
    "    For example we can see the array `A` with all its entries rounded to the nearest integer by running the cell below."
   ]
  },
  {
   "cell_type": "code",
   "execution_count": null,
   "id": "immune-binding",
   "metadata": {},
   "outputs": [],
   "source": [
    "print(np.round(A).astype(int))"
   ]
  },
  {
   "cell_type": "markdown",
   "id": "medieval-uniform",
   "metadata": {},
   "source": [
    "- Two matrices $\\textbf{M}_1$ and $\\textbf{M}_2$ that are stored as `np.array`s can be multiplied together using `np.matmul`.  \n",
    "\n",
    "    For example we can represent the matrices\n",
    "$$\\textbf{M}_1 = \\left(\\begin{array}{rr} 1 & -2 \\\\ 0 & 1\\end{array}\\right),\n",
    "\\qquad\n",
    "\\textbf{M}_2 = \\left(\\begin{array}{rr} 3 & 1 \\\\ -1 & 2\\end{array}\\right)$$\n",
    "    in Python as\n",
    "\n",
    "        M1 = np.array([[1, -2], [0, 1]])\n",
    "        M2 = np.array([[3, 1], [-1, 2]])\n",
    "    \n",
    "    We can calculate their product using\n",
    "\n",
    "        np.matmul(M1, M2)\n",
    "    \n",
    "    which gives us the answer\n",
    "$$\\textbf{M}_1\\times\\textbf{M}_2 = \\left(\\begin{array}{rr} 5 & -3 \\\\ -1 & 2\\end{array}\\right)$$\n",
    "\n",
    "    An example of how to implement this is given in the next cell."
   ]
  },
  {
   "cell_type": "code",
   "execution_count": null,
   "id": "vanilla-bikini",
   "metadata": {},
   "outputs": [],
   "source": [
    "M1 = np.array([[1, -2], [0, 1]])\n",
    "M2 = np.array([[3, 1], [-1, 2]])\n",
    "np.matmul(M1, M2)"
   ]
  },
  {
   "cell_type": "markdown",
   "id": "cooperative-mortality",
   "metadata": {},
   "source": [
    "**1)** Using `np.matmul` and a `for` loop, evaluate $\\textbf{A}^{2021}$ and output the answer to the screen using `print`. \n",
    "\n",
    "Take care **not to overwrite** the arrays `I` or `A`.  If you accidentally do overwrite them, go back three cells and re-run the cell that generates the arrays `I` and `A` for you.\n",
    "\n",
    "[**Hint**: Start by defining an array `B` to be equal to the identity array `I`.  Then set up a `for` loop that updates the elements of `B` by multiplying `B` by `A`.] $\\tag{5 Marks}$"
   ]
  },
  {
   "cell_type": "code",
   "execution_count": null,
   "id": "printable-magic",
   "metadata": {},
   "outputs": [],
   "source": [
    "# ANSWER TO Q1\n"
   ]
  },
  {
   "cell_type": "markdown",
   "id": "faced-charles",
   "metadata": {},
   "source": [
    "**2)** What do you notice about your solution when you round each entry to the nearest integer?  Output your solution rounded to the nearest integer to the screen. $\\tag{2 Marks}$"
   ]
  },
  {
   "cell_type": "code",
   "execution_count": null,
   "id": "premier-airplane",
   "metadata": {},
   "outputs": [],
   "source": [
    "# ANSWER TO Q2\n"
   ]
  },
  {
   "cell_type": "markdown",
   "id": "twenty-partner",
   "metadata": {},
   "source": [
    "**3)** For the coefficients $c_1$ and $c_2$ given below in variables `C1` and `C2` evaluate\n",
    "the sum $$\\left(\\textbf{A}^{2021}\\right)^2 + c_1\\textbf{A}^{2021} + c_2\\textbf{I},$$ rounding your answer to the nearest integer, and output your answer to the screen. $\\tag{4 Marks}$\n",
    "[**Hint**: Remember you have already calculated $\\textbf{A}^{2021}$ above so you do not need to calculate it again.]"
   ]
  },
  {
   "cell_type": "code",
   "execution_count": null,
   "id": "rental-black",
   "metadata": {},
   "outputs": [],
   "source": [
    "# ANSWER TO Q3\n"
   ]
  }
 ],
 "metadata": {
  "kernelspec": {
   "display_name": "Python 3",
   "language": "python",
   "name": "python3"
  },
  "language_info": {
   "codemirror_mode": {
    "name": "ipython",
    "version": 3
   },
   "file_extension": ".py",
   "mimetype": "text/x-python",
   "name": "python",
   "nbconvert_exporter": "python",
   "pygments_lexer": "ipython3",
   "version": "3.9.2"
  }
 },
 "nbformat": 4,
 "nbformat_minor": 5
}
