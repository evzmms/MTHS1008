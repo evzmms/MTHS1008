{
 "cells": [
  {
   "cell_type": "markdown",
   "id": "purple-regression",
   "metadata": {},
   "source": [
    "# Week 1 Problems and Examples Class\n",
    "\n",
    "**Mathematical Methods for Chemical Engineers (MTHS1008)**\n",
    "\n",
    "**Dr Matthew Scase**\n",
    "\n",
    "**Motivation**\n",
    "\n",
    "\n",
    "## Situation\n",
    "\n",
    "- An industrial batch process is manufacturing Iron Sulphide (FeS) in $100\\,$kg batches\n",
    "\n",
    "\n",
    "- A mixture of sulphur powder and iron filings is heated to manufacture the target product\n",
    "\n",
    "\n",
    "- A fault has developed in the plant which has led to an incomplete reaction\n",
    "\n",
    "\n",
    "<div style=\"text-align:center;\">\n",
    "<img src=\"molecule.png\" alt=\"figure\" width = \"460\"/>\n",
    "    <strong><center>Figure 1</center></strong>\n",
    "</div>\n",
    "\n",
    "## Problem\n",
    "\n",
    "- The specification of the initial mixture is that it is a total of $100\\,$kg with 36.4\\% sulphur powder and 63.6\\% iron filings\n",
    "\n",
    "\n",
    "- As a result of some of the sulphur vapourising we have a waste mixture that is 32.7\\% sulphur and 67.3\\% iron filings\n",
    "\n",
    "\n",
    "- We have available a sulphur-rich mixture that is 83.4\\% sulphur powder and 16.6\\% iron filings\n",
    "\n",
    "    **How much of the waste mixture and of the sulphur-rich mixture do we need in order to make a $100\\,$kg batch at the specified target ratio?**"
   ]
  },
  {
   "cell_type": "code",
   "execution_count": null,
   "id": "short-timber",
   "metadata": {},
   "outputs": [],
   "source": []
  }
 ],
 "metadata": {
  "kernelspec": {
   "display_name": "Python 3",
   "language": "python",
   "name": "python3"
  },
  "language_info": {
   "codemirror_mode": {
    "name": "ipython",
    "version": 3
   },
   "file_extension": ".py",
   "mimetype": "text/x-python",
   "name": "python",
   "nbconvert_exporter": "python",
   "pygments_lexer": "ipython3",
   "version": "3.9.2"
  }
 },
 "nbformat": 4,
 "nbformat_minor": 5
}
