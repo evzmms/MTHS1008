{
 "cells": [
  {
   "cell_type": "markdown",
   "id": "harmful-warrant",
   "metadata": {},
   "source": [
    "<a id=\"index\"></a>\n",
    "\n",
    "# Python Glossary\n",
    "\n",
    "**Mathematical Methods for Chemical Engineers (MTHS1008)**\n",
    "\n",
    "**Dr Matthew Scase**\n",
    "\n",
    "Listed below are expressions, terms and commands you should be familiar with by the end of the Year 1 Autumn Semester Python course.\n",
    "\n",
    "| Functions | Mathematical Operators   | Conditional Statements| Control Statements | Special Functions      | Matrix Functions |\n",
    "|:--------- |:----------------------   |:--------------------- |:------------------ |:---------------------- |:---------------- |\n",
    "| [as](#import)     | [+](#operators)  | [==](#isequal)        | [else](#else)      | [numpy.abs()](#abs)    | [numpy.array()](#array) |\n",
    "| [float()](#float) | [-](#operators)  | [!=](#isnotequal)     | [for](#for)        | [numpy.arccos()](#abs) | [numpy.zeros()](#zeros) |\n",
    "| [format()](#format) | [*](#operators)  | [>](#inequality)    | [if](#if)          | [numpy.arcsin()](#abs)| [numpy.matmul()](#matmul) |\n",
    "| [import](#import) | [/](#operators)  | [<](#inequality)     | [in](#for)         | [numpy.arctan()](#abs) |  |\n",
    "| [input()](#input) | [**](#operators) | [>=](#inequality)     | [is](#is)          | [numpy.cos()](#abs)   |  |\n",
    "| [int()](#int)     |                  | [<=](#inequality)     | [while](#while)    | [numpy.exp()](#abs)   |  |\n",
    "| [print()](#print) |                  |                       |                    | [numpy.log()](#abs)   |  |\n",
    "| [range()](#range) |                  |                       |                    | [numpy.sqrt()](#abs)  |  |\n",
    "| [str()](#str)     |                  |                       |                    | [numpy.sin()](#abs)   |  |\n",
    "| [sum()](#sum)     |                  |                       |                    | [numpy.tan()](#abs)   |  |\n",
    "| [type()](#type)   |                  |                       |                    |                       |  |"
   ]
  },
  {
   "cell_type": "markdown",
   "id": "imported-nelson",
   "metadata": {},
   "source": [
    "### FUNCTIONS"
   ]
  },
  {
   "cell_type": "markdown",
   "id": "interstate-receptor",
   "metadata": {},
   "source": [
    "<a id = 'print'></a>\n",
    "\n",
    "        print()\n",
    "The `print()` function prints the `argument` (the bit that goes into the brackets after the word `print`) to the screen.  Text contained between single quotes is printed directly to the screen.  Evaluations that do not appear in single quotes are calculated and the output written to the screen (such as the sum `2 + 4` in the example below)."
   ]
  },
  {
   "cell_type": "code",
   "execution_count": 1,
   "id": "amateur-football",
   "metadata": {},
   "outputs": [
    {
     "name": "stdout",
     "output_type": "stream",
     "text": [
      "This text will be printed to the screen: 6\n"
     ]
    }
   ],
   "source": [
    "print('This text will be printed to the screen:', 2 + 4)"
   ]
  },
  {
   "cell_type": "markdown",
   "id": "coastal-ordering",
   "metadata": {},
   "source": [
    "[Back](#index)"
   ]
  },
  {
   "cell_type": "markdown",
   "id": "confused-chemical",
   "metadata": {},
   "source": [
    "<a id = 'input'></a>\n",
    "\n",
    "        input()\n",
    "The `input()` function writes the string argument it is given to the screen and waits for user input.  Whatever the user inputs will be stored as a `string`.  In the example given below the user input is stored as a string in a variable named `A`."
   ]
  },
  {
   "cell_type": "code",
   "execution_count": 2,
   "id": "martial-evans",
   "metadata": {},
   "outputs": [
    {
     "name": "stdout",
     "output_type": "stream",
     "text": [
      "This text will be printed to the screen: rhubarb\n",
      "rhubarb\n"
     ]
    }
   ],
   "source": [
    "A = input('This text will be printed to the screen: ')\n",
    "print(A)"
   ]
  },
  {
   "cell_type": "markdown",
   "id": "awful-playback",
   "metadata": {},
   "source": [
    "[Back](#index)"
   ]
  },
  {
   "cell_type": "markdown",
   "id": "trying-productivity",
   "metadata": {},
   "source": [
    "<a id = 'type'></a>\n",
    "\n",
    "        type()\n",
    "The `type()` function is equal to `int` if the argument is an integer, such as in the example above, or `float` if the argument is a decimal (try the example below but setting `B = 5.0`), or `str` if the argument is a string/text (try the example below but setting `B = '5'`)."
   ]
  },
  {
   "cell_type": "code",
   "execution_count": 3,
   "id": "compact-hundred",
   "metadata": {},
   "outputs": [
    {
     "data": {
      "text/plain": [
       "int"
      ]
     },
     "execution_count": 3,
     "metadata": {},
     "output_type": "execute_result"
    }
   ],
   "source": [
    "B = 5\n",
    "type(B)"
   ]
  },
  {
   "cell_type": "markdown",
   "id": "laden-benefit",
   "metadata": {},
   "source": [
    "[Back](#index)"
   ]
  },
  {
   "cell_type": "markdown",
   "id": "noticed-wealth",
   "metadata": {},
   "source": [
    "<a id = 'float'></a>\n",
    "\n",
    "        float()\n",
    "The `float()` function converts the argument it is given to a floating point variable (a decimal).  In the example below a string containing the text '6.0' is converted from text (stored in the variable `TXT`) into a decimal (stored in the variable `X`)."
   ]
  },
  {
   "cell_type": "code",
   "execution_count": 4,
   "id": "answering-inflation",
   "metadata": {},
   "outputs": [
    {
     "name": "stdout",
     "output_type": "stream",
     "text": [
      "TXT is a <class 'str'> variable. 2*TXT = 6.06.0\n",
      "X is a <class 'float'> variable. 2*X = 12.0\n"
     ]
    }
   ],
   "source": [
    "TXT = '6.0'\n",
    "print('TXT is a', type(TXT), 'variable. 2*TXT =', 2*TXT)\n",
    "X = float(TXT)\n",
    "print('X is a', type(X), 'variable. 2*X =', 2*X)"
   ]
  },
  {
   "cell_type": "markdown",
   "id": "solid-confidence",
   "metadata": {},
   "source": [
    "[Back](#index)"
   ]
  },
  {
   "cell_type": "markdown",
   "id": "documentary-advance",
   "metadata": {},
   "source": [
    "<a id = 'int'></a>\n",
    "\n",
    "        int()\n",
    "The `int()` function converts its argument, which must be a *number*, to an integer and *always* rounds down.  Below the floating point decimal `FLT`, which is equal to 4.8, is converted to an integer variable, `N`, which is equal to 4, since 4.8 is rounded down."
   ]
  },
  {
   "cell_type": "code",
   "execution_count": 5,
   "id": "burning-sullivan",
   "metadata": {},
   "outputs": [
    {
     "name": "stdout",
     "output_type": "stream",
     "text": [
      "FLT is a <class 'float'> variable, and is equal to 4.8\n",
      "N is a <class 'int'> variable, and is equal to 4\n"
     ]
    }
   ],
   "source": [
    "FLT = 4.8\n",
    "print('FLT is a', type(FLT), 'variable, and is equal to', FLT)\n",
    "N = int(FLT)\n",
    "print('N is a', type(N), 'variable, and is equal to', N)"
   ]
  },
  {
   "cell_type": "markdown",
   "id": "labeled-agency",
   "metadata": {},
   "source": [
    "What happens if you make `FLT` a string rather than a float by setting `FLT = '4.8'`?\n",
    "\n",
    "[Back](#index)"
   ]
  },
  {
   "cell_type": "markdown",
   "id": "occasional-tradition",
   "metadata": {},
   "source": [
    "<a id = 'str'></a>\n",
    "\n",
    "        str()\n",
    "The `str()` function converts its argument to a `string` (a text variable).  In the example below the floating point variable `FLT` is converted to text and stored in the string variable `TXT`.  When we try and multiply `TXT` by 2 instead of getting 9.6 we get 4.84.8."
   ]
  },
  {
   "cell_type": "code",
   "execution_count": 6,
   "id": "involved-porter",
   "metadata": {},
   "outputs": [
    {
     "name": "stdout",
     "output_type": "stream",
     "text": [
      "FLT is a <class 'float'> variable\n",
      "TXT is a <class 'str'> variable\n",
      "2*TXT = 4.84.8\n"
     ]
    }
   ],
   "source": [
    "FLT = 4.8\n",
    "print('FLT is a', type(FLT), 'variable')\n",
    "TXT = str(FLT)\n",
    "print('TXT is a', type(TXT), 'variable')\n",
    "print('2*TXT =', 2*TXT)"
   ]
  },
  {
   "cell_type": "markdown",
   "id": "patient-intellectual",
   "metadata": {},
   "source": [
    "[Back](#index)"
   ]
  },
  {
   "cell_type": "markdown",
   "id": "confirmed-steering",
   "metadata": {},
   "source": [
    "<a id = 'sum'></a>\n",
    "\n",
    "        sum()\n",
    "The `sum()` function accepts a list as an argument and the ouput is the sum of the elements of the list.  For example"
   ]
  },
  {
   "cell_type": "code",
   "execution_count": 7,
   "id": "infectious-telling",
   "metadata": {},
   "outputs": [
    {
     "data": {
      "text/plain": [
       "13.2"
      ]
     },
     "execution_count": 7,
     "metadata": {},
     "output_type": "execute_result"
    }
   ],
   "source": [
    "sum([1, 3, 4, 5.2])"
   ]
  },
  {
   "cell_type": "markdown",
   "id": "inner-assumption",
   "metadata": {},
   "source": [
    "[Back](#index)"
   ]
  },
  {
   "cell_type": "markdown",
   "id": "antique-phrase",
   "metadata": {},
   "source": [
    "<a id = 'range'></a>\n",
    " \n",
    "        range()\n",
    "The `range()` function creates a sequence of numbers based on up to three arguments depending on how you call the function.  \n",
    "\n",
    "In its simplest form, using `range()` with a single integer argument, the function creates a sequence that begins at 0 and has increments of 1 until the value **1 less than the argument** is reached. For example, `range(5)` creates the sequence 0, 1, 2, 3, 4.\n",
    "\n",
    "The full syntax is\n",
    "\n",
    "        range(start, stop, step)\n",
    "        \n",
    "For example `range(3, 15, 2)` creates the sequence 3, 5, 7, 9, 11, 13.\n",
    "\n",
    "[Back](#index)"
   ]
  },
  {
   "cell_type": "markdown",
   "id": "impressed-edition",
   "metadata": {},
   "source": [
    "<a id = 'import'></a>\n",
    "\n",
    "        import\n",
    "        as\n",
    "The `import` and `as` commands are used to import special libraries of commands that we may need to use for our specific application.  In the above example the Numerical Python package `numpy` is imported that contains many useful mathematical functions.  To save us writing out `numpy` every time we wish to use a `numpy` function we have imported it `as np` so the we can write `np.pi` for 3.14159265358979... rather than `numpy.pi` etc.  Similarly we have imported the plotting functions in the Mathematical Plotting Library `as plt` so we can write `plt.plot(...` rather than `matplotlib.pyplot.plot(...` every time."
   ]
  },
  {
   "cell_type": "code",
   "execution_count": 8,
   "id": "invalid-calcium",
   "metadata": {},
   "outputs": [
    {
     "name": "stdout",
     "output_type": "stream",
     "text": [
      "pi = 3.141592653589793\n"
     ]
    }
   ],
   "source": [
    "import numpy as np\n",
    "import matplotlib.pyplot as plt\n",
    "print('pi =', np.pi)"
   ]
  },
  {
   "cell_type": "markdown",
   "id": "tribal-dominant",
   "metadata": {},
   "source": [
    "[Back](#index)"
   ]
  },
  {
   "cell_type": "markdown",
   "id": "analyzed-packing",
   "metadata": {},
   "source": [
    "<a id = 'format'></a>\n",
    " \n",
    "        format()\n",
    "Another way to output values to the screen uses the `format()` function.  The advantage of the `format()` function is that it allows you to control the precision of the output.  For example"
   ]
  },
  {
   "cell_type": "code",
   "execution_count": 9,
   "id": "anticipated-success",
   "metadata": {},
   "outputs": [
    {
     "name": "stdout",
     "output_type": "stream",
     "text": [
      "I have a carrot that is orange and weighs 2.31N\n",
      "I have a cauliflower that is white and weighs 4.12N\n",
      "I have a bean that is green and weighs 0.15N\n"
     ]
    }
   ],
   "source": [
    "vegetable = ['carrot', 'cauliflower', 'bean']\n",
    "colour = ['orange', 'white', 'green']\n",
    "mass = [0.235654, 0.42, 0.01563256]\n",
    "g = 9.81\n",
    "\n",
    "for i in range(3):\n",
    "    print('I have a {} that is {} and weighs {:.2f}N'.format(vegetable[i], colour[i], mass[i]*g))"
   ]
  },
  {
   "cell_type": "markdown",
   "id": "individual-adult",
   "metadata": {},
   "source": [
    "You can place curly brackets `{}` in the string where you would like the values of variables (either numerical or text) to appear.  Within the curly brackets you can specify the *format* of the output.  Even though the masses are specified to different levels of accuracy, the ouput in each case is controlled to be two decimal places by putting the formatting statement `:.2f` within the third set of curly brackets.  The order in which you place the variables in the format argument is the order in which they appear in the string.  \n",
    "\n",
    "How would you change the output to be three decimal places of accuracy for the weight?\n",
    "\n",
    "What happens if you change the formatting statement to `:.2e`?\n",
    "\n",
    "[Back](#index)"
   ]
  },
  {
   "cell_type": "markdown",
   "id": "colonial-catalog",
   "metadata": {},
   "source": [
    "<a id=\"operators\"></a>\n",
    "### MATHEMATICAL OPERATORS\n",
    "\n",
    "        +\n",
    "        -\n",
    "        *\n",
    "        /\n",
    "        **\n",
    "Listed above are respectively the mathematical operators for *addition*, *subtraction*, *multiplication*, *division* and raising to a specified *power*.  **Be careful**, even simple calculations can lead to unexpected rounding errors creeping in."
   ]
  },
  {
   "cell_type": "code",
   "execution_count": 10,
   "id": "roman-african",
   "metadata": {},
   "outputs": [
    {
     "name": "stdout",
     "output_type": "stream",
     "text": [
      "3.79\n",
      "0.3899999999999999\n"
     ]
    }
   ],
   "source": [
    "print(2.09 + 1.7)\n",
    "print(2.09 - 1.7)"
   ]
  },
  {
   "cell_type": "markdown",
   "id": "coordinate-scout",
   "metadata": {},
   "source": [
    "We can use the fact that the positive square root of a non-negative number, $\\sqrt{x}$, is equal to the half power, $x^{1/2}$.  For example, to calculate the square root of 9 we can use"
   ]
  },
  {
   "cell_type": "code",
   "execution_count": 11,
   "id": "frozen-commercial",
   "metadata": {},
   "outputs": [
    {
     "data": {
      "text/plain": [
       "3.0"
      ]
     },
     "execution_count": 11,
     "metadata": {},
     "output_type": "execute_result"
    }
   ],
   "source": [
    "9**0.5"
   ]
  },
  {
   "cell_type": "markdown",
   "id": "respective-atlas",
   "metadata": {},
   "source": [
    "This should only be used for one-off quick calculations, if you are going to calculate square roots repeatedly there are faster methods.\n",
    "\n",
    "[Back](#index)"
   ]
  },
  {
   "cell_type": "markdown",
   "id": "broad-circumstances",
   "metadata": {},
   "source": [
    "<a id=\"isequal\"></a>\n",
    "### CONDITIONAL STATEMENTS\n",
    "\n",
    "        ==\n",
    "The double equals sign `==` is used to determine whether two quantities are equal.  The syntax is `A == B` and the output is `True` if `A` is equal to `B` or `False` if `A` is not equal to `B`.  **Be very careful** - there is a world of difference between the lines of code `A == B` and `A = B`.  See the examples below "
   ]
  },
  {
   "cell_type": "code",
   "execution_count": 12,
   "id": "reliable-sydney",
   "metadata": {},
   "outputs": [
    {
     "data": {
      "text/plain": [
       "True"
      ]
     },
     "execution_count": 12,
     "metadata": {},
     "output_type": "execute_result"
    }
   ],
   "source": [
    "1 + 1 == 2"
   ]
  },
  {
   "cell_type": "code",
   "execution_count": 13,
   "id": "endangered-following",
   "metadata": {},
   "outputs": [
    {
     "data": {
      "text/plain": [
       "False"
      ]
     },
     "execution_count": 13,
     "metadata": {},
     "output_type": "execute_result"
    }
   ],
   "source": [
    "A = 3\n",
    "B = 4\n",
    "A == B"
   ]
  },
  {
   "cell_type": "code",
   "execution_count": 14,
   "id": "aging-petite",
   "metadata": {},
   "outputs": [],
   "source": [
    "A = 3\n",
    "B = 4\n",
    "A = B"
   ]
  },
  {
   "cell_type": "markdown",
   "id": "worth-rachel",
   "metadata": {},
   "source": [
    "In the second example, where we wrote `A == B`, Python checked to see whether `A` was equal to `B` or not, and decided that since $3 \\ne 4$ the answer was `False`.  In the third example, where we wrote `A = B`, Python reassigned the value stored in the variable `A` to the value stored in the variable `B`.  Instead of checking whether `A` was equal to `B` Python changed the value of `A` to 4.  You can check this be writing `print(A)`.\n",
    "\n",
    "[Back](#index)"
   ]
  },
  {
   "cell_type": "markdown",
   "id": "right-practice",
   "metadata": {},
   "source": [
    "<a id=\"isnotequal\"></a>\n",
    "\n",
    "        !=\n",
    "To test to see whether two quantites are **not equal** we can use `!=`.  The syntax is the same as for testing for equality."
   ]
  },
  {
   "cell_type": "code",
   "execution_count": 15,
   "id": "ideal-lying",
   "metadata": {},
   "outputs": [
    {
     "data": {
      "text/plain": [
       "True"
      ]
     },
     "execution_count": 15,
     "metadata": {},
     "output_type": "execute_result"
    }
   ],
   "source": [
    "A = 3\n",
    "B = 4\n",
    "A != B"
   ]
  },
  {
   "cell_type": "markdown",
   "id": "studied-chase",
   "metadata": {},
   "source": [
    "[Back](#index)"
   ]
  },
  {
   "cell_type": "markdown",
   "id": "labeled-midwest",
   "metadata": {},
   "source": [
    "<a id=\"inequality\"></a>\n",
    "\n",
    "        >\n",
    "        <\n",
    "        >=\n",
    "        <=\n",
    "Listed above are respectively the commands to test for *greater than*, *less than*, *greater than or equal to*, and *less than or equal to*.  The syntax is the same as for testing for equality and the output will be either `True` or `False`."
   ]
  },
  {
   "cell_type": "code",
   "execution_count": 16,
   "id": "addressed-individual",
   "metadata": {},
   "outputs": [
    {
     "name": "stdout",
     "output_type": "stream",
     "text": [
      "False\n",
      "True\n",
      "False\n",
      "True\n"
     ]
    }
   ],
   "source": [
    "A = 3\n",
    "B = 4\n",
    "print(A > B)\n",
    "print(A < B)\n",
    "print(A >= B)\n",
    "print(A <= B)"
   ]
  },
  {
   "cell_type": "markdown",
   "id": "thermal-slovenia",
   "metadata": {},
   "source": [
    "What happens when you change the value of `B` to 3 in the above?\n",
    "\n",
    "[Back](#index)"
   ]
  },
  {
   "cell_type": "markdown",
   "id": "cooperative-venice",
   "metadata": {},
   "source": [
    "<a id=\"if\"></a>\n",
    "### CONTROL STATEMENTS AND LOOPS\n",
    "\n",
    "        if\n",
    "The `if` statement is used if you would like the code to take different actions depending on whether a conditional statement is `True` or `False`.  For example we may wish to divide two numbers `if` the denominator is non-zero.  We could code this as"
   ]
  },
  {
   "cell_type": "code",
   "execution_count": 17,
   "id": "heated-terry",
   "metadata": {},
   "outputs": [
    {
     "name": "stdout",
     "output_type": "stream",
     "text": [
      "0.5\n",
      "6.0\n"
     ]
    }
   ],
   "source": [
    "X = 2.0\n",
    "Y = 4.0\n",
    "if Y != 0: # Here we are testing to see whether Y is not equal to zero\n",
    "    print(X/Y) # This is only executed if Y is not equal to zero\n",
    "    print(X + Y) # This is only executed if Y is not equal to zero"
   ]
  },
  {
   "cell_type": "markdown",
   "id": "framed-sentence",
   "metadata": {},
   "source": [
    "What happens if we change `Y = 4.0` to `Y = 0.0` in the above example?  The syntax for an `if` statement is\n",
    "\n",
    "        if <conditional statement>:\n",
    "            <consequent>\n",
    "\n",
    "The colon after the conditional statement and the indentation in the following lines of code are essential.  All indented lines will be executed `if` the conditional statement is `True`.\n",
    "\n",
    "[Back](#index)"
   ]
  },
  {
   "cell_type": "markdown",
   "id": "recorded-prior",
   "metadata": {},
   "source": [
    "<a id=\"else\"></a>\n",
    "\n",
    "        else\n",
    "We may wish our code to take one of two actions depending on whether a conditional statement is `True` or `False`.  In the above example we printed the value of `X/Y` to the screen [`if`](#if) `Y` was not equal to zero.  We could choose to display a warning message to the user, for example `if` `Y` is equal to zero.  The syntax is\n",
    "\n",
    "        if <conditional statement>:\n",
    "            <consequent>\n",
    "        else:\n",
    "            <alternative>\n",
    "            \n",
    "Hence, we could change our example above to"
   ]
  },
  {
   "cell_type": "code",
   "execution_count": 18,
   "id": "immediate-designation",
   "metadata": {},
   "outputs": [
    {
     "name": "stdout",
     "output_type": "stream",
     "text": [
      "Attempt to divide by zero\n",
      "Not a good idea\n"
     ]
    }
   ],
   "source": [
    "X = 2.0\n",
    "Y = 0.0\n",
    "if Y != 0: # Here we are testing to see whether Y is not equal to zero\n",
    "    print(X/Y) # This is only executed if Y is not equal to zero\n",
    "    print(X + Y) # This is only executed if Y is not equal to zero\n",
    "else: # The following lines are only executed if Y is equal to zero\n",
    "    print('Attempt to divide by zero')\n",
    "    print('Not a good idea')"
   ]
  },
  {
   "cell_type": "markdown",
   "id": "basic-running",
   "metadata": {},
   "source": [
    "In this case, because `Y` is equal to 0 all the indented lines beneath the `else` statement were executed.\n",
    "\n",
    "[Back](#index)"
   ]
  },
  {
   "cell_type": "markdown",
   "id": "formal-narrow",
   "metadata": {},
   "source": [
    "<a id=\"is\"></a>\n",
    "\n",
    "        is\n",
    "Depending on how you code your conditional statement you may wish to test whether something `is` `True` or `False`.  For example"
   ]
  },
  {
   "cell_type": "code",
   "execution_count": 19,
   "id": "spoken-acrobat",
   "metadata": {},
   "outputs": [
    {
     "name": "stdout",
     "output_type": "stream",
     "text": [
      "The variable X is negative.\n"
     ]
    }
   ],
   "source": [
    "X = -3\n",
    "BOOL = (X >= 0)\n",
    "\n",
    "if BOOL is True: # then we have that X >= 0\n",
    "    print('The variable X is greater than or equal to zero.')\n",
    "else: # we have that X < 0\n",
    "    print('The variable X is negative.')"
   ]
  },
  {
   "cell_type": "markdown",
   "id": "finnish-carroll",
   "metadata": {},
   "source": [
    "In the example above we define a variable `X` to be whatever number we like (see what happens when you change it).  We then set the variable `BOOL` to be equal to the output of the statement `X >= 0`.  The output of `X >= 0` is `True` if `X` is greater than or equal to zero, or `False` if `X` is less than zero.  The `if` statement then outputs the appropriate text depending on whether `BOOL` `is` `True` or `False`.\n",
    "\n",
    "[Back](#index)"
   ]
  },
  {
   "cell_type": "markdown",
   "id": "verbal-dublin",
   "metadata": {},
   "source": [
    "<a id=\"while\"></a>\n",
    "\n",
    "        while\n",
    "A `while` statement will repeatedly execute the indented lines of code that follow the `while` statement *while* the given conditional statement is `True`.  The syntax is\n",
    "\n",
    "        while <conditional statement>:\n",
    "            <exectuable>\n",
    "            \n",
    "For example, to countdown to launch we could use"
   ]
  },
  {
   "cell_type": "code",
   "execution_count": 20,
   "id": "active-approval",
   "metadata": {},
   "outputs": [
    {
     "name": "stdout",
     "output_type": "stream",
     "text": [
      "Lift off in:\n",
      "10 seconds\n",
      "9 seconds\n",
      "8 seconds\n",
      "7 seconds\n",
      "6 seconds\n",
      "5 seconds\n",
      "4 seconds\n",
      "3 seconds\n",
      "2 seconds\n",
      "1 seconds\n",
      "BLAST OFF!\n"
     ]
    }
   ],
   "source": [
    "T = 10 # Set the initial countdown length\n",
    "print('Lift off in:')\n",
    "\n",
    "while T > 0: # If T is greater than zero keep iterating\n",
    "    print(T, 'seconds') # Print to the screen how long is left\n",
    "    T -= 1 # Reduce the number of seconds to lift off by 1\n",
    "    \n",
    "print('BLAST OFF!')"
   ]
  },
  {
   "cell_type": "markdown",
   "id": "religious-spectrum",
   "metadata": {},
   "source": [
    "What happens if you change the line `T -= 1` to `T = T - 1` or `T -= 2`?\n",
    "\n",
    "To calculate a factorial we could use a `while` loop in the following way"
   ]
  },
  {
   "cell_type": "code",
   "execution_count": 21,
   "id": "prepared-brook",
   "metadata": {},
   "outputs": [
    {
     "name": "stdout",
     "output_type": "stream",
     "text": [
      "5! = 120\n"
     ]
    }
   ],
   "source": [
    "N = 5\n",
    "print(str(N) + '! = ', end = '')\n",
    "N_factorial = N\n",
    "\n",
    "while N > 1:\n",
    "    N_factorial = N_factorial*(N - 1)\n",
    "    N -= 1\n",
    "    \n",
    "print(N_factorial)"
   ]
  },
  {
   "cell_type": "markdown",
   "id": "placed-checkout",
   "metadata": {},
   "source": [
    "A `while` loop will keep executing the indented code until the conditional statement is `False`.  You therefore **need to be very careful** that at some point your conditional statement will be false, otherwise your code will hang.\n",
    "\n",
    "[Back](#index)"
   ]
  },
  {
   "cell_type": "markdown",
   "id": "green-gardening",
   "metadata": {},
   "source": [
    "<a id=\"for\"></a>\n",
    "\n",
    "        for\n",
    "        in\n",
    "Similarly to a [`while`](#while) loop we may wish to execute lines of code repeatedly but with a given variable taking a different value from a specified [`range`](#range) or list on each loop.  This is a `for` loop.  We could redo our countdown and factorial loops using `for` instead of [`while`](#while) in the following way"
   ]
  },
  {
   "cell_type": "code",
   "execution_count": 22,
   "id": "younger-rotation",
   "metadata": {},
   "outputs": [
    {
     "name": "stdout",
     "output_type": "stream",
     "text": [
      "Lift off in:\n",
      "10 seconds\n",
      "9 seconds\n",
      "8 seconds\n",
      "7 seconds\n",
      "6 seconds\n",
      "5 seconds\n",
      "4 seconds\n",
      "3 seconds\n",
      "2 seconds\n",
      "1 seconds\n",
      "BLAST OFF!\n"
     ]
    }
   ],
   "source": [
    "print('Lift off in:')\n",
    "\n",
    "for T in range(10, 0, -1):\n",
    "    print(T, 'seconds') # Print to the screen how long is left\n",
    "    \n",
    "print('BLAST OFF!')"
   ]
  },
  {
   "cell_type": "code",
   "execution_count": 23,
   "id": "increasing-security",
   "metadata": {},
   "outputs": [
    {
     "name": "stdout",
     "output_type": "stream",
     "text": [
      "5! = 120\n"
     ]
    }
   ],
   "source": [
    "N = 5\n",
    "N_factorial = 1\n",
    "\n",
    "for I in range(2, N + 1):\n",
    "    N_factorial = N_factorial*I\n",
    "\n",
    "print(str(N) + '! =', N_factorial)"
   ]
  },
  {
   "cell_type": "markdown",
   "id": "considerable-vintage",
   "metadata": {},
   "source": [
    "In the first example above we allowed the variable `T` to start at 10 and decrease by 1 each time we went through the `for` loop.  In the second example above we allowed the variable `I` to start at 2 and increase by 1 each time until it reached the value `N` (Note: **it does not reach** `N+1`).\n",
    "\n",
    "We can also use `for` loops as part of a list comprehension.  For example"
   ]
  },
  {
   "cell_type": "code",
   "execution_count": 24,
   "id": "instrumental-print",
   "metadata": {},
   "outputs": [
    {
     "name": "stdout",
     "output_type": "stream",
     "text": [
      "[0, 1, 4, 9, 16, 25, 36, 49, 64, 81]\n"
     ]
    }
   ],
   "source": [
    "n = range(10)\n",
    "n_squared = [i**2 for i in n]\n",
    "print(n_squared)"
   ]
  },
  {
   "cell_type": "markdown",
   "id": "assisted-aruba",
   "metadata": {},
   "source": [
    "In the above example we set `n` to be the sequence of values from 0 to 9 in increments of 1.  Then we created the list `n_squared` whose elements were $i^2$ for every $i$ that Python found in the sequence `n`.\n",
    "\n",
    "[Back](#index)"
   ]
  },
  {
   "cell_type": "markdown",
   "id": "other-corps",
   "metadata": {},
   "source": [
    "<a id=abs></a>\n",
    "### SPECIAL MATHEMATICAL FUNCTIONS\n",
    "\n",
    "        numpy.abs()\n",
    "        numpy.sqrt()\n",
    "        numpy.exp()\n",
    "        numpy.log()\n",
    "        numpy.cos()\n",
    "        numpy.sin()\n",
    "        numpy.tan()\n",
    "        numpy.arccos()\n",
    "        numpy.arcsin()\n",
    "        numpy.arctan()\n",
    "        \n",
    "Listed above are standard mathematical special functions that you are familiar with from school, absolute value, square root, exponential etc.  The only things to watch are: the natural logarithm is `numpy.log()`, or `np.log()` if you imported `numpy as np`, the natural logarithm *is not* `numpy.ln()`; the inverse trigonometric functions are `numpy.arcsin()` etc., not `numpy.asin()`."
   ]
  },
  {
   "cell_type": "code",
   "execution_count": 25,
   "id": "complex-satisfaction",
   "metadata": {},
   "outputs": [
    {
     "data": {
      "text/plain": [
       "3.141592653589793"
      ]
     },
     "execution_count": 25,
     "metadata": {},
     "output_type": "execute_result"
    }
   ],
   "source": [
    "import numpy as np\n",
    "4.0*np.arctan(np.sin(np.pi/2))"
   ]
  },
  {
   "cell_type": "markdown",
   "id": "individual-eligibility",
   "metadata": {},
   "source": [
    "The example above calulates\n",
    "$$4\\left\\{\\tan^{-1}\\left[\\sin\\left(\\frac{\\pi}{2}\\right)\\right]\\right\\} = 4\\left\\{\\tan^{-1}\\left[1\\right]\\right\\} = 4\\left\\{\\frac{\\pi}{4}\\right\\} = \\pi.$$\n",
    "[Back](#index)"
   ]
  },
  {
   "cell_type": "markdown",
   "id": "frank-pointer",
   "metadata": {},
   "source": [
    "<a id=\"array\"></a>\n",
    "### SPECIAL MATHEMATICAL FUNCTIONS: MATRICES\n",
    "\n",
    "        numpy.array()\n",
    "The `numpy.array()` function accepts a list of matrix rows as its argument, where each matrix row is itself a list containing the column entries.  A $2\\times3$ array would therefore require an input list containing two lists of three elements, such as"
   ]
  },
  {
   "cell_type": "code",
   "execution_count": 26,
   "id": "neural-works",
   "metadata": {},
   "outputs": [
    {
     "name": "stdout",
     "output_type": "stream",
     "text": [
      "[[1 2 3]\n",
      " [4 5 6]]\n"
     ]
    }
   ],
   "source": [
    "import numpy as np\n",
    "P = np.array([[1, 2, 3], [4, 5, 6]])\n",
    "print(P)"
   ]
  },
  {
   "cell_type": "markdown",
   "id": "metric-joshua",
   "metadata": {},
   "source": [
    "Whereas a $3\\times2$ matrix would require a list containing three lists each of two elements.  Look at the difference between the two examples."
   ]
  },
  {
   "cell_type": "code",
   "execution_count": 27,
   "id": "renewable-level",
   "metadata": {},
   "outputs": [
    {
     "name": "stdout",
     "output_type": "stream",
     "text": [
      "[[1 2]\n",
      " [3 4]\n",
      " [5 6]]\n"
     ]
    }
   ],
   "source": [
    "import numpy as np\n",
    "Q = np.array([[1, 2], [3, 4], [5, 6]])\n",
    "print(Q)"
   ]
  },
  {
   "cell_type": "markdown",
   "id": "original-experience",
   "metadata": {},
   "source": [
    "[Back](#index)"
   ]
  },
  {
   "cell_type": "markdown",
   "id": "premium-railway",
   "metadata": {},
   "source": [
    "<a id=\"zeros\"></a>\n",
    "\n",
    "        numpy.zeros()\n",
    "The `numpy.zeros()` function creates a matrix of zeros with the shape specified by its argument which must be entered as two integers separated by a comma in round brackets where the number of rows created is the first integer and the number of columns created is the second integer (this is an example of a tuple).  To create the $3\\times5$ zero matrix therefore we would use"
   ]
  },
  {
   "cell_type": "code",
   "execution_count": 28,
   "id": "saving-insight",
   "metadata": {},
   "outputs": [
    {
     "name": "stdout",
     "output_type": "stream",
     "text": [
      "[[0. 0. 0. 0. 0.]\n",
      " [0. 0. 0. 0. 0.]\n",
      " [0. 0. 0. 0. 0.]]\n"
     ]
    }
   ],
   "source": [
    "import numpy as np\n",
    "A = np.zeros((3, 5))\n",
    "print(A)"
   ]
  },
  {
   "cell_type": "markdown",
   "id": "informed-answer",
   "metadata": {},
   "source": [
    "[Back](#index)"
   ]
  },
  {
   "cell_type": "markdown",
   "id": "located-default",
   "metadata": {},
   "source": [
    "<a id=\"matmul\"></a>\n",
    "\n",
    "        numpy.matmul()\n",
    "The `numpy.matmul()` function uses matrix multiplication to multiply together its two arguments.  The arguments therefore must satisfy the shape requirements to allow for them to be multiplied together.  For example we can multiply the $2\\times3$ matrix **P** with the $3\\times2$ matrix **Q** defined above to get the $2\\times2$ matrix **P**$\\times$**Q** as follows"
   ]
  },
  {
   "cell_type": "code",
   "execution_count": 29,
   "id": "later-strap",
   "metadata": {},
   "outputs": [
    {
     "data": {
      "text/plain": [
       "array([[22, 28],\n",
       "       [49, 64]])"
      ]
     },
     "execution_count": 29,
     "metadata": {},
     "output_type": "execute_result"
    }
   ],
   "source": [
    "import numpy as np\n",
    "P = np.array([[1, 2, 3], [4, 5, 6]])\n",
    "Q = np.array([[1, 2], [3, 4], [5, 6]])\n",
    "np.matmul(P, Q)"
   ]
  },
  {
   "cell_type": "markdown",
   "id": "separated-diameter",
   "metadata": {},
   "source": [
    "What happens when we calculate **Q**$\\times$**P**?  What happens when we try to calculate **P**$^2$?\n",
    "\n",
    "[Back](#index)"
   ]
  },
  {
   "cell_type": "code",
   "execution_count": null,
   "id": "standard-makeup",
   "metadata": {},
   "outputs": [],
   "source": []
  }
 ],
 "metadata": {
  "kernelspec": {
   "display_name": "Python 3",
   "language": "python",
   "name": "python3"
  },
  "language_info": {
   "codemirror_mode": {
    "name": "ipython",
    "version": 3
   },
   "file_extension": ".py",
   "mimetype": "text/x-python",
   "name": "python",
   "nbconvert_exporter": "python",
   "pygments_lexer": "ipython3",
   "version": "3.9.2"
  }
 },
 "nbformat": 4,
 "nbformat_minor": 5
}
