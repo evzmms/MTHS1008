{
 "cells": [
  {
   "cell_type": "markdown",
   "id": "numerous-brazilian",
   "metadata": {},
   "source": [
    "# Guided Programming 4 - Matrix Inversion Using Row Operations\n",
    "\n",
    "**Mathematical Methods for Chemical Engineers (MTHS1008)**\n",
    "\n",
    "**Dr Matthew Scase**\n",
    "\n",
    "In this notebook we will be using what we have learnt about row operations to invert a matrix using Python.\n",
    "\n",
    "The stages we need to go through are\n",
    "\n",
    "- Enter the matrix we want to invert\n",
    "- Create an augmented matrix\n",
    "- Carry out row operations until we have our inverted matrix.  This will need breaking down into sub-tasks\n",
    "- Output our inverted matrix\n",
    "- Check that our output matrix really is the required inverse, i.e., execute some form of error checking\n",
    "\n",
    "We will being by implementing our steps explicitly and then we can consider whether any of these steps can be refined once we know our algorithm is performing correctly.\n",
    "\n",
    "So that we can work on a specific example we will invert\n",
    "\n",
    "$$ \\textbf{A} = \\left(\\begin{array}{rrr} \\phantom{-}4 & \\phantom{-}2 & -1 \\\\ 0 & 1 & 3 \\\\ 3 & 2 & 1 \\end{array}\\right)$$\n",
    "\n",
    "There is nothing particularly special about this matrix, I've tried to choose one where the numbers work out reasonably nicely, but other than that it's just a generic matrix.\n",
    "\n",
    "## Entering the matrix we want to invert\n",
    "\n",
    "What we know as a 'matrix' in mathematics is known as an 'array' computer programming.\n",
    "\n",
    "We wish to enter our matrix $\\textbf{A}$ into Python.  There are many different ways of doing this.  The method I've chosen here uses the numerical Python module `numpy`.  \n",
    "\n",
    "We will begin by importing the numerical Python module `numpy`.  To save ourselves writing out \"numpy\" every time we wish to use one of the functions in the module we can import numpy `as np`."
   ]
  },
  {
   "cell_type": "code",
   "execution_count": 1,
   "id": "invisible-bradley",
   "metadata": {},
   "outputs": [],
   "source": [
    "import numpy as np"
   ]
  },
  {
   "cell_type": "markdown",
   "id": "czech-middle",
   "metadata": {},
   "source": [
    "Now we can enter our array using the `np.array` function.  The function `np.array` allows us to enter an argument in round brackets, the argument we enter will be our array `A`.  Our array is contained within square brackets.  Each **row** within that array is contained within its own square brackets.\n",
    "\n",
    "Observe that immediately after writing `np.array` I therefore have to open a set of round brackets to enter my array, then I open a set of square brackets to begin specifying my array, and then I have to open *a further set of square brackets* to begin entering the first row of my array.\n",
    "\n",
    "`np.array([[`\n",
    "\n",
    "Each element of the array is separated by a comma.  When I have finished entering my first row I close the square brackets associated with that first row, and then use a comma to indicate I have not finished, then I open another set of square brackets to begin the second row\n",
    "\n",
    "`np.array([[4, 2, -1], [`\n",
    "    \n",
    "When I have finished the final row I close it with a square bracket, then I close my array with a second square bracket, and finally I use a closing round bracket to let `np.array` know I have finished entering the argument."
   ]
  },
  {
   "cell_type": "code",
   "execution_count": 2,
   "id": "global-season",
   "metadata": {},
   "outputs": [
    {
     "name": "stdout",
     "output_type": "stream",
     "text": [
      "[[ 4  2 -1]\n",
      " [ 0  1  3]\n",
      " [ 3  2  1]]\n"
     ]
    }
   ],
   "source": [
    "A = np.array([[4, 2, -1], [0, 1, 3], [3, 2, 1]])\n",
    "print(A)"
   ]
  },
  {
   "cell_type": "markdown",
   "id": "improved-township",
   "metadata": {},
   "source": [
    "By using the command `print(A)` I can output the array to the screen to check that it has been entered correctly.  In a final version of the code we could omit this line to improve speed of execution.\n",
    "\n",
    "In mathematics we refer to the element of a matrix $\\textbf{A}$ that is in the first row, first column as $a_{11}$.  The first index 1 tells us we are interested in the first row, and the second index 1 tells us we are interested in the first column.  The element in row $i$, column $j$ is similarly denoted $a_{ij}$.\n",
    "\n",
    "**In Python the indexing begins at 0, not at 1**.  If I try and print out the element of the array `A` that is in row 1, column 1 by writing\n",
    "\n",
    "`print(A[1, 1])`\n",
    "\n",
    "we get a surprising output"
   ]
  },
  {
   "cell_type": "code",
   "execution_count": 3,
   "id": "automated-database",
   "metadata": {},
   "outputs": [
    {
     "name": "stdout",
     "output_type": "stream",
     "text": [
      "1\n"
     ]
    }
   ],
   "source": [
    "print(A[1, 1])"
   ]
  },
  {
   "cell_type": "markdown",
   "id": "announced-portable",
   "metadata": {},
   "source": [
    "However, the element in row 1 column 1 is equal to 4.  What has gone wrong?\n",
    "\n",
    "Since the indexing starts at 0, the first row is `A[0]` and the first element of the first row is therefore `A[0, 0]`.  So to output element $a_{11}$ I need to write\n",
    "\n",
    "`print(A[0, 0])`"
   ]
  },
  {
   "cell_type": "code",
   "execution_count": 4,
   "id": "finished-harvey",
   "metadata": {},
   "outputs": [
    {
     "name": "stdout",
     "output_type": "stream",
     "text": [
      "4\n"
     ]
    }
   ],
   "source": [
    "print(A[0, 0])"
   ]
  },
  {
   "cell_type": "markdown",
   "id": "flexible-marble",
   "metadata": {},
   "source": [
    "If I wish to display the whole of the *third* row I can use"
   ]
  },
  {
   "cell_type": "code",
   "execution_count": 5,
   "id": "large-arrow",
   "metadata": {},
   "outputs": [
    {
     "name": "stdout",
     "output_type": "stream",
     "text": [
      "[3 2 1]\n"
     ]
    }
   ],
   "source": [
    "print(A[2])"
   ]
  },
  {
   "cell_type": "markdown",
   "id": "rural-front",
   "metadata": {},
   "source": [
    "In general, to access the array element in row $i$, column $j$ I need to use\n",
    "\n",
    "`A[i - 1, j - 1]`"
   ]
  },
  {
   "cell_type": "markdown",
   "id": "smoking-valley",
   "metadata": {},
   "source": [
    "## Creating the Augmented Matrix\n",
    "\n",
    "The augmented matrix $\\left[\\,\\textbf{A}\\,|\\,\\textbf{I}\\,\\right]$ has three rows with the matrix $\\textbf{A}$ in the first three columns and the identity matrix, $\\textbf{I}$, in the final three columns.\n",
    "\n",
    "The first action in setting up our augmented matrix is to create an empty array of the correct shape, that is an array with three rows and six columns.  We can initialise an array using the `np.zeros` command.  This function will create an array containing the number zero in every element.  \n",
    "\n",
    "**Subtle point**: The command takes as a *single input argument*; even though we are specifying the number of rows *and* the number of columns.  The required number of rows and columns are specified as a [**tuple**](https://www.tutorialspoint.com/python/python_tuples.htm),\n",
    "\n",
    "`(rows, columns)`\n",
    "\n",
    "This is why we see the nested round brackets on the call to `np.zeros` below.  The required code is\n",
    "\n",
    "`np.zeros((rows, columns))`"
   ]
  },
  {
   "cell_type": "code",
   "execution_count": 6,
   "id": "hairy-birmingham",
   "metadata": {},
   "outputs": [
    {
     "name": "stdout",
     "output_type": "stream",
     "text": [
      "[[0. 0. 0. 0. 0. 0.]\n",
      " [0. 0. 0. 0. 0. 0.]\n",
      " [0. 0. 0. 0. 0. 0.]]\n"
     ]
    }
   ],
   "source": [
    "Aug = np.zeros((3, 6))\n",
    "print(Aug)"
   ]
  },
  {
   "cell_type": "markdown",
   "id": "final-torture",
   "metadata": {},
   "source": [
    "Now we can assign the first three rows and three columns of our array `Aug` to be equal to the array `A`.\n",
    "\n",
    "We wish to let all the rows and the columns 1, 2, and 3 of `Aug` equal `A`.  To specify that I wish to assign to *all* the rows of `Aug` I use a colon\n",
    "\n",
    "`Aug[:, `\n",
    "\n",
    "To specifically assign only columns 1 to 3 to be equal to A I use the following syntax\n",
    "\n",
    "`Aug[:, 0:3] = `\n",
    "\n",
    "This looks very odd at first glance.  I wish to make an assignment to the columns indexed by the number 0, 1 and 2.  So why do I write `0:3`?  The answer is that the format for specifying a range of indeces is\n",
    "\n",
    "`array[start:stop]` and this covers elements from `start` through to `stop-1`.\n",
    "\n",
    "In effect element `stop` is the first element not to be selected.\n",
    "\n",
    "So to allocate all rows and the first three columns of `Aug` to be equal to `A` we use "
   ]
  },
  {
   "cell_type": "code",
   "execution_count": 7,
   "id": "greater-metadata",
   "metadata": {},
   "outputs": [
    {
     "name": "stdout",
     "output_type": "stream",
     "text": [
      "[[ 4.  2. -1.  0.  0.  0.]\n",
      " [ 0.  1.  3.  0.  0.  0.]\n",
      " [ 3.  2.  1.  0.  0.  0.]]\n"
     ]
    }
   ],
   "source": [
    "Aug[:, 0:3] = A\n",
    "print(Aug)"
   ]
  },
  {
   "cell_type": "markdown",
   "id": "legendary-uniform",
   "metadata": {},
   "source": [
    "The `=` in the assignment only works if the shape of what is being allocated on the left hand side is equal to the shape of what is on the right hand side.  Observe what happens if you incorrectly try\n",
    "\n",
    "`Aug[:, 1:3] = A`"
   ]
  },
  {
   "cell_type": "markdown",
   "id": "automatic-palestinian",
   "metadata": {},
   "source": [
    "Now we need to input the identity matrix in columns 4 to 6 of our augmented matrix.  We can do this explicitly in the following way"
   ]
  },
  {
   "cell_type": "code",
   "execution_count": 8,
   "id": "optical-hospital",
   "metadata": {},
   "outputs": [
    {
     "name": "stdout",
     "output_type": "stream",
     "text": [
      "[[ 4.  2. -1.  1.  0.  0.]\n",
      " [ 0.  1.  3.  0.  1.  0.]\n",
      " [ 3.  2.  1.  0.  0.  1.]]\n"
     ]
    }
   ],
   "source": [
    "Aug[0, 3] = 1 # Element (1, 4) etc.\n",
    "Aug[1, 4] = 1\n",
    "Aug[2, 5] = 1\n",
    "print(Aug)"
   ]
  },
  {
   "cell_type": "markdown",
   "id": "geological-collection",
   "metadata": {},
   "source": [
    "Although this works, it is not very nice coding.  We have three very similar lines essentially doing the same task.  What would happen if we were working on a $100\\times100$ matrix?! When lines of code are very similar we can ask ourselves if it is possible to use a `loop` to execute the task more elegantly. \n",
    "\n",
    "We can achieve the same output using either"
   ]
  },
  {
   "cell_type": "code",
   "execution_count": 9,
   "id": "clear-artwork",
   "metadata": {},
   "outputs": [
    {
     "name": "stdout",
     "output_type": "stream",
     "text": [
      "[[ 4.  2. -1.  1.  0.  0.]\n",
      " [ 0.  1.  3.  0.  1.  0.]\n",
      " [ 3.  2.  1.  0.  0.  1.]]\n"
     ]
    }
   ],
   "source": [
    "for i in range(3):\n",
    "    Aug[i, i + 3] = 1\n",
    "    \n",
    "print(Aug)"
   ]
  },
  {
   "cell_type": "markdown",
   "id": "friendly-teach",
   "metadata": {},
   "source": [
    "or we can make use of the `numpy` function `identity()`.  To create a $3\\times3$ identity matrix we use `np.identity(3)`."
   ]
  },
  {
   "cell_type": "code",
   "execution_count": 10,
   "id": "laughing-middle",
   "metadata": {},
   "outputs": [
    {
     "name": "stdout",
     "output_type": "stream",
     "text": [
      "[[ 4.  2. -1.  1.  0.  0.]\n",
      " [ 0.  1.  3.  0.  1.  0.]\n",
      " [ 3.  2.  1.  0.  0.  1.]]\n"
     ]
    }
   ],
   "source": [
    "Aug[:, 3:6] = np.identity(3)\n",
    "print(Aug)"
   ]
  },
  {
   "cell_type": "markdown",
   "id": "ready-print",
   "metadata": {},
   "source": [
    "## Carry out Row Operations to Find the Inverse\n",
    "\n",
    "In this example the first task we will carry out is to choose row operations that will put a zero in the second and third rows, first column of our augmented matrix - shown in red\n",
    "\n",
    "$$ \\textbf{A} = \\left(\\begin{array}{rrr|rrr} \\phantom{-}4 & \\phantom{-}2 & -1 & \\phantom{-}1 & 0 & 0 \\\\ \\color{red}0 & 1 & 3 & \\phantom{-}0 & 1 & 0 \\\\ \\color{red}3 & 2 & 1 & \\phantom{-}0 & 0 & 1  \\end{array}\\right)$$\n",
    "\n",
    "We see that we are lucky with row 2 as we already have a zero in the first column.\n",
    "\n",
    "For the third row we can get a zero by using the operation\n",
    "\n",
    "   R3 $\\mapsto$ 4R3 $-$ 3R1\n",
    "   \n",
    "which we could code explicitly as\n",
    "\n",
    "`Aug[2] = 4*Aug[2] - 3*Aug[0]`\n",
    "\n",
    "but this would be a poor idea - we're not always going to be inverting the matrix given to us in this example.  What we really want to do is to multiply row 3 by the first element of row 1 and then subtract off row 1 multiplied by the first element of row 3; this is much more flexible\n",
    "\n",
    "`Aug[2] = Aug[0, 0]*Aug[2] - Aug[2, 0]*Aug[0]`\n",
    "\n",
    "Here we have multiplied row 3, `Aug[2]`, by the first element of row 1, `Aug[0, 0]`, and subtracted off row 1, `Aug[0]` multiplied by the first element of row 3 `Aug[2, 0]`.  \n",
    "\n",
    "For completeness, let's do the same thing for the second row of `Aug` too, even though in this example there is already a zero where we want one."
   ]
  },
  {
   "cell_type": "code",
   "execution_count": 11,
   "id": "naked-calcium",
   "metadata": {},
   "outputs": [
    {
     "name": "stdout",
     "output_type": "stream",
     "text": [
      "[[ 4.  2. -1.  1.  0.  0.]\n",
      " [ 0.  4. 12.  0.  4.  0.]\n",
      " [ 0.  2.  7. -3.  0.  4.]]\n"
     ]
    }
   ],
   "source": [
    "Aug[1] = Aug[0, 0]*Aug[1] - Aug[1, 0]*Aug[0] # .. Update row 2\n",
    "Aug[2] = Aug[0, 0]*Aug[2] - Aug[2, 0]*Aug[0] # .. Update row 3\n",
    "print(Aug)"
   ]
  },
  {
   "cell_type": "markdown",
   "id": "guided-neutral",
   "metadata": {},
   "source": [
    "Again, this is not particularly elegant coding - can you see how you could use a loop to improve what we have?\n",
    "\n",
    "The next sub-task is to put a zero in the second column of the third row, again shown in red\n",
    "\n",
    "$$ \\textbf{A} = \\left(\\begin{array}{rrr|rrr} \n",
    "\\phantom{-}4 & \\phantom{-}2 & -1 & \\phantom{-}1 & 0 & 0 \\\\ \n",
    "           0 & 4 & 12 & \\phantom{-}0 & 4 & 0 \\\\ \n",
    "           0 & \\color{red}2 & 7 & -3 & 0 & 4  \\end{array}\\right)$$\n",
    "           \n",
    "We can put a zero in row 3 column 2 by carrying out the explicit row operation\n",
    "\n",
    "   R3 $\\mapsto$ 4R3 $-$ 2R2\n",
    "   \n",
    "We see that this is really \n",
    "\n",
    "   R3 $\\mapsto$ $a_{22}$R3 $-$ $a_{32}$R2\n",
    "   \n",
    "So we can implement the desired row operation as"
   ]
  },
  {
   "cell_type": "code",
   "execution_count": 12,
   "id": "continuous-lingerie",
   "metadata": {},
   "outputs": [
    {
     "name": "stdout",
     "output_type": "stream",
     "text": [
      "[[  4.   2.  -1.   1.   0.   0.]\n",
      " [  0.   4.  12.   0.   4.   0.]\n",
      " [  0.   0.   4. -12.  -8.  16.]]\n"
     ]
    }
   ],
   "source": [
    "Aug[2] = Aug[1, 1]*Aug[2] - Aug[2, 1]*Aug[1]\n",
    "print(Aug)"
   ]
  },
  {
   "cell_type": "markdown",
   "id": "interested-guest",
   "metadata": {},
   "source": [
    "The lower left triangle now has zeros everywhere that we need them.  The next sub-task is to consider the upper right triangle and to put zeros in rows 1 and 2, column 3 by choosing suitable row operations.  That is, we need to find appropriate row operations to put zeros where the red elements are\n",
    "\n",
    "$$ \\textbf{A} = \\left(\\begin{array}{rrr|rrr} \n",
    "\\phantom{-}4 & \\phantom{-}2 & \\color{red}-\\color{red}1 & \\phantom{-}1 & 0 & 0 \\\\ \n",
    "           0 & 4 & \\color{red}1\\color{red}2 & \\phantom{-}0 & 4 & 0 \\\\ \n",
    "           0 & 0 & 4 & -12 & -8 & 16  \\end{array}\\right)$$\n",
    "\n",
    "Using the method we have established above, we will carry out\n",
    "\n",
    "   R1 $\\mapsto$ $a_{33}$R1 $-$ $a_{13}$R3\n",
    "   \n",
    "   R2 $\\mapsto$ $a_{33}$R2 $-$ $a_{23}$R3"
   ]
  },
  {
   "cell_type": "code",
   "execution_count": 13,
   "id": "reasonable-pastor",
   "metadata": {},
   "outputs": [
    {
     "name": "stdout",
     "output_type": "stream",
     "text": [
      "[[  16.    8.    0.   -8.   -8.   16.]\n",
      " [   0.   16.    0.  144.  112. -192.]\n",
      " [   0.    0.    4.  -12.   -8.   16.]]\n"
     ]
    }
   ],
   "source": [
    "Aug[0] = Aug[2, 2]*Aug[0] - Aug[0, 2]*Aug[2] # .. Update row 1\n",
    "Aug[1] = Aug[2, 2]*Aug[1] - Aug[1, 2]*Aug[2] # .. Update row 2\n",
    "print(Aug)"
   ]
  },
  {
   "cell_type": "markdown",
   "id": "integrated-summit",
   "metadata": {},
   "source": [
    "The final zero we need to set is in the first row second column, here shown in red\n",
    "\n",
    "$$ \\textbf{A} = \\left(\\begin{array}{rrr|rrr} \n",
    "16 & \\color{red}8 & 0 & -8 & -8 & 16 \\\\ \n",
    "           0 & 16 & 0 & 144 & 112 & -192 \\\\ \n",
    "           0 & 0 & 4 & -12 & -8 & 16  \\end{array}\\right)$$\n",
    "           \n",
    "The required row operation is\n",
    "\n",
    "   R1 $\\mapsto$ $a_{22}$R1 $-$ $a_{12}$R2\n",
    "   \n",
    "and may be implemented via"
   ]
  },
  {
   "cell_type": "code",
   "execution_count": 14,
   "id": "integral-router",
   "metadata": {},
   "outputs": [
    {
     "name": "stdout",
     "output_type": "stream",
     "text": [
      "[[  256.     0.     0. -1280. -1024.  1792.]\n",
      " [    0.    16.     0.   144.   112.  -192.]\n",
      " [    0.     0.     4.   -12.    -8.    16.]]\n"
     ]
    }
   ],
   "source": [
    "Aug[0] = Aug[1, 1]*Aug[0] - Aug[0, 1]*Aug[1]\n",
    "print(Aug)"
   ]
  },
  {
   "cell_type": "markdown",
   "id": "convinced-fourth",
   "metadata": {},
   "source": [
    "The final step is to divide through the elements on the leading diagonal of the augmented matrix to put the identity matrix in the first three rows and columns.  The inverse of $\\textbf{A}$ will then be in rows 1 to 3, columns 4 to 6 as we will have found $\\left[\\,\\textbf{I}\\,|\\,\\textbf{A}^{-1}\\right]$.\n",
    "\n",
    "Our final sub-task is therefore to divide through by the elements on the leading diagonal.  When dividing we need to be careful in general, however we will defer consideration of what happens if there is a zero on the leading diagonal to a later session.  For now, let us just divide through each row by the red elements of\n",
    "\n",
    "$$ \\textbf{A} = \\left(\\begin{array}{rrr|rrr} \n",
    "\\color{red}2\\color{red}5\\color{red}6 & 0 & 0 & -1280 & -1024 & 1792 \\\\ \n",
    "           0 & \\color{red}1\\color{red}6 & 0 & 144 & 112 & -192 \\\\ \n",
    "           0 & 0 & \\color{red}4 & -12 & -8 & 16  \\end{array}\\right)$$\n",
    "           \n",
    "Again we could do this explicitly as\n",
    "\n",
    "R1 $\\mapsto$ R1$/a_{11}$\n",
    "\n",
    "R2 $\\mapsto$ R2$/a_{22}$\n",
    "\n",
    "R3 $\\mapsto$ R3$/a_{33}$\n",
    "\n",
    "But we can see that this task can be more efficiently coded as a `loop` as"
   ]
  },
  {
   "cell_type": "code",
   "execution_count": 15,
   "id": "informational-visibility",
   "metadata": {},
   "outputs": [
    {
     "name": "stdout",
     "output_type": "stream",
     "text": [
      "[[  1.   0.   0.  -5.  -4.   7.]\n",
      " [  0.   1.   0.   9.   7. -12.]\n",
      " [  0.   0.   1.  -3.  -2.   4.]]\n"
     ]
    }
   ],
   "source": [
    "for i in range(3):\n",
    "    Aug[i] = Aug[i]/Aug[i, i]\n",
    "    \n",
    "print(Aug)"
   ]
  },
  {
   "cell_type": "markdown",
   "id": "utility-salvation",
   "metadata": {},
   "source": [
    "Our solution is now contained in rows 1 to 3 and columns 4 to 6 of our augmented matrix that is stored in the array `Aug`.  We can assign a new $3\\times3$ array, let's say `Ainv` to store our solution in.\n",
    "\n",
    "We assign `Ainv` to be equal to rows 1 to 3 and columns 4 to 6 of our augmented matrix `Aug`.\n",
    "\n",
    "Again, be careful `Aug[:, 3:6]` refers to *all the rows* of `Aug` and columns 4 to 6 which are indexed by numbers 3, 4, 5 (!)."
   ]
  },
  {
   "cell_type": "code",
   "execution_count": 16,
   "id": "associate-genre",
   "metadata": {},
   "outputs": [
    {
     "name": "stdout",
     "output_type": "stream",
     "text": [
      "[[ -5.  -4.   7.]\n",
      " [  9.   7. -12.]\n",
      " [ -3.  -2.   4.]]\n"
     ]
    }
   ],
   "source": [
    "Ainv = Aug[:, 3:6]\n",
    "print(Ainv)"
   ]
  },
  {
   "cell_type": "markdown",
   "id": "processed-quantity",
   "metadata": {},
   "source": [
    "Hence, we have our solution\n",
    "\n",
    "$$ \\textbf{A} = \\left(\\begin{array}{rrr} \\phantom{-}4 & \\phantom{-}2 & -1 \\\\ 0 & 1 & 3 \\\\ 3 & 2 & 1 \\end{array}\\right)\n",
    "\\qquad\\Rightarrow\\qquad\n",
    "\\textbf{A}^{-1} = \\left(\\begin{array}{rrr} -5 & -4 & 7 \\\\ 9 & 7 & -12 \\\\ -3 & -2 & 4 \\end{array}\\right)$$"
   ]
  },
  {
   "cell_type": "markdown",
   "id": "initial-james",
   "metadata": {},
   "source": [
    "## Checking our Solution\n",
    "\n",
    "One way of checking our solution is to multiply the input array `A` with our calculated inverse `Ainv` and compare the result with the identity matrix as we should find\n",
    "\n",
    "$$\\textbf{A}\\times\\textbf{A}^{-1} = \\textbf{I}.$$\n",
    "\n",
    "We can carry out matrix multiplication in a number of different ways.  One way is to use `numpy`'s `matmul` function"
   ]
  },
  {
   "cell_type": "code",
   "execution_count": 17,
   "id": "renewable-sacramento",
   "metadata": {},
   "outputs": [
    {
     "name": "stdout",
     "output_type": "stream",
     "text": [
      "[[1. 0. 0.]\n",
      " [0. 1. 0.]\n",
      " [0. 0. 1.]]\n"
     ]
    }
   ],
   "source": [
    "print(np.matmul(A, Ainv))"
   ]
  },
  {
   "cell_type": "markdown",
   "id": "hazardous-great",
   "metadata": {},
   "source": [
    "and we observe that we have the required identity matrix.\n",
    "\n",
    "## Exercises\n",
    "\n",
    "- Try the algorithm on a different input matrix of your choice to test that everything still works\n",
    "- Replace the explicitly coded row operations using loops.  For example we could replace\n",
    "    \n",
    "        Aug[1] = Aug[0, 0]*Aug[1] - Aug[1, 0]*Aug[0]\n",
    "        Aug[2] = Aug[0, 0]*Aug[2] - Aug[2, 0]*Aug[0]\n",
    "\n",
    "with\n",
    "\n",
    "    for i in range(2):\n",
    "        Aug[i + 1] = Aug[0, 0]*Aug[i + 1] - Aug[i + 1, 0]*Aug[0]\n",
    "    \n",
    "- When we divide through in the final step we should really check to see that we are not dividing by zero.  What does it mean if we end up in a position where it looks like we would have to divide by zero?\n",
    "- Can you work out how to use loops in the algorithm so that the same code would work for any sized input array, e.g., a $2\\times2$ or a $4\\times4$ matrix\n",
    "- Can you break the algorithm?  What else have we not been careful about?  Try finding the inverse of\n",
    "\n",
    "$$\\textbf{A} = \\left(\\begin{array}{rrr} \\phantom{-}0 & \\phantom{-}1 & 4 \\\\ 4 & 2 & -1 \\\\ 3 & 2 & 1\n",
    "\\end{array}\\right)$$\n",
    "\n",
    "with\n",
    "\n",
    "        A = np.array([[0, 1, 4], [4, 2, -1], [3, 2, 1]])\n",
    "        \n",
    "This matrix has inverse\n",
    "\n",
    "$$\\textbf{A}^{-1} = \\left(\\begin{array}{rrr} 4 & 7 & -9 \\\\ -7 & -12 & 16 \\\\ 2 & 3 & -4\n",
    "\\end{array}\\right)$$\n",
    "\n",
    "Does your algorithm work on\n",
    "\n",
    "$$\\textbf{A} = \\left(\\begin{array}{rrr} 2 & -1 & 1 \\\\ 4 & -2 & 3 \\\\ -3 & 1 & 1\n",
    "\\end{array}\\right) \\qquad\\Rightarrow\\qquad \\textbf{A}^{-1} = \\left(\\begin{array}{rrr} -5 & 2 & -1 \\\\ -13 & 5 & -2 \\\\ -2 & 1 & 0\n",
    "\\end{array}\\right)$$\n",
    "\n",
    "and\n",
    "\n",
    "$$\\textbf{A} = \\left(\\begin{array}{rrr} 2 & 4 & 3 \\\\ 1 & 2 & 2 \\\\ 0 & -1 & -2\n",
    "\\end{array}\\right) \\qquad\\Rightarrow\\qquad \\textbf{A}^{-1} = \\left(\\begin{array}{rrr} -2 & 5 & 2 \\\\ 2 & -4 & -1 \\\\ -1 & 2 & 0\n",
    "\\end{array}\\right)$$"
   ]
  },
  {
   "cell_type": "markdown",
   "id": "right-radiation",
   "metadata": {},
   "source": [
    "## Example Script"
   ]
  },
  {
   "cell_type": "code",
   "execution_count": 18,
   "id": "subjective-masters",
   "metadata": {
    "scrolled": true
   },
   "outputs": [
    {
     "name": "stdout",
     "output_type": "stream",
     "text": [
      "A =\n",
      " [[ 4  2 -1]\n",
      " [ 0  1  3]\n",
      " [ 3  2  1]]\n",
      "\n",
      "Inverse found\n",
      " [[ -5.  -4.   7.]\n",
      " [  9.   7. -12.]\n",
      " [ -3.  -2.   4.]] \n",
      "\n",
      "Error check\n",
      "A x A^(-1) =\n",
      " [[1. 0. 0.]\n",
      " [0. 1. 0.]\n",
      " [0. 0. 1.]]\n"
     ]
    }
   ],
   "source": [
    "#!/usr/bin/env python3\n",
    "\"\"\"This script inverts matrices, where an inverse exists, using the\n",
    "method of row operations.\"\"\"\n",
    "\n",
    "import numpy as np\n",
    "\n",
    "# User-input array (arbitrary size)\n",
    "A = np.array([[4, 2, -1], [0, 1, 3], [3, 2, 1]])\n",
    "\n",
    "m = A.shape[0] # ...................................... Number of rows in A\n",
    "n = A.shape[1] # ................................... Number of columns in A\n",
    "\n",
    "# Check matrix is square\n",
    "if n != m:\n",
    "    print('Cannot invert a non-square matrix')\n",
    "else:\n",
    "    # Create augmented matrix\n",
    "    Aug = np.zeros((n, 2*n)) # ................ Initialize Augmented matrix\n",
    "    Aug[:, 0:n] = A # ...................... Put A in left hand side of Aug\n",
    "    for i in range(n): # ........... Put identity matrix in right hand side\n",
    "        Aug[i, n + i] = 1\n",
    "\n",
    "    # Zeros in lower triangle\n",
    "    for j in range(n - 1):\n",
    "        Aug[j:n] = Aug[abs(Aug[j:n, j]).argsort()[::-1] + j] # Reverse sort\n",
    "        for i in range(j + 1, n):\n",
    "            Aug[i] = Aug[j, j]*Aug[i] - Aug[i, j]*Aug[j]\n",
    "\n",
    "    # Zeros in upper triangle\n",
    "    for j in range(n - 1, 0, -1):\n",
    "        for i in range(j):\n",
    "            Aug[i] = Aug[j, j]*Aug[i] - Aug[i, j]*Aug[j]\n",
    "\n",
    "    # Divide through by the elements on the leading diagonal\n",
    "    SINGULARMATRIX = False # ...... Flag for whether solution exists or not\n",
    "    for i in range(n):\n",
    "        if Aug[i, i] != 0: # ............. Check we're not dividing by zero\n",
    "            Aug[i] = Aug[i]/Aug[i, i]\n",
    "        else:\n",
    "            SINGULARMATRIX = True\n",
    "\n",
    "    # Output solution if possible\n",
    "    if SINGULARMATRIX is True:\n",
    "        print('Singular matrix')\n",
    "    else:\n",
    "        print('A =\\n', A)\n",
    "        Ainv = Aug[:, n:2*n]\n",
    "        print('\\nInverse found\\n',Ainv,'\\n')\n",
    "        print('Error check\\nA x A^(-1) =\\n',np.matmul(A, Ainv))"
   ]
  }
 ],
 "metadata": {
  "kernelspec": {
   "display_name": "Python 3",
   "language": "python",
   "name": "python3"
  },
  "language_info": {
   "codemirror_mode": {
    "name": "ipython",
    "version": 3
   },
   "file_extension": ".py",
   "mimetype": "text/x-python",
   "name": "python",
   "nbconvert_exporter": "python",
   "pygments_lexer": "ipython3",
   "version": "3.9.2"
  }
 },
 "nbformat": 4,
 "nbformat_minor": 5
}
