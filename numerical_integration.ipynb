{
 "cells": [
  {
   "cell_type": "markdown",
   "id": "alleged-repeat",
   "metadata": {},
   "source": [
    "# Guided Programming 6 - Numerical Integration \n",
    "\n",
    "**Mathematical Methods for Chemical Engineers (MTHS1008)**\n",
    "\n",
    "**Dr Matthew Scase**\n",
    "\n",
    "- In this exercise we will write code that will evaluate the area under a function $f$ between $x = a$ and $x = b$ without having to mathematically find the integral itself\n",
    "\n",
    "- The function $f$ will be specified in a single line of code\n",
    "\n",
    "- We will approximate the area under $f$ using a series of rectangles fitted to $f$ as in the \"Area and Integration\" lecture\n",
    "\n",
    "- We are approximating the area under a curve using a “Riemann Sum”\n",
    "\n",
    "## Independent Checking\n",
    "\n",
    "- Suppose you and the colleague you worked with on the differentiation project are asked, as part of a larger task, to evaluate \n",
    "    $$ \\int_0^\\infty \\textrm{e}^{-x^2}\\,\\textrm{d}x$$\n",
    "\n",
    "\n",
    "- You correctly suggest that you begin by sketching the curve and produce the plot shown in Figure 1\n",
    "\n",
    "<div style=\"text-align:center;\">\n",
    "<img src=\"numerical_integration_1.png\" alt=\"figure\" width = \"460\"/>\n",
    "    <strong><center>Figure 1</center></strong>\n",
    "</div>"
   ]
  },
  {
   "cell_type": "markdown",
   "id": "exclusive-training",
   "metadata": {},
   "source": [
    "- Your colleague then produces the following line of reasoning: <br/><br/>\n",
    "\n",
    "    - “I remember that when we integrate $f(t) = \\textrm{e}^{-t}$ with respect to $t$ we get $\\int\\textrm{e}^{-t}\\,\\textrm{d}t = -\\textrm{e}^{-t}$.”<br/><br/>\n",
    "    “True (up to an arbitrary constant of integration)” you say. [You’re right!] <br/><br/>\n",
    "    Then your colleague says <br/><br/>\n",
    "    \n",
    "    - “The problem we have is of the same form; we just need to take $t=x^2$.  We can therefore ‘sub in’ to the same formula to get $\\int\\textrm{e}^{-x^2}\\,\\textrm{d}x = -\\textrm{e}^{-x^2}$.  So for our problem we have\n",
    "    $$ \\int_0^\\infty \\textrm{e}^{-x^2}\\,\\textrm{d}x = \\left[-\\textrm{e}^{-x^2}\\right]_0^\\infty = 0 + 1 = 1.\"$$<br/><br/>\n",
    "    \n",
    "    - “Hmmm”, you say, not convinced.  “That doesn’t look right to me.  Look at this figure\n",
    "\n",
    "        <div style=\"text-align:center;\">\n",
    "<img src=\"numerical_integration_2.png\" alt=\"figure\" width = \"460\"/>\n",
    "    <strong><center>Figure 2</center></strong>\n",
    "</div>\n",
    "    \n",
    "    It looks a bit less than that on the graph.  I think there are roughly 18 squares under the curve and each square has area $0.5 \\times 0.1 = 0.05$. I think the answer is less than 1, nearer $18 \\times 0.05 = 0.9$.” <br/>[You’re right!]<br/><br/>\n",
    "“Well, I think I’m right, where’s my maths gone wrong?  Show me I’m wrong.”\n",
    "\n",
    "## Numerical Integration\n",
    "\n",
    "We will use a left-hand \"[Riemann Sum](https://en.wikipedia.org/wiki/Riemann_sum)\", shown in Figure 3, to approximate the integral as\n",
    "$$I = \\int_a^b \\textrm{e}^{-x^2}\\,\\textrm{d}x \\approx \\sum_{n = 0}^{N-1} f(x_j) \\Delta x$$\n",
    "where\n",
    "$$ \\Delta x = \\frac{b - a}{N}, \\qquad x_n = a + n \\Delta x$$.\n",
    "\n",
    "<div style=\"text-align:center;\">\n",
    "<img src=\"numerical_integration_3.png\" alt=\"figure\" width = \"460\"/>\n",
    "    <strong><center>Figure 3</center></strong>\n",
    "</div>\n",
    "\n",
    "As the number of rectangles we use to approximate the area under the curve, $N$, increases we would like to observe our approximation to the area under the curve tend towards a fixed value.\n",
    "\n",
    "We cannot \"take the limit as $b\\to\\infty$\" numerically, so we will need to approximate the limit.  We can see from Figure 1 that the function $f(x)$ is very close to zero when $x=4$, so let's begin by integrating $f(x)$ between $x=0$ and $x=5$.  \n",
    "\n",
    "First of all we need to define the $N$ horizontal locations $x_0, x_1, x_2, \\ldots, x_{N-1}$.  We can do this in a list."
   ]
  },
  {
   "cell_type": "code",
   "execution_count": null,
   "id": "published-lawyer",
   "metadata": {},
   "outputs": [],
   "source": [
    "import numpy as np # . We need this in order to be able to evaluate exp\n",
    "\n",
    "a = 0 # ....................... This is the lower limit of our integral\n",
    "b = 5 # ....................... This is the upper limit of our integral\n",
    "N = 10 # . This is the number of rectangles we will fit under our curve\n",
    "\n",
    "Dx = (b - a)/N # ....... This is the horizontal width of our rectangles\n",
    "xn = [a + n*Dx for n in range(N)] # . List containing x0, x1, ..., xN-1"
   ]
  },
  {
   "cell_type": "markdown",
   "id": "preceding-recipient",
   "metadata": {},
   "source": [
    "Now we need to calculate the area of each rectangle under our curve.  The width of each rectangle is given by $\\Delta x$, which is stored in the variable `Dx`.  From Figure 3, we see that the height of the $1^\\textrm{st}$ rectangle is given by $f(x_0)$, the height of the second rectangle is $f(x_1)$, etc.\n",
    "\n",
    "It follows that the area of the $1^\\textrm{st}$ rectangle is $f(x_0)\\Delta x$, the area of the second rectangle is $f(x_1)\\Delta x$ and the area of the final rectangle (the $N^\\textrm{th}$ rectangle) is $f(x_{N-1})\\Delta x$.  We can create a `list` containing the area of the rectangle associated with $x_n$ and then sum the areas of all the rectangles to get the approximate area under the curve.\n",
    "\n",
    "Let's store the area of each rectangle in a list called `An`.  To evaluate the exponential of a number $z$ we can use the numpy module which we have imported `as np`. To evaluate $\\textrm{e}^z$ we use `np.exp(z)`.  Hence our areas can be calculated as"
   ]
  },
  {
   "cell_type": "code",
   "execution_count": null,
   "id": "plastic-secret",
   "metadata": {},
   "outputs": [],
   "source": [
    "An = [np.exp(-x**2)*Dx for x in xn]"
   ]
  },
  {
   "cell_type": "markdown",
   "id": "alternate-collection",
   "metadata": {},
   "source": [
    "This is the only line of code that includes our integrand $f(x) = \\textrm{e}^{-x^2}$, this means it is very easy to change the code to **integrate the area under *any* curve**.\n",
    "\n",
    "The approximate area under the curve, the integral $I$, is the sum of all the areas of the rectangles.  This is the sum of all the elements in our list `An`.  We can use `sum()` to sum the elements of a list.  Then we can print our approximation to the screen."
   ]
  },
  {
   "cell_type": "code",
   "execution_count": null,
   "id": "gorgeous-floor",
   "metadata": {},
   "outputs": [],
   "source": [
    "I = sum(An)\n",
    "print('Integral: I =', I)"
   ]
  },
  {
   "cell_type": "markdown",
   "id": "laden-angola",
   "metadata": {},
   "source": [
    "This looks concerning, this approximation is greater than 1.  Let's see what happens when we tabulate our results for increasing values of $N$ (you can go back and re-run the calculation for different values of `N`).\n",
    "\n",
    "| Number of Rectangles $N$ | Approximation to Integral $I$ |\n",
    "| --- | --- |\n",
    "| $10^1\\qquad\\qquad$ | $1.136\\qquad\\qquad$ |\n",
    "| $10^2\\qquad\\qquad$ | $0.911\\qquad\\qquad$ |\n",
    "| $10^3\\qquad\\qquad$ | $0.889\\qquad\\qquad$ |\n",
    "| $10^4\\qquad\\qquad$ | $0.886\\qquad\\qquad$ |\n",
    "| $10^5\\qquad\\qquad$ | $0.886\\qquad\\qquad$ |\n",
    "| $10^6\\qquad\\qquad$ | $0.886\\qquad\\qquad$ |\n",
    "\n",
    "- You tell your colleague that their calculation of $\\int_0^\\infty \\textrm{e}^{-x^2}\\,\\textrm{d}x = 1$ looks wrong, your numerical calculation suggests $\\int_0^\\infty \\textrm{e}^{-x^2}\\,\\textrm{d}x = 0.886$ which is a fair bit smaller than 1, closer to 0.9, as you expected.  \n",
    "\n",
    "\n",
    "- You show them your numerical output.\n",
    "\n",
    "\n",
    "- Not convinced your colleague says “I don’t believe your numerics.  You’ve not integrated out to infinity, that’s why your answer is too small”.\n",
    "\n",
    "\n",
    "- “That’s true, fair comment”"
   ]
  },
  {
   "cell_type": "markdown",
   "id": "capital-chinese",
   "metadata": {},
   "source": [
    "We took our upper limit to be $x=5$ without any rigorous justification.  We can convince ourselves that we have not missed any significant area if, when we increase our upper limit, to $x=12$ say, we see that our approximation to the area under the curve remains the same.\n",
    "\n",
    "This time, let's create a list of the different numbers of total rectangles that we wish to try, from $N=10$ up to $N=10^6$.  Let's store these values of $N$ in a list that we will call `N_list`."
   ]
  },
  {
   "cell_type": "code",
   "execution_count": null,
   "id": "agricultural-composition",
   "metadata": {},
   "outputs": [],
   "source": [
    "import numpy as np # . We need this in order to be able to evaluate exp\n",
    "\n",
    "a = 0 # ....................... This is the lower limit of our integral\n",
    "b = 12 # .................. This is the new upper limit of our integral\n",
    "\n",
    "N_list = [10**i for i in range(1, 7)]"
   ]
  },
  {
   "cell_type": "markdown",
   "id": "lightweight-dealing",
   "metadata": {},
   "source": [
    "We can now loop through the values of $N$ in our list, being careful to recalculate our $x_0, x_1, \\ldots x_{N-1}$ positions and our rectangle widths $\\Delta x$ for each $N$."
   ]
  },
  {
   "cell_type": "code",
   "execution_count": null,
   "id": "severe-taste",
   "metadata": {},
   "outputs": [],
   "source": [
    "for N in N_list:\n",
    "    Dx = (b - a)/N \n",
    "    xn = [a + n*Dx for n in range(N)] \n",
    "    An = [np.exp(-x**2)*Dx for x in xn]\n",
    "    I = sum(An)\n",
    "    print('N =', N, ' Integral: I =', I)"
   ]
  },
  {
   "cell_type": "markdown",
   "id": "ranging-ridge",
   "metadata": {},
   "source": [
    "Tabulating our results again, we see that our estimate of the integral, $0.886$, is unchanged as $N$ gets large.\n",
    "\n",
    "| Number of Rectangles $N$ | Approximation to Integral $I$ |\n",
    "| --- | --- |\n",
    "| $10^1\\qquad\\qquad$ | $1.488\\qquad\\qquad$ |\n",
    "| $10^2\\qquad\\qquad$ | $0.946\\qquad\\qquad$ |\n",
    "| $10^3\\qquad\\qquad$ | $0.892\\qquad\\qquad$ |\n",
    "| $10^4\\qquad\\qquad$ | $0.887\\qquad\\qquad$ |\n",
    "| $10^5\\qquad\\qquad$ | $0.886\\qquad\\qquad$ |\n",
    "| $10^6\\qquad\\qquad$ | $0.886\\qquad\\qquad$ |\n",
    "\n",
    "We can prove that the error we are making by approximating the upper limit as $x=12$ instead of $x=\\infty$ is negligibly small.\n",
    "\n",
    "The problem we are having is that we don't know how to integrate $\\textrm{e}^{-x^2}$ with respect to $x$.  But what we do know is that for $x>1$ we have that $\\textrm{e}^{-x^2} < \\textrm{e}^{-x}$ and we *can* integrate $\\textrm{e}^{-x}$ with respect to $x$.\n",
    "\n",
    "<div style=\"text-align:center;\">\n",
    "<img src=\"numerical_integration_5.png\" alt=\"figure\" width = \"460\"/>\n",
    "    <strong><center>Figure 4</center></strong>\n",
    "</div>\n",
    "We can picture what is happening from Figure 4.  If the error we are making is given by neglecting the area under the red curve, then because it is always smaller than the blue curve the area we are missing must be smaller than the area under the blue curve.  We can see that the error we are making by taking $x = 12$ as the upper bound of our integral therefore satisfies\n",
    "$$\\int_{12}^\\infty \\textrm{e}^{-x^2}\\,\\textrm{d}x < \\int_{12}^\\infty \\textrm{e}^{-x}\\,\\textrm{d}x = \\left[-\\textrm{e}^{-x}\\right]_{12}^\\infty = \\textrm{e}^{-12} \\approx 6.14\\times10^{-6}.$$\n",
    "\n",
    "We can therefore have a very high degree of confidence in the first three decimal places of our numerical approximation.\n",
    "\n",
    "- Knowing that your colleague’s answer is wrong you re-visit the mathematical argument knowing what the correct answer should be, and that the answer is certainly not $\\int_0^\\infty \\textrm{e}^{-x^2}\\,\\textrm{d}x = 1$.\n",
    "\n",
    "- By observing that the integral you are evaluating is proportional to the right hand side of a Normal distribution, $N(0, 1/\\sqrt{2})$, with density function\n",
    "$$f(x) = \\frac{1}{\\sqrt{\\pi}}\\textrm{e}^{-x^2}\\quad\\Rightarrow\\quad\n",
    "\\frac{1}{\\sqrt{\\pi}}\\int_{-\\infty}^\\infty \\textrm{e}^{-x^2}\\,\\textrm{d}x = 1$$\n",
    "you realise that because the integrand is even\n",
    "$$\\int_0^\\infty \\textrm{e}^{-x^2}\\,\\textrm{d}x = \\frac{\\sqrt{\\pi}}{2} \\approx 0.866$$\n",
    "matching your numerical approximation exactly.  You note that this result can also be found by considering the square of the integral and making a substitution into polar coordinates.\n",
    "\n",
    "- Your colleague has a complimentary word with the boss and you are earmarked for a promotion!\n",
    "\n",
    "## Extension Work\n",
    "\n",
    "- We were able to get a good answer without having to carry out any integration, but can you think of a better method that means that far fewer than $10^6$ rectangles are required?\n",
    "\n",
    "- The “[midpoint rule](https://en.wikipedia.org/wiki/Numerical_integration)” is shown in Figure 5\n",
    "\n",
    "<div style=\"text-align:center;\">\n",
    "<img src=\"numerical_integration_4.png\" alt=\"figure\" width = \"460\"/>\n",
    "    <strong><center>Figure 5</center></strong>\n",
    "</div>\n",
    "\n",
    "We can implement this as follows"
   ]
  },
  {
   "cell_type": "code",
   "execution_count": null,
   "id": "incorporate-alloy",
   "metadata": {},
   "outputs": [],
   "source": [
    "import numpy as np # . We need this in order to be able to evaluate exp\n",
    "\n",
    "a = 0 # ....................... This is the lower limit of our integral\n",
    "b = 12 # .................. This is the new upper limit of our integral\n",
    "\n",
    "N_list = [10*i for i in range(1, 7)]\n",
    "\n",
    "for N in N_list:\n",
    "    Dx = (b - a)/N \n",
    "    xn = [a + n*Dx for n in range(N)] \n",
    "    An = [np.exp(-(x + 0.5*Dx)**2)*Dx for x in xn]\n",
    "    I = sum(An)\n",
    "    print('N =', N, ' Integral: I =', I, 'Error: ', abs(I - np.sqrt(np.pi)/2))"
   ]
  },
  {
   "cell_type": "markdown",
   "id": "manual-breast",
   "metadata": {},
   "source": [
    "Notice how few rectangles (and therefore calculations we need) compared to the Riemann Sum method.\n",
    "\n",
    "| Number of Rectangles $N$ | Riemann Sum $I$ | Error $~~~$ | Number of Rectangles $N$ | Midpoint Method $I$ | Error $\\quad ~~$ |\n",
    "| --- | --- | --- | --- | --- | --- |\n",
    "| $$10^1$$ | $$1.488$$ | $$0.602$$          | $$10$$ | $$0.884$$ | $$0.002$$ |\n",
    "| $$10^2$$ | $$0.946$$ | $$0.060$$          | $$20$$ | $$0.886$$ | $$2.200\\times10^{-12}$$ |\n",
    "| $$10^3$$ | $$0.892$$ | $$0.006$$          | $$30$$ | $$0.886$$ | $$1.110\\times10^{-16}$$ |\n",
    "| $$10^4$$ | $$0.887$$ | $$6\\times10^{-4}$$ | $$40$$ | $$0.886$$ | $$1.110\\times10^{-16}$$ |\n",
    "| $$10^5$$ | $$0.886$$ | $$6\\times10^{-5}$$ | $$50$$ | $$0.886$$ | $$1.110\\times10^{-16}$$ |\n",
    "| $$10^6$$ | $$0.886$$ | $$6\\times10^{-6}$$ | $$60$$ | $$0.886$$ | $$0$$ |"
   ]
  },
  {
   "cell_type": "markdown",
   "id": "hazardous-theology",
   "metadata": {},
   "source": [
    "## The Exact Integral\n",
    "\n",
    "Evaluating $$I = \\int_0^\\infty \\textrm{e}^{-x^2}\\,\\textrm{d}x$$ is a famous problem.  One way of doing it is as follows.  First of all we consider $I^2$ which we can write as\n",
    "\n",
    "$$I^2 = \\left\\{\\int_0^\\infty \\textrm{e}^{-x^2}\\,\\textrm{d}x\\right\\}\\left\\{\\int_0^\\infty \\textrm{e}^{-x^2}\\,\\textrm{d}x\\right\\}.$$\n",
    "\n",
    "Since the value of a definite integral is independent of the variable we choose to integrate over, we can rewrite the second of the integrals replacing $x$ with $y$ as follows\n",
    "\n",
    "$$I^2 = \\left\\{\\int_0^\\infty \\textrm{e}^{-x^2}\\,\\textrm{d}x\\right\\}\\left\\{\\int_0^\\infty \\textrm{e}^{-y^2}\\,\\textrm{d}y\\right\\}.$$\n",
    "\n",
    "We know that $I = \\int_0^\\infty \\textrm{e}^{-x^2}\\,\\textrm{d}x$ is just a number, a constant which we can bring inside the second integral so that\n",
    "\n",
    "$$I^2 = \\int_0^\\infty \\left\\{\\int_0^\\infty \\textrm{e}^{-x^2}\\,\\textrm{d}x\\right\\} \\textrm{e}^{-y^2}\\,\\textrm{d}y.$$\n",
    "\n",
    "This inner integral is an integral over the variable $x$, as far as it is concerned $\\textrm{e}^{-y^2}$ is just a constant, so we can bring the $\\textrm{e}^{-y^2}$ inside the inner integral giving\n",
    "\n",
    "$$I^2 = \\int_0^\\infty \\left\\{\\int_0^\\infty \\textrm{e}^{-x^2}\\textrm{e}^{-y^2}\\,\\textrm{d}x\\right\\} \\,\\textrm{d}y\n",
    "= \\int_0^\\infty \\left\\{\\int_0^\\infty \\textrm{e}^{-(x^2 + y^2)}\\,\\textrm{d}x\\right\\} \\,\\textrm{d}y$$\n",
    "\n",
    "We can interpret this as a sum over the first quadrant ($0\\leqslant x <\\infty, 0 \\leqslant y < \\infty$) of a series of cuboids of height $\\textrm{e}^{-(x^2 + y^2)}$ and cross-sectional area $\\textrm{d}x\\times\\textrm{d}y$\n",
    "\n",
    "$$I^2 = \\int_0^\\infty\\!\\!\\int_0^\\infty \\textrm{e}^{-\\left(x^2+y^2\\right)}\\textrm{d}x\\,\\textrm{d}y$$\n",
    "\n",
    "To evaluate the integral we switch into polar coordinates where $x = r\\cos\\theta$ and $y = r\\sin\\theta$ so that $x^2 + y^2 = r^2$ and $\\textrm{d}x\\,\\textrm{d}y = r\\,\\textrm{d}r\\,\\textrm{d}\\theta$ as shown in Figure 6.\n",
    "\n",
    "<div style=\"text-align:center;\">\n",
    "<img src=\"numerical_integration_6.png\" alt=\"figure\" width = \"800\"/>\n",
    "    <strong><center>Figure 6</center></strong>\n",
    "</div>\n",
    "\n",
    "The first quadrant is covered by $0\\leqslant r < \\infty$ and $0 \\leqslant \\theta \\leqslant \\frac{\\pi}{2}$, hence\n",
    "\n",
    "$$I^2 = \\int_0^\\infty\\!\\!\\int_0^\\infty \\textrm{e}^{-\\left(x^2+y^2\\right)}\\textrm{d}x\\,\\textrm{d}y\n",
    "=\\int_0^{\\pi/2}\\int_0^\\infty r\\,\\textrm{e}^{-r^2}\\,\\textrm{d}r\\,\\textrm{d}\\theta\n",
    "=\\frac{\\pi}{2}\\int_0^\\infty r\\,\\textrm{e}^{-r^2}\\,\\textrm{d}r$$\n",
    "\n",
    "This final integral can be evaluated, giving\n",
    "\n",
    "$$I^2 = \\frac{\\pi}{2}\\left[-\\frac{1}{2}\\textrm{e}^{-r^2}\\right]_0^\\infty = \\frac{\\pi}{4} \\quad\\Rightarrow\\quad\n",
    "I = \\frac{\\sqrt{\\pi}}{2},$$\n",
    "\n",
    "since the integrand is always greater than 0."
   ]
  }
 ],
 "metadata": {
  "kernelspec": {
   "display_name": "Python 3",
   "language": "python",
   "name": "python3"
  },
  "language_info": {
   "codemirror_mode": {
    "name": "ipython",
    "version": 3
   },
   "file_extension": ".py",
   "mimetype": "text/x-python",
   "name": "python",
   "nbconvert_exporter": "python",
   "pygments_lexer": "ipython3",
   "version": "3.9.2"
  }
 },
 "nbformat": 4,
 "nbformat_minor": 5
}
